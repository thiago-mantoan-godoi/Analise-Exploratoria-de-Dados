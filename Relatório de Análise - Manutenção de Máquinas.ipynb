{
 "cells": [
  {
   "cell_type": "markdown",
   "id": "14231169",
   "metadata": {
    "papermill": {
     "duration": 0.022964,
     "end_time": "2022-11-01T17:16:13.879774",
     "exception": false,
     "start_time": "2022-11-01T17:16:13.856810",
     "status": "completed"
    },
    "tags": []
   },
   "source": [
    "# Dataset\n",
    "O dataset é um conjunto de dados real de pedidos de manutenção de máquinas de uma fabricante multinacional de pneus."
   ]
  },
  {
   "cell_type": "markdown",
   "id": "02acf8ea",
   "metadata": {
    "papermill": {
     "duration": 0.018243,
     "end_time": "2022-11-01T17:16:13.917161",
     "exception": false,
     "start_time": "2022-11-01T17:16:13.898918",
     "status": "completed"
    },
    "tags": []
   },
   "source": [
    "## Dicionário de dados\n",
    "### As colunas dos dados representam as seguintes informações:\n",
    "* **n_nota** - Número da nota gerada ao solicitar uma manutenção.\n",
    "* **consequencia** - Ao gerar uma nota, o colaborador tem que colocar uma consequência, que são divididas em 3 e significam:\n",
    "  * 1 - Máquina parada;\n",
    "  * 2 - Máquina com parada parcial;\n",
    "  * 3 - Máquina em funcionamento.\n",
    "* **n_ordem** - Número de ordem gerada pela equipe de manutenção, ao atender uma solicitação.\n",
    "* **rank** - O rank é um input manual que a equipe de manutenção faz para categorizar o tempo necessário para e execução. Ele é dividido em A, B, C e D, que significam:\n",
    "  * A - manutenções com duração maiores ou iguais à 240 minutos.\n",
    "  * B - manutenções com duração entre 20 e 240 minutos.\n",
    "  * C - manutenções com duração entre 0 e 20 minutos.\n",
    "  * D - manutenção de máquinas específicas independente do tempo.\n",
    "* **centro_custo** - Centro de custo de onde a solicitação de manutenção está sendo emitida, indica também onde a máquina sujeita a manutenção está localizada.\n",
    "* **equipamento** - Indica o máquina que necessita de manutenção. Os nomes dos equipamentos foram alterados para manter o sigilo da empresa.\n",
    "* **data_inicio** - A data em que foi aberta a solicitação de manutenção.\n",
    "* **hora_inicio** - A hora que a solicitação foi requisitada. \n",
    "* **hora_ordem** - Hora do início da manutenção\n",
    "* **hora_fim** - O horário do fim da manutenção.\n",
    "* **data_fim** - Data do fim da manutenção.\n",
    "* **custo_de_pecas** - O custo da manutenção em Reais.\n",
    "* **tempo_real** - O tempo que levou desde a solicitação até o fim da manutenção (hora_inicio - hora_fim)\n",
    "* **tempo_manutenção** - O tempo que levou para ser realizada a manutenção a partir da chegada do técnico ao local (hora_ordem - hora_fim)\n"
   ]
  },
  {
   "cell_type": "markdown",
   "id": "f1f0b11a",
   "metadata": {
    "papermill": {
     "duration": 0.018167,
     "end_time": "2022-11-01T17:16:13.953879",
     "exception": false,
     "start_time": "2022-11-01T17:16:13.935712",
     "status": "completed"
    },
    "tags": []
   },
   "source": [
    "## Bibliotecas"
   ]
  },
  {
   "cell_type": "code",
   "execution_count": 1,
   "id": "93f437b7",
   "metadata": {
    "execution": {
     "iopub.execute_input": "2022-11-01T17:16:13.992846Z",
     "iopub.status.busy": "2022-11-01T17:16:13.991966Z",
     "iopub.status.idle": "2022-11-01T17:16:16.232330Z",
     "shell.execute_reply": "2022-11-01T17:16:16.231469Z"
    },
    "papermill": {
     "duration": 2.262744,
     "end_time": "2022-11-01T17:16:16.235076",
     "exception": false,
     "start_time": "2022-11-01T17:16:13.972332",
     "status": "completed"
    },
    "tags": []
   },
   "outputs": [],
   "source": [
    "import pandas as pd\n",
    "import numpy as np\n",
    "import matplotlib.pyplot as plt\n",
    "import plotly.express as px\n",
    "import seaborn as sns\n",
    "from ipywidgets import Dropdown, FloatSlider, IntSlider, interact\n",
    "from sklearn.impute import SimpleImputer\n",
    "from sklearn.linear_model import LinearRegression, Ridge  # noqa F401\n",
    "from sklearn.metrics import mean_absolute_error\n",
    "from sklearn.pipeline import make_pipeline\n",
    "from sklearn.utils.validation import check_is_fitted\n",
    "from category_encoders import OneHotEncoder\n",
    "from sklearn.model_selection import train_test_split\n",
    "import warnings\n",
    "#warnings.simplefilter(action=\"ignore\", category=np.VisibleDeprecationWarning)\n",
    "warnings.simplefilter(action=\"ignore\", category= UserWarning)\n",
    "#warnings.simplefilter(action=\"ignore\", category= pd.core.common.SettingWithCopyWarning)\n",
    "warnings.simplefilter(action=\"ignore\", category=FutureWarning)"
   ]
  },
  {
   "cell_type": "markdown",
   "id": "aebc67cd",
   "metadata": {
    "papermill": {
     "duration": 0.018414,
     "end_time": "2022-11-01T17:16:16.271888",
     "exception": false,
     "start_time": "2022-11-01T17:16:16.253474",
     "status": "completed"
    },
    "tags": []
   },
   "source": [
    "## Dados\n",
    "Realizando a leitura dos dados "
   ]
  },
  {
   "cell_type": "code",
   "execution_count": 2,
   "id": "a17c671a",
   "metadata": {
    "execution": {
     "iopub.execute_input": "2022-11-01T17:16:16.310987Z",
     "iopub.status.busy": "2022-11-01T17:16:16.310326Z",
     "iopub.status.idle": "2022-11-01T17:16:17.287877Z",
     "shell.execute_reply": "2022-11-01T17:16:17.286698Z"
    },
    "papermill": {
     "duration": 0.999936,
     "end_time": "2022-11-01T17:16:17.290419",
     "exception": false,
     "start_time": "2022-11-01T17:16:16.290483",
     "status": "completed"
    },
    "tags": []
   },
   "outputs": [],
   "source": [
    "df = pd.read_csv(\"Datasets/Dados de manutenção de Máquinas.csv\")"
   ]
  },
  {
   "cell_type": "code",
   "execution_count": 3,
   "id": "891cd819",
   "metadata": {
    "execution": {
     "iopub.execute_input": "2022-11-01T17:16:17.329545Z",
     "iopub.status.busy": "2022-11-01T17:16:17.329225Z",
     "iopub.status.idle": "2022-11-01T17:16:17.353846Z",
     "shell.execute_reply": "2022-11-01T17:16:17.352835Z"
    },
    "papermill": {
     "duration": 0.046836,
     "end_time": "2022-11-01T17:16:17.356368",
     "exception": false,
     "start_time": "2022-11-01T17:16:17.309532",
     "status": "completed"
    },
    "tags": []
   },
   "outputs": [
    {
     "data": {
      "text/html": [
       "<div>\n",
       "<style scoped>\n",
       "    .dataframe tbody tr th:only-of-type {\n",
       "        vertical-align: middle;\n",
       "    }\n",
       "\n",
       "    .dataframe tbody tr th {\n",
       "        vertical-align: top;\n",
       "    }\n",
       "\n",
       "    .dataframe thead th {\n",
       "        text-align: right;\n",
       "    }\n",
       "</style>\n",
       "<table border=\"1\" class=\"dataframe\">\n",
       "  <thead>\n",
       "    <tr style=\"text-align: right;\">\n",
       "      <th></th>\n",
       "      <th>Unnamed: 0.1</th>\n",
       "      <th>Unnamed: 0</th>\n",
       "      <th>n_nota</th>\n",
       "      <th>consequencia</th>\n",
       "      <th>n_ordem</th>\n",
       "      <th>rank</th>\n",
       "      <th>centro_custo</th>\n",
       "      <th>equipamento</th>\n",
       "      <th>data_inicio</th>\n",
       "      <th>hora_inicio</th>\n",
       "      <th>hora_ordem</th>\n",
       "      <th>hora_fim</th>\n",
       "      <th>data_fim</th>\n",
       "      <th>custo_de_pecas</th>\n",
       "      <th>tempo_real</th>\n",
       "      <th>tempo_manutencao</th>\n",
       "    </tr>\n",
       "  </thead>\n",
       "  <tbody>\n",
       "    <tr>\n",
       "      <th>0</th>\n",
       "      <td>0</td>\n",
       "      <td>0</td>\n",
       "      <td>1001950445</td>\n",
       "      <td>1</td>\n",
       "      <td>NaN</td>\n",
       "      <td>NaN</td>\n",
       "      <td>25B1112</td>\n",
       "      <td>Equipamento 1</td>\n",
       "      <td>2015-01-12</td>\n",
       "      <td>09:08:06</td>\n",
       "      <td>00:00:00</td>\n",
       "      <td>00:00:00</td>\n",
       "      <td>NaN</td>\n",
       "      <td>0.00</td>\n",
       "      <td>0.0</td>\n",
       "      <td>0.0</td>\n",
       "    </tr>\n",
       "    <tr>\n",
       "      <th>1</th>\n",
       "      <td>1</td>\n",
       "      <td>1</td>\n",
       "      <td>1001950446</td>\n",
       "      <td>1</td>\n",
       "      <td>5.000116e+09</td>\n",
       "      <td>NaN</td>\n",
       "      <td>25B1112</td>\n",
       "      <td>Equipamento 1</td>\n",
       "      <td>2015-01-12</td>\n",
       "      <td>09:10:07</td>\n",
       "      <td>10:17:52</td>\n",
       "      <td>00:00:00</td>\n",
       "      <td>NaN</td>\n",
       "      <td>0.00</td>\n",
       "      <td>0.0</td>\n",
       "      <td>0.0</td>\n",
       "    </tr>\n",
       "    <tr>\n",
       "      <th>2</th>\n",
       "      <td>2</td>\n",
       "      <td>2</td>\n",
       "      <td>1001950447</td>\n",
       "      <td>1</td>\n",
       "      <td>5.000116e+09</td>\n",
       "      <td>NaN</td>\n",
       "      <td>25B1112</td>\n",
       "      <td>Equipamento 1</td>\n",
       "      <td>2015-01-12</td>\n",
       "      <td>09:12:02</td>\n",
       "      <td>10:16:03</td>\n",
       "      <td>00:00:00</td>\n",
       "      <td>NaN</td>\n",
       "      <td>601.89</td>\n",
       "      <td>0.0</td>\n",
       "      <td>0.0</td>\n",
       "    </tr>\n",
       "    <tr>\n",
       "      <th>3</th>\n",
       "      <td>3</td>\n",
       "      <td>3</td>\n",
       "      <td>1001950448</td>\n",
       "      <td>1</td>\n",
       "      <td>NaN</td>\n",
       "      <td>NaN</td>\n",
       "      <td>25B1112</td>\n",
       "      <td>Equipamento 1</td>\n",
       "      <td>2015-01-12</td>\n",
       "      <td>09:12:48</td>\n",
       "      <td>00:00:00</td>\n",
       "      <td>00:00:00</td>\n",
       "      <td>NaN</td>\n",
       "      <td>0.00</td>\n",
       "      <td>0.0</td>\n",
       "      <td>0.0</td>\n",
       "    </tr>\n",
       "    <tr>\n",
       "      <th>4</th>\n",
       "      <td>4</td>\n",
       "      <td>4</td>\n",
       "      <td>1001950616</td>\n",
       "      <td>1</td>\n",
       "      <td>5.000116e+09</td>\n",
       "      <td>NaN</td>\n",
       "      <td>25B1112</td>\n",
       "      <td>Equipamento 1</td>\n",
       "      <td>2015-01-12</td>\n",
       "      <td>14:34:16</td>\n",
       "      <td>21:15:20</td>\n",
       "      <td>00:00:00</td>\n",
       "      <td>NaN</td>\n",
       "      <td>0.00</td>\n",
       "      <td>0.0</td>\n",
       "      <td>0.0</td>\n",
       "    </tr>\n",
       "  </tbody>\n",
       "</table>\n",
       "</div>"
      ],
      "text/plain": [
       "   Unnamed: 0.1  Unnamed: 0      n_nota  consequencia       n_ordem rank  \\\n",
       "0             0           0  1001950445             1           NaN  NaN   \n",
       "1             1           1  1001950446             1  5.000116e+09  NaN   \n",
       "2             2           2  1001950447             1  5.000116e+09  NaN   \n",
       "3             3           3  1001950448             1           NaN  NaN   \n",
       "4             4           4  1001950616             1  5.000116e+09  NaN   \n",
       "\n",
       "  centro_custo    equipamento data_inicio hora_inicio hora_ordem  hora_fim  \\\n",
       "0      25B1112  Equipamento 1  2015-01-12    09:08:06   00:00:00  00:00:00   \n",
       "1      25B1112  Equipamento 1  2015-01-12    09:10:07   10:17:52  00:00:00   \n",
       "2      25B1112  Equipamento 1  2015-01-12    09:12:02   10:16:03  00:00:00   \n",
       "3      25B1112  Equipamento 1  2015-01-12    09:12:48   00:00:00  00:00:00   \n",
       "4      25B1112  Equipamento 1  2015-01-12    14:34:16   21:15:20  00:00:00   \n",
       "\n",
       "  data_fim  custo_de_pecas  tempo_real  tempo_manutencao  \n",
       "0      NaN            0.00         0.0               0.0  \n",
       "1      NaN            0.00         0.0               0.0  \n",
       "2      NaN          601.89         0.0               0.0  \n",
       "3      NaN            0.00         0.0               0.0  \n",
       "4      NaN            0.00         0.0               0.0  "
      ]
     },
     "execution_count": 3,
     "metadata": {},
     "output_type": "execute_result"
    }
   ],
   "source": [
    "df.head()"
   ]
  },
  {
   "cell_type": "markdown",
   "id": "7975c8fe",
   "metadata": {
    "papermill": {
     "duration": 0.019078,
     "end_time": "2022-11-01T17:16:17.395029",
     "exception": false,
     "start_time": "2022-11-01T17:16:17.375951",
     "status": "completed"
    },
    "tags": []
   },
   "source": [
    "Verificando o número de NA's:"
   ]
  },
  {
   "cell_type": "code",
   "execution_count": 4,
   "id": "cda067d7",
   "metadata": {
    "execution": {
     "iopub.execute_input": "2022-11-01T17:16:17.436177Z",
     "iopub.status.busy": "2022-11-01T17:16:17.435345Z",
     "iopub.status.idle": "2022-11-01T17:16:17.530110Z",
     "shell.execute_reply": "2022-11-01T17:16:17.529209Z"
    },
    "papermill": {
     "duration": 0.116958,
     "end_time": "2022-11-01T17:16:17.532233",
     "exception": false,
     "start_time": "2022-11-01T17:16:17.415275",
     "status": "completed"
    },
    "tags": []
   },
   "outputs": [
    {
     "data": {
      "text/plain": [
       "Unnamed: 0.1            0\n",
       "Unnamed: 0              0\n",
       "n_nota                  0\n",
       "consequencia            0\n",
       "n_ordem             34956\n",
       "rank                56742\n",
       "centro_custo            1\n",
       "equipamento             0\n",
       "data_inicio             0\n",
       "hora_inicio             0\n",
       "hora_ordem              0\n",
       "hora_fim                0\n",
       "data_fim            47538\n",
       "custo_de_pecas          0\n",
       "tempo_real              0\n",
       "tempo_manutencao        0\n",
       "dtype: int64"
      ]
     },
     "execution_count": 4,
     "metadata": {},
     "output_type": "execute_result"
    }
   ],
   "source": [
    "df.isna().sum()"
   ]
  },
  {
   "cell_type": "markdown",
   "id": "c5df0993",
   "metadata": {
    "papermill": {
     "duration": 0.019386,
     "end_time": "2022-11-01T17:16:17.571263",
     "exception": false,
     "start_time": "2022-11-01T17:16:17.551877",
     "status": "completed"
    },
    "tags": []
   },
   "source": [
    "Analisando as variáveis do dataset:"
   ]
  },
  {
   "cell_type": "code",
   "execution_count": 5,
   "id": "01da0289",
   "metadata": {
    "execution": {
     "iopub.execute_input": "2022-11-01T17:16:17.611218Z",
     "iopub.status.busy": "2022-11-01T17:16:17.610278Z",
     "iopub.status.idle": "2022-11-01T17:16:17.713420Z",
     "shell.execute_reply": "2022-11-01T17:16:17.712415Z"
    },
    "papermill": {
     "duration": 0.125131,
     "end_time": "2022-11-01T17:16:17.715545",
     "exception": false,
     "start_time": "2022-11-01T17:16:17.590414",
     "status": "completed"
    },
    "tags": []
   },
   "outputs": [
    {
     "data": {
      "text/html": [
       "<div>\n",
       "<style scoped>\n",
       "    .dataframe tbody tr th:only-of-type {\n",
       "        vertical-align: middle;\n",
       "    }\n",
       "\n",
       "    .dataframe tbody tr th {\n",
       "        vertical-align: top;\n",
       "    }\n",
       "\n",
       "    .dataframe thead th {\n",
       "        text-align: right;\n",
       "    }\n",
       "</style>\n",
       "<table border=\"1\" class=\"dataframe\">\n",
       "  <thead>\n",
       "    <tr style=\"text-align: right;\">\n",
       "      <th></th>\n",
       "      <th>Unnamed: 0.1</th>\n",
       "      <th>Unnamed: 0</th>\n",
       "      <th>n_nota</th>\n",
       "      <th>consequencia</th>\n",
       "      <th>n_ordem</th>\n",
       "      <th>custo_de_pecas</th>\n",
       "      <th>tempo_real</th>\n",
       "      <th>tempo_manutencao</th>\n",
       "    </tr>\n",
       "  </thead>\n",
       "  <tbody>\n",
       "    <tr>\n",
       "      <th>count</th>\n",
       "      <td>259534.000000</td>\n",
       "      <td>259534.000000</td>\n",
       "      <td>2.595340e+05</td>\n",
       "      <td>259534.000000</td>\n",
       "      <td>2.245780e+05</td>\n",
       "      <td>259534.000000</td>\n",
       "      <td>259534.000000</td>\n",
       "      <td>259534.000000</td>\n",
       "    </tr>\n",
       "    <tr>\n",
       "      <th>mean</th>\n",
       "      <td>129766.500000</td>\n",
       "      <td>129766.500000</td>\n",
       "      <td>1.002848e+09</td>\n",
       "      <td>1.574653</td>\n",
       "      <td>5.000238e+09</td>\n",
       "      <td>147.853444</td>\n",
       "      <td>81.237776</td>\n",
       "      <td>50.355905</td>\n",
       "    </tr>\n",
       "    <tr>\n",
       "      <th>std</th>\n",
       "      <td>74921.156719</td>\n",
       "      <td>74921.156719</td>\n",
       "      <td>4.463661e+05</td>\n",
       "      <td>0.891788</td>\n",
       "      <td>6.971077e+04</td>\n",
       "      <td>1224.174016</td>\n",
       "      <td>1932.582699</td>\n",
       "      <td>1810.054281</td>\n",
       "    </tr>\n",
       "    <tr>\n",
       "      <th>min</th>\n",
       "      <td>0.000000</td>\n",
       "      <td>0.000000</td>\n",
       "      <td>1.001950e+09</td>\n",
       "      <td>1.000000</td>\n",
       "      <td>5.000116e+09</td>\n",
       "      <td>-5052.870000</td>\n",
       "      <td>0.000000</td>\n",
       "      <td>0.000000</td>\n",
       "    </tr>\n",
       "    <tr>\n",
       "      <th>25%</th>\n",
       "      <td>64883.250000</td>\n",
       "      <td>64883.250000</td>\n",
       "      <td>1.002487e+09</td>\n",
       "      <td>1.000000</td>\n",
       "      <td>5.000177e+09</td>\n",
       "      <td>0.000000</td>\n",
       "      <td>8.600000</td>\n",
       "      <td>0.000000</td>\n",
       "    </tr>\n",
       "    <tr>\n",
       "      <th>50%</th>\n",
       "      <td>129766.500000</td>\n",
       "      <td>129766.500000</td>\n",
       "      <td>1.002910e+09</td>\n",
       "      <td>1.000000</td>\n",
       "      <td>5.000238e+09</td>\n",
       "      <td>0.000000</td>\n",
       "      <td>30.470000</td>\n",
       "      <td>7.680000</td>\n",
       "    </tr>\n",
       "    <tr>\n",
       "      <th>75%</th>\n",
       "      <td>194649.750000</td>\n",
       "      <td>194649.750000</td>\n",
       "      <td>1.003234e+09</td>\n",
       "      <td>3.000000</td>\n",
       "      <td>5.000298e+09</td>\n",
       "      <td>0.000000</td>\n",
       "      <td>75.050000</td>\n",
       "      <td>37.330000</td>\n",
       "    </tr>\n",
       "    <tr>\n",
       "      <th>max</th>\n",
       "      <td>259533.000000</td>\n",
       "      <td>259533.000000</td>\n",
       "      <td>1.003520e+09</td>\n",
       "      <td>8.000000</td>\n",
       "      <td>5.000357e+09</td>\n",
       "      <td>112617.080000</td>\n",
       "      <td>526030.950000</td>\n",
       "      <td>525942.820000</td>\n",
       "    </tr>\n",
       "  </tbody>\n",
       "</table>\n",
       "</div>"
      ],
      "text/plain": [
       "        Unnamed: 0.1     Unnamed: 0        n_nota   consequencia  \\\n",
       "count  259534.000000  259534.000000  2.595340e+05  259534.000000   \n",
       "mean   129766.500000  129766.500000  1.002848e+09       1.574653   \n",
       "std     74921.156719   74921.156719  4.463661e+05       0.891788   \n",
       "min         0.000000       0.000000  1.001950e+09       1.000000   \n",
       "25%     64883.250000   64883.250000  1.002487e+09       1.000000   \n",
       "50%    129766.500000  129766.500000  1.002910e+09       1.000000   \n",
       "75%    194649.750000  194649.750000  1.003234e+09       3.000000   \n",
       "max    259533.000000  259533.000000  1.003520e+09       8.000000   \n",
       "\n",
       "            n_ordem  custo_de_pecas     tempo_real  tempo_manutencao  \n",
       "count  2.245780e+05   259534.000000  259534.000000     259534.000000  \n",
       "mean   5.000238e+09      147.853444      81.237776         50.355905  \n",
       "std    6.971077e+04     1224.174016    1932.582699       1810.054281  \n",
       "min    5.000116e+09    -5052.870000       0.000000          0.000000  \n",
       "25%    5.000177e+09        0.000000       8.600000          0.000000  \n",
       "50%    5.000238e+09        0.000000      30.470000          7.680000  \n",
       "75%    5.000298e+09        0.000000      75.050000         37.330000  \n",
       "max    5.000357e+09   112617.080000  526030.950000     525942.820000  "
      ]
     },
     "execution_count": 5,
     "metadata": {},
     "output_type": "execute_result"
    }
   ],
   "source": [
    "df.describe()"
   ]
  },
  {
   "cell_type": "markdown",
   "id": "17d9bcc2",
   "metadata": {
    "papermill": {
     "duration": 0.019944,
     "end_time": "2022-11-01T17:16:17.755958",
     "exception": false,
     "start_time": "2022-11-01T17:16:17.736014",
     "status": "completed"
    },
    "tags": []
   },
   "source": [
    "## Limpeza dos dados\n",
    "\n",
    "### Exclusão de colunas e substituição dos tipos de dados. "
   ]
  },
  {
   "cell_type": "code",
   "execution_count": 6,
   "id": "a07f019b",
   "metadata": {
    "execution": {
     "iopub.execute_input": "2022-11-01T17:16:17.799001Z",
     "iopub.status.busy": "2022-11-01T17:16:17.798617Z",
     "iopub.status.idle": "2022-11-01T17:16:17.897225Z",
     "shell.execute_reply": "2022-11-01T17:16:17.896056Z"
    },
    "papermill": {
     "duration": 0.124273,
     "end_time": "2022-11-01T17:16:17.900991",
     "exception": false,
     "start_time": "2022-11-01T17:16:17.776718",
     "status": "completed"
    },
    "tags": []
   },
   "outputs": [
    {
     "name": "stdout",
     "output_type": "stream",
     "text": [
      "<class 'pandas.core.frame.DataFrame'>\n",
      "RangeIndex: 259534 entries, 0 to 259533\n",
      "Data columns (total 16 columns):\n",
      " #   Column            Non-Null Count   Dtype  \n",
      "---  ------            --------------   -----  \n",
      " 0   Unnamed: 0.1      259534 non-null  int64  \n",
      " 1   Unnamed: 0        259534 non-null  int64  \n",
      " 2   n_nota            259534 non-null  int64  \n",
      " 3   consequencia      259534 non-null  int64  \n",
      " 4   n_ordem           224578 non-null  float64\n",
      " 5   rank              202792 non-null  object \n",
      " 6   centro_custo      259533 non-null  object \n",
      " 7   equipamento       259534 non-null  object \n",
      " 8   data_inicio       259534 non-null  object \n",
      " 9   hora_inicio       259534 non-null  object \n",
      " 10  hora_ordem        259534 non-null  object \n",
      " 11  hora_fim          259534 non-null  object \n",
      " 12  data_fim          211996 non-null  object \n",
      " 13  custo_de_pecas    259534 non-null  float64\n",
      " 14  tempo_real        259534 non-null  float64\n",
      " 15  tempo_manutencao  259534 non-null  float64\n",
      "dtypes: float64(4), int64(4), object(8)\n",
      "memory usage: 31.7+ MB\n"
     ]
    }
   ],
   "source": [
    "df.info()"
   ]
  },
  {
   "cell_type": "markdown",
   "id": "6affb559",
   "metadata": {
    "papermill": {
     "duration": 0.020147,
     "end_time": "2022-11-01T17:16:17.943437",
     "exception": false,
     "start_time": "2022-11-01T17:16:17.923290",
     "status": "completed"
    },
    "tags": []
   },
   "source": [
    "Preenchendo os NaN's da coluna rank: "
   ]
  },
  {
   "cell_type": "code",
   "execution_count": 7,
   "id": "df0c1b51",
   "metadata": {
    "execution": {
     "iopub.execute_input": "2022-11-01T17:16:17.984294Z",
     "iopub.status.busy": "2022-11-01T17:16:17.983357Z",
     "iopub.status.idle": "2022-11-01T17:16:18.000755Z",
     "shell.execute_reply": "2022-11-01T17:16:18.000031Z"
    },
    "papermill": {
     "duration": 0.039799,
     "end_time": "2022-11-01T17:16:18.002780",
     "exception": false,
     "start_time": "2022-11-01T17:16:17.962981",
     "status": "completed"
    },
    "tags": []
   },
   "outputs": [],
   "source": [
    "df[\"rank\"].fillna(\"Sem rank\", inplace=True)"
   ]
  },
  {
   "cell_type": "markdown",
   "id": "0d087bd1",
   "metadata": {
    "papermill": {
     "duration": 0.019879,
     "end_time": "2022-11-01T17:16:18.042603",
     "exception": false,
     "start_time": "2022-11-01T17:16:18.022724",
     "status": "completed"
    },
    "tags": []
   },
   "source": [
    "As colunas \"Unnamed: 0\" e \"Unnamed: 0.1\" não representam informações úteis, logo serão descartadas:"
   ]
  },
  {
   "cell_type": "code",
   "execution_count": 8,
   "id": "8538b638",
   "metadata": {
    "execution": {
     "iopub.execute_input": "2022-11-01T17:16:18.085319Z",
     "iopub.status.busy": "2022-11-01T17:16:18.084667Z",
     "iopub.status.idle": "2022-11-01T17:16:18.117993Z",
     "shell.execute_reply": "2022-11-01T17:16:18.117193Z"
    },
    "papermill": {
     "duration": 0.057833,
     "end_time": "2022-11-01T17:16:18.120323",
     "exception": false,
     "start_time": "2022-11-01T17:16:18.062490",
     "status": "completed"
    },
    "tags": []
   },
   "outputs": [],
   "source": [
    "df.drop(columns=[\"Unnamed: 0\", \"Unnamed: 0.1\"], inplace=True)"
   ]
  },
  {
   "cell_type": "markdown",
   "id": "c89ba447",
   "metadata": {
    "papermill": {
     "duration": 0.020052,
     "end_time": "2022-11-01T17:16:18.160330",
     "exception": false,
     "start_time": "2022-11-01T17:16:18.140278",
     "status": "completed"
    },
    "tags": []
   },
   "source": [
    "Transformando os valores \"00:00:00\" em NaN, uma vez que esse input é dado quando não há registro:"
   ]
  },
  {
   "cell_type": "code",
   "execution_count": 9,
   "id": "75dc6318",
   "metadata": {
    "execution": {
     "iopub.execute_input": "2022-11-01T17:16:18.202690Z",
     "iopub.status.busy": "2022-11-01T17:16:18.202084Z",
     "iopub.status.idle": "2022-11-01T17:16:18.285702Z",
     "shell.execute_reply": "2022-11-01T17:16:18.284574Z"
    },
    "papermill": {
     "duration": 0.107857,
     "end_time": "2022-11-01T17:16:18.288268",
     "exception": false,
     "start_time": "2022-11-01T17:16:18.180411",
     "status": "completed"
    },
    "tags": []
   },
   "outputs": [],
   "source": [
    "df[[\"hora_fim\", \"hora_ordem\"]] = df[[\"hora_fim\", \"hora_ordem\"]].replace({\"00:00:00\": np.nan})"
   ]
  },
  {
   "cell_type": "markdown",
   "id": "c19c8691",
   "metadata": {
    "papermill": {
     "duration": 0.020133,
     "end_time": "2022-11-01T17:16:18.328401",
     "exception": false,
     "start_time": "2022-11-01T17:16:18.308268",
     "status": "completed"
    },
    "tags": []
   },
   "source": [
    "Transformando as colunas hora_ordem, data_inicio e data_fim em formato de datetime (\"%Y-%m-%d %H:%M:S\"):"
   ]
  },
  {
   "cell_type": "code",
   "execution_count": 10,
   "id": "2771224c",
   "metadata": {
    "execution": {
     "iopub.execute_input": "2022-11-01T17:16:18.373936Z",
     "iopub.status.busy": "2022-11-01T17:16:18.373298Z",
     "iopub.status.idle": "2022-11-01T17:16:18.646811Z",
     "shell.execute_reply": "2022-11-01T17:16:18.645702Z"
    },
    "papermill": {
     "duration": 0.300094,
     "end_time": "2022-11-01T17:16:18.649218",
     "exception": false,
     "start_time": "2022-11-01T17:16:18.349124",
     "status": "completed"
    },
    "tags": []
   },
   "outputs": [],
   "source": [
    "df[\"data_fim\"] = pd.to_datetime(df[\"data_fim\"], utc=True).dt.tz_convert(None)\n",
    "df[\"data_inicio\"] = pd.to_datetime(df[\"data_inicio\"], utc=True).dt.tz_convert(None)\n",
    "df[\"hora_ordem\"] = pd.to_datetime(df[\"hora_ordem\"], utc=True).dt.tz_convert(None)"
   ]
  },
  {
   "cell_type": "code",
   "execution_count": 11,
   "id": "ca928213",
   "metadata": {
    "execution": {
     "iopub.execute_input": "2022-11-01T17:16:18.691290Z",
     "iopub.status.busy": "2022-11-01T17:16:18.690626Z",
     "iopub.status.idle": "2022-11-01T17:17:00.841724Z",
     "shell.execute_reply": "2022-11-01T17:17:00.840550Z"
    },
    "papermill": {
     "duration": 42.175171,
     "end_time": "2022-11-01T17:17:00.844448",
     "exception": false,
     "start_time": "2022-11-01T17:16:18.669277",
     "status": "completed"
    },
    "tags": []
   },
   "outputs": [],
   "source": [
    "# df[\"data_fim\"] =  df[\"data_fim\"].apply(pd.to_datetime)\n",
    "# df[\"data_inicio\"] = df[\"data_inicio\"].astype(\"datetime64[ns]\")\n",
    "# df[\"hora_ordem\"] =  df[\"hora_ordem\"].apply(pd.to_datetime)"
   ]
  },
  {
   "cell_type": "markdown",
   "id": "b90926da",
   "metadata": {
    "papermill": {
     "duration": 0.020117,
     "end_time": "2022-11-01T17:17:00.885588",
     "exception": false,
     "start_time": "2022-11-01T17:17:00.865471",
     "status": "completed"
    },
    "tags": []
   },
   "source": [
    "Removendo as colunas \"hora_inicio\" e \"hora_fim\", uma vez que foram agregadas às colunas de data:"
   ]
  },
  {
   "cell_type": "code",
   "execution_count": 12,
   "id": "ed2d4a00",
   "metadata": {
    "execution": {
     "iopub.execute_input": "2022-11-01T17:17:00.927302Z",
     "iopub.status.busy": "2022-11-01T17:17:00.926898Z",
     "iopub.status.idle": "2022-11-01T17:17:00.965330Z",
     "shell.execute_reply": "2022-11-01T17:17:00.964274Z"
    },
    "papermill": {
     "duration": 0.061999,
     "end_time": "2022-11-01T17:17:00.967723",
     "exception": false,
     "start_time": "2022-11-01T17:17:00.905724",
     "status": "completed"
    },
    "tags": []
   },
   "outputs": [],
   "source": [
    "df.drop(columns=[\"hora_inicio\", \"hora_fim\"], inplace=True)"
   ]
  },
  {
   "cell_type": "code",
   "execution_count": 13,
   "id": "f994238f",
   "metadata": {
    "execution": {
     "iopub.execute_input": "2022-11-01T17:17:01.008963Z",
     "iopub.status.busy": "2022-11-01T17:17:01.008581Z",
     "iopub.status.idle": "2022-11-01T17:17:01.024877Z",
     "shell.execute_reply": "2022-11-01T17:17:01.023963Z"
    },
    "papermill": {
     "duration": 0.039076,
     "end_time": "2022-11-01T17:17:01.026786",
     "exception": false,
     "start_time": "2022-11-01T17:17:00.987710",
     "status": "completed"
    },
    "tags": []
   },
   "outputs": [
    {
     "data": {
      "text/html": [
       "<div>\n",
       "<style scoped>\n",
       "    .dataframe tbody tr th:only-of-type {\n",
       "        vertical-align: middle;\n",
       "    }\n",
       "\n",
       "    .dataframe tbody tr th {\n",
       "        vertical-align: top;\n",
       "    }\n",
       "\n",
       "    .dataframe thead th {\n",
       "        text-align: right;\n",
       "    }\n",
       "</style>\n",
       "<table border=\"1\" class=\"dataframe\">\n",
       "  <thead>\n",
       "    <tr style=\"text-align: right;\">\n",
       "      <th></th>\n",
       "      <th>data_fim</th>\n",
       "      <th>data_inicio</th>\n",
       "      <th>hora_ordem</th>\n",
       "    </tr>\n",
       "  </thead>\n",
       "  <tbody>\n",
       "    <tr>\n",
       "      <th>259529</th>\n",
       "      <td>2022-08-01</td>\n",
       "      <td>2022-08-01</td>\n",
       "      <td>2024-06-25 14:50:12</td>\n",
       "    </tr>\n",
       "    <tr>\n",
       "      <th>259530</th>\n",
       "      <td>2022-08-01</td>\n",
       "      <td>2022-08-01</td>\n",
       "      <td>2024-06-25 22:29:47</td>\n",
       "    </tr>\n",
       "    <tr>\n",
       "      <th>259531</th>\n",
       "      <td>2022-08-01</td>\n",
       "      <td>2022-08-01</td>\n",
       "      <td>2024-06-25 08:47:58</td>\n",
       "    </tr>\n",
       "    <tr>\n",
       "      <th>259532</th>\n",
       "      <td>2022-08-01</td>\n",
       "      <td>2022-08-01</td>\n",
       "      <td>2024-06-25 14:20:31</td>\n",
       "    </tr>\n",
       "    <tr>\n",
       "      <th>259533</th>\n",
       "      <td>2022-08-01</td>\n",
       "      <td>2022-08-01</td>\n",
       "      <td>2024-06-25 10:07:05</td>\n",
       "    </tr>\n",
       "  </tbody>\n",
       "</table>\n",
       "</div>"
      ],
      "text/plain": [
       "         data_fim data_inicio          hora_ordem\n",
       "259529 2022-08-01  2022-08-01 2024-06-25 14:50:12\n",
       "259530 2022-08-01  2022-08-01 2024-06-25 22:29:47\n",
       "259531 2022-08-01  2022-08-01 2024-06-25 08:47:58\n",
       "259532 2022-08-01  2022-08-01 2024-06-25 14:20:31\n",
       "259533 2022-08-01  2022-08-01 2024-06-25 10:07:05"
      ]
     },
     "execution_count": 13,
     "metadata": {},
     "output_type": "execute_result"
    }
   ],
   "source": [
    "df[[\"data_fim\", \"data_inicio\", \"hora_ordem\"]].tail()"
   ]
  },
  {
   "cell_type": "markdown",
   "id": "261eab3a",
   "metadata": {
    "papermill": {
     "duration": 0.019068,
     "end_time": "2022-11-01T17:17:01.066401",
     "exception": false,
     "start_time": "2022-11-01T17:17:01.047333",
     "status": "completed"
    },
    "tags": []
   },
   "source": [
    "# Análise"
   ]
  },
  {
   "cell_type": "markdown",
   "id": "8f396388",
   "metadata": {
    "papermill": {
     "duration": 0.019835,
     "end_time": "2022-11-01T17:17:01.107012",
     "exception": false,
     "start_time": "2022-11-01T17:17:01.087177",
     "status": "completed"
    },
    "tags": []
   },
   "source": [
    "## Análise 1 - Identificar os 3 equipamentos que mais tiveram gasto de manutenção por ano."
   ]
  },
  {
   "cell_type": "code",
   "execution_count": 14,
   "id": "b173d2ae",
   "metadata": {
    "execution": {
     "iopub.execute_input": "2022-11-01T17:17:01.149388Z",
     "iopub.status.busy": "2022-11-01T17:17:01.148975Z",
     "iopub.status.idle": "2022-11-01T17:17:01.207669Z",
     "shell.execute_reply": "2022-11-01T17:17:01.206737Z"
    },
    "papermill": {
     "duration": 0.082791,
     "end_time": "2022-11-01T17:17:01.210147",
     "exception": false,
     "start_time": "2022-11-01T17:17:01.127356",
     "status": "completed"
    },
    "tags": []
   },
   "outputs": [],
   "source": [
    "df_custo_total = df.groupby([df[\"data_inicio\"].dt.year, \"equipamento\"])[\"custo_de_pecas\"].sum().to_frame().reset_index()"
   ]
  },
  {
   "cell_type": "code",
   "execution_count": 15,
   "id": "67f9a396",
   "metadata": {
    "execution": {
     "iopub.execute_input": "2022-11-01T17:17:01.252293Z",
     "iopub.status.busy": "2022-11-01T17:17:01.251888Z",
     "iopub.status.idle": "2022-11-01T17:17:01.267761Z",
     "shell.execute_reply": "2022-11-01T17:17:01.266816Z"
    },
    "papermill": {
     "duration": 0.039522,
     "end_time": "2022-11-01T17:17:01.269805",
     "exception": false,
     "start_time": "2022-11-01T17:17:01.230283",
     "status": "completed"
    },
    "tags": []
   },
   "outputs": [],
   "source": [
    "df_custo_total2 = pd.concat([df_custo_total[df_custo_total[\"data_inicio\"] == 2015].sort_values(\"custo_de_pecas\" ,ascending=False)[0:3],\n",
    "                            df_custo_total[df_custo_total[\"data_inicio\"] == 2016].sort_values(\"custo_de_pecas\" ,ascending=False)[0:3],\n",
    "                           df_custo_total[df_custo_total[\"data_inicio\"] == 2017].sort_values(\"custo_de_pecas\" ,ascending=False)[0:3],\n",
    "                           df_custo_total[df_custo_total[\"data_inicio\"] == 2018].sort_values(\"custo_de_pecas\" ,ascending=False)[0:3],\n",
    "                            df_custo_total[df_custo_total[\"data_inicio\"] == 2019].sort_values(\"custo_de_pecas\" ,ascending=False)[0:3],\n",
    "                            df_custo_total[df_custo_total[\"data_inicio\"] == 2020].sort_values(\"custo_de_pecas\" ,ascending=False)[0:3],\n",
    "                            df_custo_total[df_custo_total[\"data_inicio\"] == 2021].sort_values(\"custo_de_pecas\" ,ascending=False)[0:3]])"
   ]
  },
  {
   "cell_type": "code",
   "execution_count": 16,
   "id": "a71d53e0",
   "metadata": {
    "execution": {
     "iopub.execute_input": "2022-11-01T17:17:01.312105Z",
     "iopub.status.busy": "2022-11-01T17:17:01.311753Z",
     "iopub.status.idle": "2022-11-01T17:17:01.317078Z",
     "shell.execute_reply": "2022-11-01T17:17:01.316373Z"
    },
    "papermill": {
     "duration": 0.028517,
     "end_time": "2022-11-01T17:17:01.318967",
     "exception": false,
     "start_time": "2022-11-01T17:17:01.290450",
     "status": "completed"
    },
    "tags": []
   },
   "outputs": [],
   "source": [
    "df_custo_total2[\"data_inicio\"] = df_custo_total2[\"data_inicio\"].astype(str)\n",
    "df_custo_total2.rename(columns={\"data_inicio\": \"Ano\"}, inplace=True)"
   ]
  },
  {
   "cell_type": "code",
   "execution_count": 17,
   "id": "712344b1",
   "metadata": {
    "execution": {
     "iopub.execute_input": "2022-11-01T17:17:01.361504Z",
     "iopub.status.busy": "2022-11-01T17:17:01.361147Z",
     "iopub.status.idle": "2022-11-01T17:17:02.204422Z",
     "shell.execute_reply": "2022-11-01T17:17:02.203591Z"
    },
    "papermill": {
     "duration": 0.867787,
     "end_time": "2022-11-01T17:17:02.206531",
     "exception": false,
     "start_time": "2022-11-01T17:17:01.338744",
     "status": "completed"
    },
    "tags": []
   },
   "outputs": [
    {
     "data": {
      "application/vnd.plotly.v1+json": {
       "config": {
        "plotlyServerURL": "https://plot.ly"
       },
       "data": [
        {
         "alignmentgroup": "True",
         "hovertemplate": "equipamento=Equipamento 1<br>Ano=%{x}<br>custo_de_pecas=%{y}<extra></extra>",
         "legendgroup": "Equipamento 1",
         "marker": {
          "color": "#e2d9e2",
          "pattern": {
           "shape": ""
          }
         },
         "name": "Equipamento 1",
         "offsetgroup": "Equipamento 1",
         "orientation": "v",
         "showlegend": true,
         "textposition": "auto",
         "type": "bar",
         "x": [
          "2015",
          "2018",
          "2019",
          "2021"
         ],
         "xaxis": "x",
         "y": [
          245904.3,
          215239.36000000002,
          272023.33,
          179013.28
         ],
         "yaxis": "y"
        },
        {
         "alignmentgroup": "True",
         "hovertemplate": "equipamento=Equipamento 76<br>Ano=%{x}<br>custo_de_pecas=%{y}<extra></extra>",
         "legendgroup": "Equipamento 76",
         "marker": {
          "color": "#9ebbc9",
          "pattern": {
           "shape": ""
          }
         },
         "name": "Equipamento 76",
         "offsetgroup": "Equipamento 76",
         "orientation": "v",
         "showlegend": true,
         "textposition": "auto",
         "type": "bar",
         "x": [
          "2015",
          "2016",
          "2017",
          "2018",
          "2019",
          "2020",
          "2021"
         ],
         "xaxis": "x",
         "y": [
          222361.68,
          163844.88,
          260261.45,
          501842.14999999997,
          235733.25,
          233057.47999999998,
          280976.94
         ],
         "yaxis": "y"
        },
        {
         "alignmentgroup": "True",
         "hovertemplate": "equipamento=Equipamento 4<br>Ano=%{x}<br>custo_de_pecas=%{y}<extra></extra>",
         "legendgroup": "Equipamento 4",
         "marker": {
          "color": "#6785be",
          "pattern": {
           "shape": ""
          }
         },
         "name": "Equipamento 4",
         "offsetgroup": "Equipamento 4",
         "orientation": "v",
         "showlegend": true,
         "textposition": "auto",
         "type": "bar",
         "x": [
          "2015",
          "2017"
         ],
         "xaxis": "x",
         "y": [
          146215.07,
          181417.65
         ],
         "yaxis": "y"
        },
        {
         "alignmentgroup": "True",
         "hovertemplate": "equipamento=Equipamento 32<br>Ano=%{x}<br>custo_de_pecas=%{y}<extra></extra>",
         "legendgroup": "Equipamento 32",
         "marker": {
          "color": "#5e43a5",
          "pattern": {
           "shape": ""
          }
         },
         "name": "Equipamento 32",
         "offsetgroup": "Equipamento 32",
         "orientation": "v",
         "showlegend": true,
         "textposition": "auto",
         "type": "bar",
         "x": [
          "2016"
         ],
         "xaxis": "x",
         "y": [
          159379.97
         ],
         "yaxis": "y"
        },
        {
         "alignmentgroup": "True",
         "hovertemplate": "equipamento=Equipamento 9<br>Ano=%{x}<br>custo_de_pecas=%{y}<extra></extra>",
         "legendgroup": "Equipamento 9",
         "marker": {
          "color": "#421257",
          "pattern": {
           "shape": ""
          }
         },
         "name": "Equipamento 9",
         "offsetgroup": "Equipamento 9",
         "orientation": "v",
         "showlegend": true,
         "textposition": "auto",
         "type": "bar",
         "x": [
          "2016"
         ],
         "xaxis": "x",
         "y": [
          140408.77
         ],
         "yaxis": "y"
        },
        {
         "alignmentgroup": "True",
         "hovertemplate": "equipamento=Equipamento 70<br>Ano=%{x}<br>custo_de_pecas=%{y}<extra></extra>",
         "legendgroup": "Equipamento 70",
         "marker": {
          "color": "#471340",
          "pattern": {
           "shape": ""
          }
         },
         "name": "Equipamento 70",
         "offsetgroup": "Equipamento 70",
         "orientation": "v",
         "showlegend": true,
         "textposition": "auto",
         "type": "bar",
         "x": [
          "2017"
         ],
         "xaxis": "x",
         "y": [
          224412.43
         ],
         "yaxis": "y"
        },
        {
         "alignmentgroup": "True",
         "hovertemplate": "equipamento=Equipamento 88<br>Ano=%{x}<br>custo_de_pecas=%{y}<extra></extra>",
         "legendgroup": "Equipamento 88",
         "marker": {
          "color": "#8e2c50",
          "pattern": {
           "shape": ""
          }
         },
         "name": "Equipamento 88",
         "offsetgroup": "Equipamento 88",
         "orientation": "v",
         "showlegend": true,
         "textposition": "auto",
         "type": "bar",
         "x": [
          "2018",
          "2019"
         ],
         "xaxis": "x",
         "y": [
          202059.27,
          144831.12
         ],
         "yaxis": "y"
        },
        {
         "alignmentgroup": "True",
         "hovertemplate": "equipamento=Equipamento 168<br>Ano=%{x}<br>custo_de_pecas=%{y}<extra></extra>",
         "legendgroup": "Equipamento 168",
         "marker": {
          "color": "#ba6657",
          "pattern": {
           "shape": ""
          }
         },
         "name": "Equipamento 168",
         "offsetgroup": "Equipamento 168",
         "orientation": "v",
         "showlegend": true,
         "textposition": "auto",
         "type": "bar",
         "x": [
          "2020"
         ],
         "xaxis": "x",
         "y": [
          157593.49000000002
         ],
         "yaxis": "y"
        },
        {
         "alignmentgroup": "True",
         "hovertemplate": "equipamento=Equipamento 12<br>Ano=%{x}<br>custo_de_pecas=%{y}<extra></extra>",
         "legendgroup": "Equipamento 12",
         "marker": {
          "color": "#ceac94",
          "pattern": {
           "shape": ""
          }
         },
         "name": "Equipamento 12",
         "offsetgroup": "Equipamento 12",
         "orientation": "v",
         "showlegend": true,
         "textposition": "auto",
         "type": "bar",
         "x": [
          "2020",
          "2021"
         ],
         "xaxis": "x",
         "y": [
          151202.86,
          180981.47
         ],
         "yaxis": "y"
        }
       ],
       "layout": {
        "barmode": "relative",
        "legend": {
         "title": {
          "text": "equipamento"
         },
         "tracegroupgap": 0
        },
        "template": {
         "data": {
          "bar": [
           {
            "error_x": {
             "color": "#2a3f5f"
            },
            "error_y": {
             "color": "#2a3f5f"
            },
            "marker": {
             "line": {
              "color": "#E5ECF6",
              "width": 0.5
             },
             "pattern": {
              "fillmode": "overlay",
              "size": 10,
              "solidity": 0.2
             }
            },
            "type": "bar"
           }
          ],
          "barpolar": [
           {
            "marker": {
             "line": {
              "color": "#E5ECF6",
              "width": 0.5
             },
             "pattern": {
              "fillmode": "overlay",
              "size": 10,
              "solidity": 0.2
             }
            },
            "type": "barpolar"
           }
          ],
          "carpet": [
           {
            "aaxis": {
             "endlinecolor": "#2a3f5f",
             "gridcolor": "white",
             "linecolor": "white",
             "minorgridcolor": "white",
             "startlinecolor": "#2a3f5f"
            },
            "baxis": {
             "endlinecolor": "#2a3f5f",
             "gridcolor": "white",
             "linecolor": "white",
             "minorgridcolor": "white",
             "startlinecolor": "#2a3f5f"
            },
            "type": "carpet"
           }
          ],
          "choropleth": [
           {
            "colorbar": {
             "outlinewidth": 0,
             "ticks": ""
            },
            "type": "choropleth"
           }
          ],
          "contour": [
           {
            "colorbar": {
             "outlinewidth": 0,
             "ticks": ""
            },
            "colorscale": [
             [
              0,
              "#0d0887"
             ],
             [
              0.1111111111111111,
              "#46039f"
             ],
             [
              0.2222222222222222,
              "#7201a8"
             ],
             [
              0.3333333333333333,
              "#9c179e"
             ],
             [
              0.4444444444444444,
              "#bd3786"
             ],
             [
              0.5555555555555556,
              "#d8576b"
             ],
             [
              0.6666666666666666,
              "#ed7953"
             ],
             [
              0.7777777777777778,
              "#fb9f3a"
             ],
             [
              0.8888888888888888,
              "#fdca26"
             ],
             [
              1,
              "#f0f921"
             ]
            ],
            "type": "contour"
           }
          ],
          "contourcarpet": [
           {
            "colorbar": {
             "outlinewidth": 0,
             "ticks": ""
            },
            "type": "contourcarpet"
           }
          ],
          "heatmap": [
           {
            "colorbar": {
             "outlinewidth": 0,
             "ticks": ""
            },
            "colorscale": [
             [
              0,
              "#0d0887"
             ],
             [
              0.1111111111111111,
              "#46039f"
             ],
             [
              0.2222222222222222,
              "#7201a8"
             ],
             [
              0.3333333333333333,
              "#9c179e"
             ],
             [
              0.4444444444444444,
              "#bd3786"
             ],
             [
              0.5555555555555556,
              "#d8576b"
             ],
             [
              0.6666666666666666,
              "#ed7953"
             ],
             [
              0.7777777777777778,
              "#fb9f3a"
             ],
             [
              0.8888888888888888,
              "#fdca26"
             ],
             [
              1,
              "#f0f921"
             ]
            ],
            "type": "heatmap"
           }
          ],
          "heatmapgl": [
           {
            "colorbar": {
             "outlinewidth": 0,
             "ticks": ""
            },
            "colorscale": [
             [
              0,
              "#0d0887"
             ],
             [
              0.1111111111111111,
              "#46039f"
             ],
             [
              0.2222222222222222,
              "#7201a8"
             ],
             [
              0.3333333333333333,
              "#9c179e"
             ],
             [
              0.4444444444444444,
              "#bd3786"
             ],
             [
              0.5555555555555556,
              "#d8576b"
             ],
             [
              0.6666666666666666,
              "#ed7953"
             ],
             [
              0.7777777777777778,
              "#fb9f3a"
             ],
             [
              0.8888888888888888,
              "#fdca26"
             ],
             [
              1,
              "#f0f921"
             ]
            ],
            "type": "heatmapgl"
           }
          ],
          "histogram": [
           {
            "marker": {
             "pattern": {
              "fillmode": "overlay",
              "size": 10,
              "solidity": 0.2
             }
            },
            "type": "histogram"
           }
          ],
          "histogram2d": [
           {
            "colorbar": {
             "outlinewidth": 0,
             "ticks": ""
            },
            "colorscale": [
             [
              0,
              "#0d0887"
             ],
             [
              0.1111111111111111,
              "#46039f"
             ],
             [
              0.2222222222222222,
              "#7201a8"
             ],
             [
              0.3333333333333333,
              "#9c179e"
             ],
             [
              0.4444444444444444,
              "#bd3786"
             ],
             [
              0.5555555555555556,
              "#d8576b"
             ],
             [
              0.6666666666666666,
              "#ed7953"
             ],
             [
              0.7777777777777778,
              "#fb9f3a"
             ],
             [
              0.8888888888888888,
              "#fdca26"
             ],
             [
              1,
              "#f0f921"
             ]
            ],
            "type": "histogram2d"
           }
          ],
          "histogram2dcontour": [
           {
            "colorbar": {
             "outlinewidth": 0,
             "ticks": ""
            },
            "colorscale": [
             [
              0,
              "#0d0887"
             ],
             [
              0.1111111111111111,
              "#46039f"
             ],
             [
              0.2222222222222222,
              "#7201a8"
             ],
             [
              0.3333333333333333,
              "#9c179e"
             ],
             [
              0.4444444444444444,
              "#bd3786"
             ],
             [
              0.5555555555555556,
              "#d8576b"
             ],
             [
              0.6666666666666666,
              "#ed7953"
             ],
             [
              0.7777777777777778,
              "#fb9f3a"
             ],
             [
              0.8888888888888888,
              "#fdca26"
             ],
             [
              1,
              "#f0f921"
             ]
            ],
            "type": "histogram2dcontour"
           }
          ],
          "mesh3d": [
           {
            "colorbar": {
             "outlinewidth": 0,
             "ticks": ""
            },
            "type": "mesh3d"
           }
          ],
          "parcoords": [
           {
            "line": {
             "colorbar": {
              "outlinewidth": 0,
              "ticks": ""
             }
            },
            "type": "parcoords"
           }
          ],
          "pie": [
           {
            "automargin": true,
            "type": "pie"
           }
          ],
          "scatter": [
           {
            "fillpattern": {
             "fillmode": "overlay",
             "size": 10,
             "solidity": 0.2
            },
            "type": "scatter"
           }
          ],
          "scatter3d": [
           {
            "line": {
             "colorbar": {
              "outlinewidth": 0,
              "ticks": ""
             }
            },
            "marker": {
             "colorbar": {
              "outlinewidth": 0,
              "ticks": ""
             }
            },
            "type": "scatter3d"
           }
          ],
          "scattercarpet": [
           {
            "marker": {
             "colorbar": {
              "outlinewidth": 0,
              "ticks": ""
             }
            },
            "type": "scattercarpet"
           }
          ],
          "scattergeo": [
           {
            "marker": {
             "colorbar": {
              "outlinewidth": 0,
              "ticks": ""
             }
            },
            "type": "scattergeo"
           }
          ],
          "scattergl": [
           {
            "marker": {
             "colorbar": {
              "outlinewidth": 0,
              "ticks": ""
             }
            },
            "type": "scattergl"
           }
          ],
          "scattermapbox": [
           {
            "marker": {
             "colorbar": {
              "outlinewidth": 0,
              "ticks": ""
             }
            },
            "type": "scattermapbox"
           }
          ],
          "scatterpolar": [
           {
            "marker": {
             "colorbar": {
              "outlinewidth": 0,
              "ticks": ""
             }
            },
            "type": "scatterpolar"
           }
          ],
          "scatterpolargl": [
           {
            "marker": {
             "colorbar": {
              "outlinewidth": 0,
              "ticks": ""
             }
            },
            "type": "scatterpolargl"
           }
          ],
          "scatterternary": [
           {
            "marker": {
             "colorbar": {
              "outlinewidth": 0,
              "ticks": ""
             }
            },
            "type": "scatterternary"
           }
          ],
          "surface": [
           {
            "colorbar": {
             "outlinewidth": 0,
             "ticks": ""
            },
            "colorscale": [
             [
              0,
              "#0d0887"
             ],
             [
              0.1111111111111111,
              "#46039f"
             ],
             [
              0.2222222222222222,
              "#7201a8"
             ],
             [
              0.3333333333333333,
              "#9c179e"
             ],
             [
              0.4444444444444444,
              "#bd3786"
             ],
             [
              0.5555555555555556,
              "#d8576b"
             ],
             [
              0.6666666666666666,
              "#ed7953"
             ],
             [
              0.7777777777777778,
              "#fb9f3a"
             ],
             [
              0.8888888888888888,
              "#fdca26"
             ],
             [
              1,
              "#f0f921"
             ]
            ],
            "type": "surface"
           }
          ],
          "table": [
           {
            "cells": {
             "fill": {
              "color": "#EBF0F8"
             },
             "line": {
              "color": "white"
             }
            },
            "header": {
             "fill": {
              "color": "#C8D4E3"
             },
             "line": {
              "color": "white"
             }
            },
            "type": "table"
           }
          ]
         },
         "layout": {
          "annotationdefaults": {
           "arrowcolor": "#2a3f5f",
           "arrowhead": 0,
           "arrowwidth": 1
          },
          "autotypenumbers": "strict",
          "coloraxis": {
           "colorbar": {
            "outlinewidth": 0,
            "ticks": ""
           }
          },
          "colorscale": {
           "diverging": [
            [
             0,
             "#8e0152"
            ],
            [
             0.1,
             "#c51b7d"
            ],
            [
             0.2,
             "#de77ae"
            ],
            [
             0.3,
             "#f1b6da"
            ],
            [
             0.4,
             "#fde0ef"
            ],
            [
             0.5,
             "#f7f7f7"
            ],
            [
             0.6,
             "#e6f5d0"
            ],
            [
             0.7,
             "#b8e186"
            ],
            [
             0.8,
             "#7fbc41"
            ],
            [
             0.9,
             "#4d9221"
            ],
            [
             1,
             "#276419"
            ]
           ],
           "sequential": [
            [
             0,
             "#0d0887"
            ],
            [
             0.1111111111111111,
             "#46039f"
            ],
            [
             0.2222222222222222,
             "#7201a8"
            ],
            [
             0.3333333333333333,
             "#9c179e"
            ],
            [
             0.4444444444444444,
             "#bd3786"
            ],
            [
             0.5555555555555556,
             "#d8576b"
            ],
            [
             0.6666666666666666,
             "#ed7953"
            ],
            [
             0.7777777777777778,
             "#fb9f3a"
            ],
            [
             0.8888888888888888,
             "#fdca26"
            ],
            [
             1,
             "#f0f921"
            ]
           ],
           "sequentialminus": [
            [
             0,
             "#0d0887"
            ],
            [
             0.1111111111111111,
             "#46039f"
            ],
            [
             0.2222222222222222,
             "#7201a8"
            ],
            [
             0.3333333333333333,
             "#9c179e"
            ],
            [
             0.4444444444444444,
             "#bd3786"
            ],
            [
             0.5555555555555556,
             "#d8576b"
            ],
            [
             0.6666666666666666,
             "#ed7953"
            ],
            [
             0.7777777777777778,
             "#fb9f3a"
            ],
            [
             0.8888888888888888,
             "#fdca26"
            ],
            [
             1,
             "#f0f921"
            ]
           ]
          },
          "colorway": [
           "#636efa",
           "#EF553B",
           "#00cc96",
           "#ab63fa",
           "#FFA15A",
           "#19d3f3",
           "#FF6692",
           "#B6E880",
           "#FF97FF",
           "#FECB52"
          ],
          "font": {
           "color": "#2a3f5f"
          },
          "geo": {
           "bgcolor": "white",
           "lakecolor": "white",
           "landcolor": "#E5ECF6",
           "showlakes": true,
           "showland": true,
           "subunitcolor": "white"
          },
          "hoverlabel": {
           "align": "left"
          },
          "hovermode": "closest",
          "mapbox": {
           "style": "light"
          },
          "paper_bgcolor": "white",
          "plot_bgcolor": "#E5ECF6",
          "polar": {
           "angularaxis": {
            "gridcolor": "white",
            "linecolor": "white",
            "ticks": ""
           },
           "bgcolor": "#E5ECF6",
           "radialaxis": {
            "gridcolor": "white",
            "linecolor": "white",
            "ticks": ""
           }
          },
          "scene": {
           "xaxis": {
            "backgroundcolor": "#E5ECF6",
            "gridcolor": "white",
            "gridwidth": 2,
            "linecolor": "white",
            "showbackground": true,
            "ticks": "",
            "zerolinecolor": "white"
           },
           "yaxis": {
            "backgroundcolor": "#E5ECF6",
            "gridcolor": "white",
            "gridwidth": 2,
            "linecolor": "white",
            "showbackground": true,
            "ticks": "",
            "zerolinecolor": "white"
           },
           "zaxis": {
            "backgroundcolor": "#E5ECF6",
            "gridcolor": "white",
            "gridwidth": 2,
            "linecolor": "white",
            "showbackground": true,
            "ticks": "",
            "zerolinecolor": "white"
           }
          },
          "shapedefaults": {
           "line": {
            "color": "#2a3f5f"
           }
          },
          "ternary": {
           "aaxis": {
            "gridcolor": "white",
            "linecolor": "white",
            "ticks": ""
           },
           "baxis": {
            "gridcolor": "white",
            "linecolor": "white",
            "ticks": ""
           },
           "bgcolor": "#E5ECF6",
           "caxis": {
            "gridcolor": "white",
            "linecolor": "white",
            "ticks": ""
           }
          },
          "title": {
           "x": 0.05
          },
          "xaxis": {
           "automargin": true,
           "gridcolor": "white",
           "linecolor": "white",
           "ticks": "",
           "title": {
            "standoff": 15
           },
           "zerolinecolor": "white",
           "zerolinewidth": 2
          },
          "yaxis": {
           "automargin": true,
           "gridcolor": "white",
           "linecolor": "white",
           "ticks": "",
           "title": {
            "standoff": 15
           },
           "zerolinecolor": "white",
           "zerolinewidth": 2
          }
         }
        },
        "title": {
         "text": "Valor total de manutenção dos 3 equipamentos mais caros por ano <br><sup>Período de 2015 a 2021</sup>"
        },
        "xaxis": {
         "anchor": "y",
         "categoryorder": "total descending",
         "domain": [
          0,
          1
         ],
         "title": {
          "text": "Equipamentos"
         }
        },
        "yaxis": {
         "anchor": "x",
         "domain": [
          0,
          1
         ],
         "title": {
          "text": "Custo de manutenção (R$)"
         }
        }
       }
      }
     },
     "metadata": {},
     "output_type": "display_data"
    }
   ],
   "source": [
    "fig = px.bar(data_frame=df_custo_total2, x= \"Ano\", y= \"custo_de_pecas\", color=\"equipamento\", title= \"Valor total de manutenção dos 3 equipamentos mais caros por ano <br><sup>Período de 2015 a 2021</sup>\", color_discrete_sequence=px.colors.cyclical.Twilight)\n",
    "fig.update_layout(xaxis={'categoryorder':'total descending'}, xaxis_title=\"Equipamentos\", yaxis_title=\"Custo de manutenção (R$)\")\n",
    "fig.show()"
   ]
  },
  {
   "cell_type": "code",
   "execution_count": 18,
   "id": "0d8a7b96",
   "metadata": {
    "execution": {
     "iopub.execute_input": "2022-11-01T17:17:02.249578Z",
     "iopub.status.busy": "2022-11-01T17:17:02.249241Z",
     "iopub.status.idle": "2022-11-01T17:17:02.260253Z",
     "shell.execute_reply": "2022-11-01T17:17:02.259322Z"
    },
    "papermill": {
     "duration": 0.034317,
     "end_time": "2022-11-01T17:17:02.262387",
     "exception": false,
     "start_time": "2022-11-01T17:17:02.228070",
     "status": "completed"
    },
    "tags": []
   },
   "outputs": [
    {
     "data": {
      "text/html": [
       "<div>\n",
       "<style scoped>\n",
       "    .dataframe tbody tr th:only-of-type {\n",
       "        vertical-align: middle;\n",
       "    }\n",
       "\n",
       "    .dataframe tbody tr th {\n",
       "        vertical-align: top;\n",
       "    }\n",
       "\n",
       "    .dataframe thead th {\n",
       "        text-align: right;\n",
       "    }\n",
       "</style>\n",
       "<table border=\"1\" class=\"dataframe\">\n",
       "  <thead>\n",
       "    <tr style=\"text-align: right;\">\n",
       "      <th></th>\n",
       "      <th>Ano</th>\n",
       "      <th>equipamento</th>\n",
       "      <th>custo_de_pecas</th>\n",
       "    </tr>\n",
       "  </thead>\n",
       "  <tbody>\n",
       "    <tr>\n",
       "      <th>0</th>\n",
       "      <td>2015</td>\n",
       "      <td>Equipamento 1</td>\n",
       "      <td>245904.30</td>\n",
       "    </tr>\n",
       "    <tr>\n",
       "      <th>127</th>\n",
       "      <td>2015</td>\n",
       "      <td>Equipamento 76</td>\n",
       "      <td>222361.68</td>\n",
       "    </tr>\n",
       "    <tr>\n",
       "      <th>87</th>\n",
       "      <td>2015</td>\n",
       "      <td>Equipamento 4</td>\n",
       "      <td>146215.07</td>\n",
       "    </tr>\n",
       "    <tr>\n",
       "      <th>300</th>\n",
       "      <td>2016</td>\n",
       "      <td>Equipamento 76</td>\n",
       "      <td>163844.88</td>\n",
       "    </tr>\n",
       "    <tr>\n",
       "      <th>252</th>\n",
       "      <td>2016</td>\n",
       "      <td>Equipamento 32</td>\n",
       "      <td>159379.97</td>\n",
       "    </tr>\n",
       "    <tr>\n",
       "      <th>315</th>\n",
       "      <td>2016</td>\n",
       "      <td>Equipamento 9</td>\n",
       "      <td>140408.77</td>\n",
       "    </tr>\n",
       "    <tr>\n",
       "      <th>498</th>\n",
       "      <td>2017</td>\n",
       "      <td>Equipamento 76</td>\n",
       "      <td>260261.45</td>\n",
       "    </tr>\n",
       "    <tr>\n",
       "      <th>492</th>\n",
       "      <td>2017</td>\n",
       "      <td>Equipamento 70</td>\n",
       "      <td>224412.43</td>\n",
       "    </tr>\n",
       "    <tr>\n",
       "      <th>458</th>\n",
       "      <td>2017</td>\n",
       "      <td>Equipamento 4</td>\n",
       "      <td>181417.65</td>\n",
       "    </tr>\n",
       "    <tr>\n",
       "      <th>699</th>\n",
       "      <td>2018</td>\n",
       "      <td>Equipamento 76</td>\n",
       "      <td>501842.15</td>\n",
       "    </tr>\n",
       "    <tr>\n",
       "      <th>524</th>\n",
       "      <td>2018</td>\n",
       "      <td>Equipamento 1</td>\n",
       "      <td>215239.36</td>\n",
       "    </tr>\n",
       "    <tr>\n",
       "      <th>712</th>\n",
       "      <td>2018</td>\n",
       "      <td>Equipamento 88</td>\n",
       "      <td>202059.27</td>\n",
       "    </tr>\n",
       "    <tr>\n",
       "      <th>725</th>\n",
       "      <td>2019</td>\n",
       "      <td>Equipamento 1</td>\n",
       "      <td>272023.33</td>\n",
       "    </tr>\n",
       "    <tr>\n",
       "      <th>910</th>\n",
       "      <td>2019</td>\n",
       "      <td>Equipamento 76</td>\n",
       "      <td>235733.25</td>\n",
       "    </tr>\n",
       "    <tr>\n",
       "      <th>923</th>\n",
       "      <td>2019</td>\n",
       "      <td>Equipamento 88</td>\n",
       "      <td>144831.12</td>\n",
       "    </tr>\n",
       "    <tr>\n",
       "      <th>1127</th>\n",
       "      <td>2020</td>\n",
       "      <td>Equipamento 76</td>\n",
       "      <td>233057.48</td>\n",
       "    </tr>\n",
       "    <tr>\n",
       "      <th>996</th>\n",
       "      <td>2020</td>\n",
       "      <td>Equipamento 168</td>\n",
       "      <td>157593.49</td>\n",
       "    </tr>\n",
       "    <tr>\n",
       "      <th>955</th>\n",
       "      <td>2020</td>\n",
       "      <td>Equipamento 12</td>\n",
       "      <td>151202.86</td>\n",
       "    </tr>\n",
       "    <tr>\n",
       "      <th>1357</th>\n",
       "      <td>2021</td>\n",
       "      <td>Equipamento 76</td>\n",
       "      <td>280976.94</td>\n",
       "    </tr>\n",
       "    <tr>\n",
       "      <th>1174</th>\n",
       "      <td>2021</td>\n",
       "      <td>Equipamento 12</td>\n",
       "      <td>180981.47</td>\n",
       "    </tr>\n",
       "    <tr>\n",
       "      <th>1153</th>\n",
       "      <td>2021</td>\n",
       "      <td>Equipamento 1</td>\n",
       "      <td>179013.28</td>\n",
       "    </tr>\n",
       "  </tbody>\n",
       "</table>\n",
       "</div>"
      ],
      "text/plain": [
       "       Ano      equipamento  custo_de_pecas\n",
       "0     2015    Equipamento 1       245904.30\n",
       "127   2015   Equipamento 76       222361.68\n",
       "87    2015    Equipamento 4       146215.07\n",
       "300   2016   Equipamento 76       163844.88\n",
       "252   2016   Equipamento 32       159379.97\n",
       "315   2016    Equipamento 9       140408.77\n",
       "498   2017   Equipamento 76       260261.45\n",
       "492   2017   Equipamento 70       224412.43\n",
       "458   2017    Equipamento 4       181417.65\n",
       "699   2018   Equipamento 76       501842.15\n",
       "524   2018    Equipamento 1       215239.36\n",
       "712   2018   Equipamento 88       202059.27\n",
       "725   2019    Equipamento 1       272023.33\n",
       "910   2019   Equipamento 76       235733.25\n",
       "923   2019   Equipamento 88       144831.12\n",
       "1127  2020   Equipamento 76       233057.48\n",
       "996   2020  Equipamento 168       157593.49\n",
       "955   2020   Equipamento 12       151202.86\n",
       "1357  2021   Equipamento 76       280976.94\n",
       "1174  2021   Equipamento 12       180981.47\n",
       "1153  2021    Equipamento 1       179013.28"
      ]
     },
     "execution_count": 18,
     "metadata": {},
     "output_type": "execute_result"
    }
   ],
   "source": [
    "df_custo_total2"
   ]
  },
  {
   "cell_type": "code",
   "execution_count": 19,
   "id": "5c9ea5fb",
   "metadata": {
    "execution": {
     "iopub.execute_input": "2022-11-01T17:17:02.303919Z",
     "iopub.status.busy": "2022-11-01T17:17:02.303639Z",
     "iopub.status.idle": "2022-11-01T17:17:02.589637Z",
     "shell.execute_reply": "2022-11-01T17:17:02.588894Z"
    },
    "papermill": {
     "duration": 0.309258,
     "end_time": "2022-11-01T17:17:02.591706",
     "exception": false,
     "start_time": "2022-11-01T17:17:02.282448",
     "status": "completed"
    },
    "tags": []
   },
   "outputs": [
    {
     "data": {
      "image/png": "[encoded data removed]",
      "text/plain": [
       "<Figure size 1600x500 with 1 Axes>"
      ]
     },
     "metadata": {},
     "output_type": "display_data"
    }
   ],
   "source": [
    "plt.figure(figsize=(16,5))\n",
    "df_custo_total2.value_counts(\"equipamento\").plot(kind=\"barh\")\n",
    "plt.title(\"Frequência dos 3 equipamentos com maior custo de manutenção entre 2015 a 2021\",fontweight=\"bold\")\n",
    "plt.xlabel(\"Frequência\")\n",
    "plt.ylabel(\"Equipamento\");"
   ]
  },
  {
   "cell_type": "code",
   "execution_count": 20,
   "id": "93f64434",
   "metadata": {
    "execution": {
     "iopub.execute_input": "2022-11-01T17:17:02.635603Z",
     "iopub.status.busy": "2022-11-01T17:17:02.635037Z",
     "iopub.status.idle": "2022-11-01T17:17:02.639519Z",
     "shell.execute_reply": "2022-11-01T17:17:02.638672Z"
    },
    "papermill": {
     "duration": 0.02864,
     "end_time": "2022-11-01T17:17:02.641554",
     "exception": false,
     "start_time": "2022-11-01T17:17:02.612914",
     "status": "completed"
    },
    "tags": []
   },
   "outputs": [],
   "source": [
    "df_custo_total2[\"Ano\"] = df_custo_total2[\"Ano\"].astype(int)"
   ]
  },
  {
   "cell_type": "code",
   "execution_count": 21,
   "id": "d1bb0ab0",
   "metadata": {
    "execution": {
     "iopub.execute_input": "2022-11-01T17:17:02.684807Z",
     "iopub.status.busy": "2022-11-01T17:17:02.684477Z",
     "iopub.status.idle": "2022-11-01T17:17:03.769871Z",
     "shell.execute_reply": "2022-11-01T17:17:03.768693Z"
    },
    "papermill": {
     "duration": 1.110206,
     "end_time": "2022-11-01T17:17:03.772654",
     "exception": false,
     "start_time": "2022-11-01T17:17:02.662448",
     "status": "completed"
    },
    "tags": []
   },
   "outputs": [
    {
     "data": {
      "image/png": "[encoded data removed]",
      "text/plain": [
       "<Figure size 2500x1500 with 7 Axes>"
      ]
     },
     "metadata": {},
     "output_type": "display_data"
    }
   ],
   "source": [
    "fig = plt.figure(figsize=(25, 15))\n",
    "grid = plt.GridSpec(3, 3, hspace=0.3, wspace=0.3)\n",
    "\n",
    "a2015 = fig.add_subplot(grid[0,0])\n",
    "a2016 = fig.add_subplot(grid[0,1])\n",
    "a2017 = fig.add_subplot(grid[0,2])\n",
    "a2018 = fig.add_subplot(grid[1,0])\n",
    "a2019 = fig.add_subplot(grid[1,1])\n",
    "a2020 = fig.add_subplot(grid[1,2])\n",
    "a2021 = fig.add_subplot(grid[2, 1])\n",
    "\n",
    "# 2015\n",
    "sns.barplot(x = 'Ano', y='custo_de_pecas', \n",
    "               hue = 'equipamento',data=df_custo_total2[df_custo_total2[\"Ano\"] == 2015] ,ax=a2015)\n",
    "a2015.set_xlabel(\"Ano\")\n",
    "a2015.set_ylabel(\"Custo de manutenção (R$)\")\n",
    "a2015.set_title(\"Equipamentos com maior custo de manutenção em 2015\", fontweight=\"bold\")\n",
    "\n",
    "# 2016\n",
    "sns.barplot(x = 'Ano', y='custo_de_pecas', \n",
    "               hue = 'equipamento',data=df_custo_total2[df_custo_total2[\"Ano\"] == 2016] ,ax=a2016)\n",
    "a2016.set_xlabel(\"Ano\")\n",
    "a2016.set_ylabel(\"Custo de manutenção (R$)\")\n",
    "a2016.set_title(\"Equipamentos com maior custo de manutenção em 2016\", fontweight=\"bold\")\n",
    "\n",
    "# 2016\n",
    "sns.barplot(x = 'Ano', y='custo_de_pecas', \n",
    "               hue = 'equipamento',data=df_custo_total2[df_custo_total2[\"Ano\"] == 2017] ,ax=a2017)\n",
    "a2017.set_xlabel(\"Ano\")\n",
    "a2017.set_ylabel(\"Custo de manutenção (R$)\")\n",
    "a2017.set_title(\"Equipamentos com maior custo de manutenção em 2017\",fontweight=\"bold\")\n",
    "\n",
    "# 2016\n",
    "sns.barplot(x = 'Ano', y='custo_de_pecas', \n",
    "               hue = 'equipamento',data=df_custo_total2[df_custo_total2[\"Ano\"] == 2018] ,ax=a2018)\n",
    "a2018.set_xlabel(\"Ano\")\n",
    "a2018.set_ylabel(\"Custo de manutenção (R$)\")\n",
    "a2018.set_title(\"Equipamentos com maior custo de manutenção em 2018\",fontweight=\"bold\")\n",
    "\n",
    "# 2016\n",
    "sns.barplot(x = 'Ano', y='custo_de_pecas', \n",
    "               hue = 'equipamento',data=df_custo_total2[df_custo_total2[\"Ano\"] == 2019] ,ax=a2019)\n",
    "a2019.set_xlabel(\"Ano\")\n",
    "a2019.set_ylabel(\"Custo de manutenção (R$)\")\n",
    "a2019.set_title(\"Equipamentos com maior custo de manutenção em 2019\",fontweight=\"bold\")\n",
    "\n",
    "# 2016\n",
    "sns.barplot(x = 'Ano', y='custo_de_pecas', \n",
    "               hue = 'equipamento',data=df_custo_total2[df_custo_total2[\"Ano\"] == 2020] ,ax=a2020)\n",
    "a2020.set_xlabel(\"Ano\")\n",
    "a2020.set_ylabel(\"Custo de manutenção (R$)\")\n",
    "a2020.set_title(\"Equipamentos com maior custo de manutenção em 2020\",fontweight=\"bold\")\n",
    "\n",
    "# 2021\n",
    "sns.barplot(x = 'Ano', y='custo_de_pecas', \n",
    "               hue = 'equipamento',data=df_custo_total2[df_custo_total2[\"Ano\"] == 2021] ,ax=a2021)\n",
    "a2021.set_xlabel(\"Ano\")\n",
    "a2021.set_ylabel(\"Custo de manutenção (R$)\")\n",
    "a2021.set_title(\"Equipamentos com maior custo de manutenção em 2021\",fontweight=\"bold\");"
   ]
  },
  {
   "cell_type": "markdown",
   "id": "a264fbd2",
   "metadata": {
    "papermill": {
     "duration": 0.021464,
     "end_time": "2022-11-01T17:17:03.816375",
     "exception": false,
     "start_time": "2022-11-01T17:17:03.794911",
     "status": "completed"
    },
    "tags": []
   },
   "source": [
    "#### Essa análise permite observar os equipamentos mais custosos por ano, podendo então objetivamente tomar medidas afim de diminuir o custo de manutenção dos mesmos. Pode-se observar que os equipamentos 76 e 1 são os que mais necessitaram de dinheiro para manutenção, sendo que o equipamento 76 se manteve no top 3 de equipamentos mais custosos todos os anos analisados."
   ]
  },
  {
   "cell_type": "markdown",
   "id": "e808e112",
   "metadata": {
    "papermill": {
     "duration": 0.021878,
     "end_time": "2022-11-01T17:17:03.860609",
     "exception": false,
     "start_time": "2022-11-01T17:17:03.838731",
     "status": "completed"
    },
    "tags": []
   },
   "source": [
    "## Análise 2 - Três equipamentos que mais precisaram de manutenção por ano e sua relação com o custo gerado."
   ]
  },
  {
   "cell_type": "code",
   "execution_count": 22,
   "id": "05507ebf",
   "metadata": {
    "execution": {
     "iopub.execute_input": "2022-11-01T17:17:03.904961Z",
     "iopub.status.busy": "2022-11-01T17:17:03.904599Z",
     "iopub.status.idle": "2022-11-01T17:17:03.981995Z",
     "shell.execute_reply": "2022-11-01T17:17:03.981147Z"
    },
    "papermill": {
     "duration": 0.102377,
     "end_time": "2022-11-01T17:17:03.984235",
     "exception": false,
     "start_time": "2022-11-01T17:17:03.881858",
     "status": "completed"
    },
    "tags": []
   },
   "outputs": [],
   "source": [
    "df_quebras_anuais = df.groupby([df[\"data_inicio\"].dt.year, \"equipamento\"]).agg({\"custo_de_pecas\": \"sum\", \"equipamento\": \"count\"})"
   ]
  },
  {
   "cell_type": "code",
   "execution_count": 23,
   "id": "a4b48d3b",
   "metadata": {
    "execution": {
     "iopub.execute_input": "2022-11-01T17:17:04.029096Z",
     "iopub.status.busy": "2022-11-01T17:17:04.028726Z",
     "iopub.status.idle": "2022-11-01T17:17:04.035208Z",
     "shell.execute_reply": "2022-11-01T17:17:04.034502Z"
    },
    "papermill": {
     "duration": 0.030825,
     "end_time": "2022-11-01T17:17:04.037024",
     "exception": false,
     "start_time": "2022-11-01T17:17:04.006199",
     "status": "completed"
    },
    "tags": []
   },
   "outputs": [],
   "source": [
    "df_quebras_anuais[[\"custo_de_pecas\", \"total_quebras\"]] = df_quebras_anuais[[\"custo_de_pecas\", \"equipamento\"]]"
   ]
  },
  {
   "cell_type": "code",
   "execution_count": 24,
   "id": "21623592",
   "metadata": {
    "execution": {
     "iopub.execute_input": "2022-11-01T17:17:04.083347Z",
     "iopub.status.busy": "2022-11-01T17:17:04.082724Z",
     "iopub.status.idle": "2022-11-01T17:17:04.087472Z",
     "shell.execute_reply": "2022-11-01T17:17:04.086859Z"
    },
    "papermill": {
     "duration": 0.030086,
     "end_time": "2022-11-01T17:17:04.089307",
     "exception": false,
     "start_time": "2022-11-01T17:17:04.059221",
     "status": "completed"
    },
    "tags": []
   },
   "outputs": [],
   "source": [
    "df_quebras_anuais.drop(columns=\"equipamento\", inplace= True)"
   ]
  },
  {
   "cell_type": "code",
   "execution_count": 25,
   "id": "75f840f0",
   "metadata": {
    "execution": {
     "iopub.execute_input": "2022-11-01T17:17:04.135174Z",
     "iopub.status.busy": "2022-11-01T17:17:04.134568Z",
     "iopub.status.idle": "2022-11-01T17:17:04.139693Z",
     "shell.execute_reply": "2022-11-01T17:17:04.138976Z"
    },
    "papermill": {
     "duration": 0.029963,
     "end_time": "2022-11-01T17:17:04.141655",
     "exception": false,
     "start_time": "2022-11-01T17:17:04.111692",
     "status": "completed"
    },
    "tags": []
   },
   "outputs": [],
   "source": [
    "df_quebras_anuais.reset_index(inplace=True)"
   ]
  },
  {
   "cell_type": "code",
   "execution_count": 26,
   "id": "6741ea86",
   "metadata": {
    "execution": {
     "iopub.execute_input": "2022-11-01T17:17:04.186003Z",
     "iopub.status.busy": "2022-11-01T17:17:04.185473Z",
     "iopub.status.idle": "2022-11-01T17:17:04.199078Z",
     "shell.execute_reply": "2022-11-01T17:17:04.198410Z"
    },
    "papermill": {
     "duration": 0.03789,
     "end_time": "2022-11-01T17:17:04.200986",
     "exception": false,
     "start_time": "2022-11-01T17:17:04.163096",
     "status": "completed"
    },
    "tags": []
   },
   "outputs": [],
   "source": [
    "df_quebras_anuais = pd.concat([df_quebras_anuais[df_quebras_anuais[\"data_inicio\"] == 2015].sort_values(\"total_quebras\" ,ascending=False)[0:3],\n",
    "                            df_quebras_anuais[df_quebras_anuais[\"data_inicio\"] == 2016].sort_values(\"total_quebras\" ,ascending=False)[0:3],\n",
    "                           df_quebras_anuais[df_quebras_anuais[\"data_inicio\"] == 2017].sort_values(\"total_quebras\" ,ascending=False)[0:3],\n",
    "                           df_quebras_anuais[df_quebras_anuais[\"data_inicio\"] == 2018].sort_values(\"total_quebras\" ,ascending=False)[0:3],\n",
    "                            df_quebras_anuais[df_quebras_anuais[\"data_inicio\"] == 2019].sort_values(\"total_quebras\" ,ascending=False)[0:3],\n",
    "                            df_quebras_anuais[df_quebras_anuais[\"data_inicio\"] == 2020].sort_values(\"custo_de_pecas\" ,ascending=False)[0:3],\n",
    "                            df_quebras_anuais[df_quebras_anuais[\"data_inicio\"] == 2021].sort_values(\"total_quebras\" ,ascending=False)[0:3]])"
   ]
  },
  {
   "cell_type": "code",
   "execution_count": 27,
   "id": "5d80ac79",
   "metadata": {
    "execution": {
     "iopub.execute_input": "2022-11-01T17:17:04.245473Z",
     "iopub.status.busy": "2022-11-01T17:17:04.244920Z",
     "iopub.status.idle": "2022-11-01T17:17:04.249954Z",
     "shell.execute_reply": "2022-11-01T17:17:04.249265Z"
    },
    "papermill": {
     "duration": 0.029086,
     "end_time": "2022-11-01T17:17:04.251820",
     "exception": false,
     "start_time": "2022-11-01T17:17:04.222734",
     "status": "completed"
    },
    "tags": []
   },
   "outputs": [],
   "source": [
    "df_quebras_anuais[\"data_inicio\"] = df_quebras_anuais[\"data_inicio\"].astype(str)\n",
    "df_quebras_anuais.rename(columns={\"data_inicio\": \"Ano\"}, inplace=True)"
   ]
  },
  {
   "cell_type": "code",
   "execution_count": 28,
   "id": "5e31bc77",
   "metadata": {
    "execution": {
     "iopub.execute_input": "2022-11-01T17:17:04.295734Z",
     "iopub.status.busy": "2022-11-01T17:17:04.294967Z",
     "iopub.status.idle": "2022-11-01T17:17:04.305969Z",
     "shell.execute_reply": "2022-11-01T17:17:04.305397Z"
    },
    "papermill": {
     "duration": 0.034478,
     "end_time": "2022-11-01T17:17:04.307598",
     "exception": false,
     "start_time": "2022-11-01T17:17:04.273120",
     "status": "completed"
    },
    "tags": []
   },
   "outputs": [
    {
     "data": {
      "text/html": [
       "<div>\n",
       "<style scoped>\n",
       "    .dataframe tbody tr th:only-of-type {\n",
       "        vertical-align: middle;\n",
       "    }\n",
       "\n",
       "    .dataframe tbody tr th {\n",
       "        vertical-align: top;\n",
       "    }\n",
       "\n",
       "    .dataframe thead th {\n",
       "        text-align: right;\n",
       "    }\n",
       "</style>\n",
       "<table border=\"1\" class=\"dataframe\">\n",
       "  <thead>\n",
       "    <tr style=\"text-align: right;\">\n",
       "      <th></th>\n",
       "      <th>Ano</th>\n",
       "      <th>equipamento</th>\n",
       "      <th>custo_de_pecas</th>\n",
       "      <th>total_quebras</th>\n",
       "    </tr>\n",
       "  </thead>\n",
       "  <tbody>\n",
       "    <tr>\n",
       "      <th>0</th>\n",
       "      <td>2015</td>\n",
       "      <td>Equipamento 1</td>\n",
       "      <td>245904.30</td>\n",
       "      <td>851</td>\n",
       "    </tr>\n",
       "    <tr>\n",
       "      <th>127</th>\n",
       "      <td>2015</td>\n",
       "      <td>Equipamento 76</td>\n",
       "      <td>222361.68</td>\n",
       "      <td>782</td>\n",
       "    </tr>\n",
       "    <tr>\n",
       "      <th>76</th>\n",
       "      <td>2015</td>\n",
       "      <td>Equipamento 3</td>\n",
       "      <td>112417.21</td>\n",
       "      <td>653</td>\n",
       "    </tr>\n",
       "    <tr>\n",
       "      <th>300</th>\n",
       "      <td>2016</td>\n",
       "      <td>Equipamento 76</td>\n",
       "      <td>163844.88</td>\n",
       "      <td>548</td>\n",
       "    </tr>\n",
       "    <tr>\n",
       "      <th>153</th>\n",
       "      <td>2016</td>\n",
       "      <td>Equipamento 1</td>\n",
       "      <td>118430.79</td>\n",
       "      <td>525</td>\n",
       "    </tr>\n",
       "    <tr>\n",
       "      <th>190</th>\n",
       "      <td>2016</td>\n",
       "      <td>Equipamento 141</td>\n",
       "      <td>109268.60</td>\n",
       "      <td>521</td>\n",
       "    </tr>\n",
       "    <tr>\n",
       "      <th>498</th>\n",
       "      <td>2017</td>\n",
       "      <td>Equipamento 76</td>\n",
       "      <td>260261.45</td>\n",
       "      <td>677</td>\n",
       "    </tr>\n",
       "    <tr>\n",
       "      <th>355</th>\n",
       "      <td>2017</td>\n",
       "      <td>Equipamento 13</td>\n",
       "      <td>74909.52</td>\n",
       "      <td>608</td>\n",
       "    </tr>\n",
       "    <tr>\n",
       "      <th>494</th>\n",
       "      <td>2017</td>\n",
       "      <td>Equipamento 72</td>\n",
       "      <td>104526.83</td>\n",
       "      <td>596</td>\n",
       "    </tr>\n",
       "    <tr>\n",
       "      <th>699</th>\n",
       "      <td>2018</td>\n",
       "      <td>Equipamento 76</td>\n",
       "      <td>501842.15</td>\n",
       "      <td>811</td>\n",
       "    </tr>\n",
       "    <tr>\n",
       "      <th>695</th>\n",
       "      <td>2018</td>\n",
       "      <td>Equipamento 72</td>\n",
       "      <td>127554.67</td>\n",
       "      <td>600</td>\n",
       "    </tr>\n",
       "    <tr>\n",
       "      <th>560</th>\n",
       "      <td>2018</td>\n",
       "      <td>Equipamento 141</td>\n",
       "      <td>60448.88</td>\n",
       "      <td>589</td>\n",
       "    </tr>\n",
       "    <tr>\n",
       "      <th>725</th>\n",
       "      <td>2019</td>\n",
       "      <td>Equipamento 1</td>\n",
       "      <td>272023.33</td>\n",
       "      <td>950</td>\n",
       "    </tr>\n",
       "    <tr>\n",
       "      <th>910</th>\n",
       "      <td>2019</td>\n",
       "      <td>Equipamento 76</td>\n",
       "      <td>235733.25</td>\n",
       "      <td>945</td>\n",
       "    </tr>\n",
       "    <tr>\n",
       "      <th>787</th>\n",
       "      <td>2019</td>\n",
       "      <td>Equipamento 168</td>\n",
       "      <td>110635.01</td>\n",
       "      <td>839</td>\n",
       "    </tr>\n",
       "    <tr>\n",
       "      <th>1127</th>\n",
       "      <td>2020</td>\n",
       "      <td>Equipamento 76</td>\n",
       "      <td>233057.48</td>\n",
       "      <td>911</td>\n",
       "    </tr>\n",
       "    <tr>\n",
       "      <th>996</th>\n",
       "      <td>2020</td>\n",
       "      <td>Equipamento 168</td>\n",
       "      <td>157593.49</td>\n",
       "      <td>535</td>\n",
       "    </tr>\n",
       "    <tr>\n",
       "      <th>955</th>\n",
       "      <td>2020</td>\n",
       "      <td>Equipamento 12</td>\n",
       "      <td>151202.86</td>\n",
       "      <td>350</td>\n",
       "    </tr>\n",
       "    <tr>\n",
       "      <th>1153</th>\n",
       "      <td>2021</td>\n",
       "      <td>Equipamento 1</td>\n",
       "      <td>179013.28</td>\n",
       "      <td>1267</td>\n",
       "    </tr>\n",
       "    <tr>\n",
       "      <th>1357</th>\n",
       "      <td>2021</td>\n",
       "      <td>Equipamento 76</td>\n",
       "      <td>280976.94</td>\n",
       "      <td>1117</td>\n",
       "    </tr>\n",
       "    <tr>\n",
       "      <th>1353</th>\n",
       "      <td>2021</td>\n",
       "      <td>Equipamento 72</td>\n",
       "      <td>77222.28</td>\n",
       "      <td>921</td>\n",
       "    </tr>\n",
       "  </tbody>\n",
       "</table>\n",
       "</div>"
      ],
      "text/plain": [
       "       Ano      equipamento  custo_de_pecas  total_quebras\n",
       "0     2015    Equipamento 1       245904.30            851\n",
       "127   2015   Equipamento 76       222361.68            782\n",
       "76    2015    Equipamento 3       112417.21            653\n",
       "300   2016   Equipamento 76       163844.88            548\n",
       "153   2016    Equipamento 1       118430.79            525\n",
       "190   2016  Equipamento 141       109268.60            521\n",
       "498   2017   Equipamento 76       260261.45            677\n",
       "355   2017   Equipamento 13        74909.52            608\n",
       "494   2017   Equipamento 72       104526.83            596\n",
       "699   2018   Equipamento 76       501842.15            811\n",
       "695   2018   Equipamento 72       127554.67            600\n",
       "560   2018  Equipamento 141        60448.88            589\n",
       "725   2019    Equipamento 1       272023.33            950\n",
       "910   2019   Equipamento 76       235733.25            945\n",
       "787   2019  Equipamento 168       110635.01            839\n",
       "1127  2020   Equipamento 76       233057.48            911\n",
       "996   2020  Equipamento 168       157593.49            535\n",
       "955   2020   Equipamento 12       151202.86            350\n",
       "1153  2021    Equipamento 1       179013.28           1267\n",
       "1357  2021   Equipamento 76       280976.94           1117\n",
       "1353  2021   Equipamento 72        77222.28            921"
      ]
     },
     "execution_count": 28,
     "metadata": {},
     "output_type": "execute_result"
    }
   ],
   "source": [
    "df_quebras_anuais"
   ]
  },
  {
   "cell_type": "code",
   "execution_count": 29,
   "id": "1380e42b",
   "metadata": {
    "execution": {
     "iopub.execute_input": "2022-11-01T17:17:04.352087Z",
     "iopub.status.busy": "2022-11-01T17:17:04.351340Z",
     "iopub.status.idle": "2022-11-01T17:17:04.422878Z",
     "shell.execute_reply": "2022-11-01T17:17:04.422258Z"
    },
    "papermill": {
     "duration": 0.095875,
     "end_time": "2022-11-01T17:17:04.424663",
     "exception": false,
     "start_time": "2022-11-01T17:17:04.328788",
     "status": "completed"
    },
    "tags": []
   },
   "outputs": [
    {
     "data": {
      "application/vnd.plotly.v1+json": {
       "config": {
        "plotlyServerURL": "https://plot.ly"
       },
       "data": [
        {
         "alignmentgroup": "True",
         "hovertemplate": "Ano=2015<br>equipamento=%{x}<br>total_quebras=%{y}<extra></extra>",
         "legendgroup": "2015",
         "marker": {
          "color": "rgb(255,245,235)",
          "pattern": {
           "shape": ""
          }
         },
         "name": "2015",
         "offsetgroup": "2015",
         "orientation": "v",
         "showlegend": true,
         "textposition": "auto",
         "type": "bar",
         "x": [
          "Equipamento 1",
          "Equipamento 76",
          "Equipamento 3"
         ],
         "xaxis": "x",
         "y": [
          851,
          782,
          653
         ],
         "yaxis": "y"
        },
        {
         "alignmentgroup": "True",
         "hovertemplate": "Ano=2016<br>equipamento=%{x}<br>total_quebras=%{y}<extra></extra>",
         "legendgroup": "2016",
         "marker": {
          "color": "rgb(254,230,206)",
          "pattern": {
           "shape": ""
          }
         },
         "name": "2016",
         "offsetgroup": "2016",
         "orientation": "v",
         "showlegend": true,
         "textposition": "auto",
         "type": "bar",
         "x": [
          "Equipamento 76",
          "Equipamento 1",
          "Equipamento 141"
         ],
         "xaxis": "x",
         "y": [
          548,
          525,
          521
         ],
         "yaxis": "y"
        },
        {
         "alignmentgroup": "True",
         "hovertemplate": "Ano=2017<br>equipamento=%{x}<br>total_quebras=%{y}<extra></extra>",
         "legendgroup": "2017",
         "marker": {
          "color": "rgb(253,208,162)",
          "pattern": {
           "shape": ""
          }
         },
         "name": "2017",
         "offsetgroup": "2017",
         "orientation": "v",
         "showlegend": true,
         "textposition": "auto",
         "type": "bar",
         "x": [
          "Equipamento 76",
          "Equipamento 13",
          "Equipamento 72"
         ],
         "xaxis": "x",
         "y": [
          677,
          608,
          596
         ],
         "yaxis": "y"
        },
        {
         "alignmentgroup": "True",
         "hovertemplate": "Ano=2018<br>equipamento=%{x}<br>total_quebras=%{y}<extra></extra>",
         "legendgroup": "2018",
         "marker": {
          "color": "rgb(253,174,107)",
          "pattern": {
           "shape": ""
          }
         },
         "name": "2018",
         "offsetgroup": "2018",
         "orientation": "v",
         "showlegend": true,
         "textposition": "auto",
         "type": "bar",
         "x": [
          "Equipamento 76",
          "Equipamento 72",
          "Equipamento 141"
         ],
         "xaxis": "x",
         "y": [
          811,
          600,
          589
         ],
         "yaxis": "y"
        },
        {
         "alignmentgroup": "True",
         "hovertemplate": "Ano=2019<br>equipamento=%{x}<br>total_quebras=%{y}<extra></extra>",
         "legendgroup": "2019",
         "marker": {
          "color": "rgb(253,141,60)",
          "pattern": {
           "shape": ""
          }
         },
         "name": "2019",
         "offsetgroup": "2019",
         "orientation": "v",
         "showlegend": true,
         "textposition": "auto",
         "type": "bar",
         "x": [
          "Equipamento 1",
          "Equipamento 76",
          "Equipamento 168"
         ],
         "xaxis": "x",
         "y": [
          950,
          945,
          839
         ],
         "yaxis": "y"
        },
        {
         "alignmentgroup": "True",
         "hovertemplate": "Ano=2020<br>equipamento=%{x}<br>total_quebras=%{y}<extra></extra>",
         "legendgroup": "2020",
         "marker": {
          "color": "rgb(241,105,19)",
          "pattern": {
           "shape": ""
          }
         },
         "name": "2020",
         "offsetgroup": "2020",
         "orientation": "v",
         "showlegend": true,
         "textposition": "auto",
         "type": "bar",
         "x": [
          "Equipamento 76",
          "Equipamento 168",
          "Equipamento 12"
         ],
         "xaxis": "x",
         "y": [
          911,
          535,
          350
         ],
         "yaxis": "y"
        },
        {
         "alignmentgroup": "True",
         "hovertemplate": "Ano=2021<br>equipamento=%{x}<br>total_quebras=%{y}<extra></extra>",
         "legendgroup": "2021",
         "marker": {
          "color": "rgb(217,72,1)",
          "pattern": {
           "shape": ""
          }
         },
         "name": "2021",
         "offsetgroup": "2021",
         "orientation": "v",
         "showlegend": true,
         "textposition": "auto",
         "type": "bar",
         "x": [
          "Equipamento 1",
          "Equipamento 76",
          "Equipamento 72"
         ],
         "xaxis": "x",
         "y": [
          1267,
          1117,
          921
         ],
         "yaxis": "y"
        }
       ],
       "layout": {
        "barmode": "relative",
        "legend": {
         "title": {
          "text": "Ano"
         },
         "tracegroupgap": 0
        },
        "template": {
         "data": {
          "bar": [
           {
            "error_x": {
             "color": "#2a3f5f"
            },
            "error_y": {
             "color": "#2a3f5f"
            },
            "marker": {
             "line": {
              "color": "#E5ECF6",
              "width": 0.5
             },
             "pattern": {
              "fillmode": "overlay",
              "size": 10,
              "solidity": 0.2
             }
            },
            "type": "bar"
           }
          ],
          "barpolar": [
           {
            "marker": {
             "line": {
              "color": "#E5ECF6",
              "width": 0.5
             },
             "pattern": {
              "fillmode": "overlay",
              "size": 10,
              "solidity": 0.2
             }
            },
            "type": "barpolar"
           }
          ],
          "carpet": [
           {
            "aaxis": {
             "endlinecolor": "#2a3f5f",
             "gridcolor": "white",
             "linecolor": "white",
             "minorgridcolor": "white",
             "startlinecolor": "#2a3f5f"
            },
            "baxis": {
             "endlinecolor": "#2a3f5f",
             "gridcolor": "white",
             "linecolor": "white",
             "minorgridcolor": "white",
             "startlinecolor": "#2a3f5f"
            },
            "type": "carpet"
           }
          ],
          "choropleth": [
           {
            "colorbar": {
             "outlinewidth": 0,
             "ticks": ""
            },
            "type": "choropleth"
           }
          ],
          "contour": [
           {
            "colorbar": {
             "outlinewidth": 0,
             "ticks": ""
            },
            "colorscale": [
             [
              0,
              "#0d0887"
             ],
             [
              0.1111111111111111,
              "#46039f"
             ],
             [
              0.2222222222222222,
              "#7201a8"
             ],
             [
              0.3333333333333333,
              "#9c179e"
             ],
             [
              0.4444444444444444,
              "#bd3786"
             ],
             [
              0.5555555555555556,
              "#d8576b"
             ],
             [
              0.6666666666666666,
              "#ed7953"
             ],
             [
              0.7777777777777778,
              "#fb9f3a"
             ],
             [
              0.8888888888888888,
              "#fdca26"
             ],
             [
              1,
              "#f0f921"
             ]
            ],
            "type": "contour"
           }
          ],
          "contourcarpet": [
           {
            "colorbar": {
             "outlinewidth": 0,
             "ticks": ""
            },
            "type": "contourcarpet"
           }
          ],
          "heatmap": [
           {
            "colorbar": {
             "outlinewidth": 0,
             "ticks": ""
            },
            "colorscale": [
             [
              0,
              "#0d0887"
             ],
             [
              0.1111111111111111,
              "#46039f"
             ],
             [
              0.2222222222222222,
              "#7201a8"
             ],
             [
              0.3333333333333333,
              "#9c179e"
             ],
             [
              0.4444444444444444,
              "#bd3786"
             ],
             [
              0.5555555555555556,
              "#d8576b"
             ],
             [
              0.6666666666666666,
              "#ed7953"
             ],
             [
              0.7777777777777778,
              "#fb9f3a"
             ],
             [
              0.8888888888888888,
              "#fdca26"
             ],
             [
              1,
              "#f0f921"
             ]
            ],
            "type": "heatmap"
           }
          ],
          "heatmapgl": [
           {
            "colorbar": {
             "outlinewidth": 0,
             "ticks": ""
            },
            "colorscale": [
             [
              0,
              "#0d0887"
             ],
             [
              0.1111111111111111,
              "#46039f"
             ],
             [
              0.2222222222222222,
              "#7201a8"
             ],
             [
              0.3333333333333333,
              "#9c179e"
             ],
             [
              0.4444444444444444,
              "#bd3786"
             ],
             [
              0.5555555555555556,
              "#d8576b"
             ],
             [
              0.6666666666666666,
              "#ed7953"
             ],
             [
              0.7777777777777778,
              "#fb9f3a"
             ],
             [
              0.8888888888888888,
              "#fdca26"
             ],
             [
              1,
              "#f0f921"
             ]
            ],
            "type": "heatmapgl"
           }
          ],
          "histogram": [
           {
            "marker": {
             "pattern": {
              "fillmode": "overlay",
              "size": 10,
              "solidity": 0.2
             }
            },
            "type": "histogram"
           }
          ],
          "histogram2d": [
           {
            "colorbar": {
             "outlinewidth": 0,
             "ticks": ""
            },
            "colorscale": [
             [
              0,
              "#0d0887"
             ],
             [
              0.1111111111111111,
              "#46039f"
             ],
             [
              0.2222222222222222,
              "#7201a8"
             ],
             [
              0.3333333333333333,
              "#9c179e"
             ],
             [
              0.4444444444444444,
              "#bd3786"
             ],
             [
              0.5555555555555556,
              "#d8576b"
             ],
             [
              0.6666666666666666,
              "#ed7953"
             ],
             [
              0.7777777777777778,
              "#fb9f3a"
             ],
             [
              0.8888888888888888,
              "#fdca26"
             ],
             [
              1,
              "#f0f921"
             ]
            ],
            "type": "histogram2d"
           }
          ],
          "histogram2dcontour": [
           {
            "colorbar": {
             "outlinewidth": 0,
             "ticks": ""
            },
            "colorscale": [
             [
              0,
              "#0d0887"
             ],
             [
              0.1111111111111111,
              "#46039f"
             ],
             [
              0.2222222222222222,
              "#7201a8"
             ],
             [
              0.3333333333333333,
              "#9c179e"
             ],
             [
              0.4444444444444444,
              "#bd3786"
             ],
             [
              0.5555555555555556,
              "#d8576b"
             ],
             [
              0.6666666666666666,
              "#ed7953"
             ],
             [
              0.7777777777777778,
              "#fb9f3a"
             ],
             [
              0.8888888888888888,
              "#fdca26"
             ],
             [
              1,
              "#f0f921"
             ]
            ],
            "type": "histogram2dcontour"
           }
          ],
          "mesh3d": [
           {
            "colorbar": {
             "outlinewidth": 0,
             "ticks": ""
            },
            "type": "mesh3d"
           }
          ],
          "parcoords": [
           {
            "line": {
             "colorbar": {
              "outlinewidth": 0,
              "ticks": ""
             }
            },
            "type": "parcoords"
           }
          ],
          "pie": [
           {
            "automargin": true,
            "type": "pie"
           }
          ],
          "scatter": [
           {
            "fillpattern": {
             "fillmode": "overlay",
             "size": 10,
             "solidity": 0.2
            },
            "type": "scatter"
           }
          ],
          "scatter3d": [
           {
            "line": {
             "colorbar": {
              "outlinewidth": 0,
              "ticks": ""
             }
            },
            "marker": {
             "colorbar": {
              "outlinewidth": 0,
              "ticks": ""
             }
            },
            "type": "scatter3d"
           }
          ],
          "scattercarpet": [
           {
            "marker": {
             "colorbar": {
              "outlinewidth": 0,
              "ticks": ""
             }
            },
            "type": "scattercarpet"
           }
          ],
          "scattergeo": [
           {
            "marker": {
             "colorbar": {
              "outlinewidth": 0,
              "ticks": ""
             }
            },
            "type": "scattergeo"
           }
          ],
          "scattergl": [
           {
            "marker": {
             "colorbar": {
              "outlinewidth": 0,
              "ticks": ""
             }
            },
            "type": "scattergl"
           }
          ],
          "scattermapbox": [
           {
            "marker": {
             "colorbar": {
              "outlinewidth": 0,
              "ticks": ""
             }
            },
            "type": "scattermapbox"
           }
          ],
          "scatterpolar": [
           {
            "marker": {
             "colorbar": {
              "outlinewidth": 0,
              "ticks": ""
             }
            },
            "type": "scatterpolar"
           }
          ],
          "scatterpolargl": [
           {
            "marker": {
             "colorbar": {
              "outlinewidth": 0,
              "ticks": ""
             }
            },
            "type": "scatterpolargl"
           }
          ],
          "scatterternary": [
           {
            "marker": {
             "colorbar": {
              "outlinewidth": 0,
              "ticks": ""
             }
            },
            "type": "scatterternary"
           }
          ],
          "surface": [
           {
            "colorbar": {
             "outlinewidth": 0,
             "ticks": ""
            },
            "colorscale": [
             [
              0,
              "#0d0887"
             ],
             [
              0.1111111111111111,
              "#46039f"
             ],
             [
              0.2222222222222222,
              "#7201a8"
             ],
             [
              0.3333333333333333,
              "#9c179e"
             ],
             [
              0.4444444444444444,
              "#bd3786"
             ],
             [
              0.5555555555555556,
              "#d8576b"
             ],
             [
              0.6666666666666666,
              "#ed7953"
             ],
             [
              0.7777777777777778,
              "#fb9f3a"
             ],
             [
              0.8888888888888888,
              "#fdca26"
             ],
             [
              1,
              "#f0f921"
             ]
            ],
            "type": "surface"
           }
          ],
          "table": [
           {
            "cells": {
             "fill": {
              "color": "#EBF0F8"
             },
             "line": {
              "color": "white"
             }
            },
            "header": {
             "fill": {
              "color": "#C8D4E3"
             },
             "line": {
              "color": "white"
             }
            },
            "type": "table"
           }
          ]
         },
         "layout": {
          "annotationdefaults": {
           "arrowcolor": "#2a3f5f",
           "arrowhead": 0,
           "arrowwidth": 1
          },
          "autotypenumbers": "strict",
          "coloraxis": {
           "colorbar": {
            "outlinewidth": 0,
            "ticks": ""
           }
          },
          "colorscale": {
           "diverging": [
            [
             0,
             "#8e0152"
            ],
            [
             0.1,
             "#c51b7d"
            ],
            [
             0.2,
             "#de77ae"
            ],
            [
             0.3,
             "#f1b6da"
            ],
            [
             0.4,
             "#fde0ef"
            ],
            [
             0.5,
             "#f7f7f7"
            ],
            [
             0.6,
             "#e6f5d0"
            ],
            [
             0.7,
             "#b8e186"
            ],
            [
             0.8,
             "#7fbc41"
            ],
            [
             0.9,
             "#4d9221"
            ],
            [
             1,
             "#276419"
            ]
           ],
           "sequential": [
            [
             0,
             "#0d0887"
            ],
            [
             0.1111111111111111,
             "#46039f"
            ],
            [
             0.2222222222222222,
             "#7201a8"
            ],
            [
             0.3333333333333333,
             "#9c179e"
            ],
            [
             0.4444444444444444,
             "#bd3786"
            ],
            [
             0.5555555555555556,
             "#d8576b"
            ],
            [
             0.6666666666666666,
             "#ed7953"
            ],
            [
             0.7777777777777778,
             "#fb9f3a"
            ],
            [
             0.8888888888888888,
             "#fdca26"
            ],
            [
             1,
             "#f0f921"
            ]
           ],
           "sequentialminus": [
            [
             0,
             "#0d0887"
            ],
            [
             0.1111111111111111,
             "#46039f"
            ],
            [
             0.2222222222222222,
             "#7201a8"
            ],
            [
             0.3333333333333333,
             "#9c179e"
            ],
            [
             0.4444444444444444,
             "#bd3786"
            ],
            [
             0.5555555555555556,
             "#d8576b"
            ],
            [
             0.6666666666666666,
             "#ed7953"
            ],
            [
             0.7777777777777778,
             "#fb9f3a"
            ],
            [
             0.8888888888888888,
             "#fdca26"
            ],
            [
             1,
             "#f0f921"
            ]
           ]
          },
          "colorway": [
           "#636efa",
           "#EF553B",
           "#00cc96",
           "#ab63fa",
           "#FFA15A",
           "#19d3f3",
           "#FF6692",
           "#B6E880",
           "#FF97FF",
           "#FECB52"
          ],
          "font": {
           "color": "#2a3f5f"
          },
          "geo": {
           "bgcolor": "white",
           "lakecolor": "white",
           "landcolor": "#E5ECF6",
           "showlakes": true,
           "showland": true,
           "subunitcolor": "white"
          },
          "hoverlabel": {
           "align": "left"
          },
          "hovermode": "closest",
          "mapbox": {
           "style": "light"
          },
          "paper_bgcolor": "white",
          "plot_bgcolor": "#E5ECF6",
          "polar": {
           "angularaxis": {
            "gridcolor": "white",
            "linecolor": "white",
            "ticks": ""
           },
           "bgcolor": "#E5ECF6",
           "radialaxis": {
            "gridcolor": "white",
            "linecolor": "white",
            "ticks": ""
           }
          },
          "scene": {
           "xaxis": {
            "backgroundcolor": "#E5ECF6",
            "gridcolor": "white",
            "gridwidth": 2,
            "linecolor": "white",
            "showbackground": true,
            "ticks": "",
            "zerolinecolor": "white"
           },
           "yaxis": {
            "backgroundcolor": "#E5ECF6",
            "gridcolor": "white",
            "gridwidth": 2,
            "linecolor": "white",
            "showbackground": true,
            "ticks": "",
            "zerolinecolor": "white"
           },
           "zaxis": {
            "backgroundcolor": "#E5ECF6",
            "gridcolor": "white",
            "gridwidth": 2,
            "linecolor": "white",
            "showbackground": true,
            "ticks": "",
            "zerolinecolor": "white"
           }
          },
          "shapedefaults": {
           "line": {
            "color": "#2a3f5f"
           }
          },
          "ternary": {
           "aaxis": {
            "gridcolor": "white",
            "linecolor": "white",
            "ticks": ""
           },
           "baxis": {
            "gridcolor": "white",
            "linecolor": "white",
            "ticks": ""
           },
           "bgcolor": "#E5ECF6",
           "caxis": {
            "gridcolor": "white",
            "linecolor": "white",
            "ticks": ""
           }
          },
          "title": {
           "x": 0.05
          },
          "xaxis": {
           "automargin": true,
           "gridcolor": "white",
           "linecolor": "white",
           "ticks": "",
           "title": {
            "standoff": 15
           },
           "zerolinecolor": "white",
           "zerolinewidth": 2
          },
          "yaxis": {
           "automargin": true,
           "gridcolor": "white",
           "linecolor": "white",
           "ticks": "",
           "title": {
            "standoff": 15
           },
           "zerolinecolor": "white",
           "zerolinewidth": 2
          }
         }
        },
        "title": {
         "text": "Total de manutenções dos 3 equipamentos mais defeituosos por ano <br><sup>Período de 2015 a 2021</sup>"
        },
        "xaxis": {
         "anchor": "y",
         "categoryorder": "total descending",
         "domain": [
          0,
          1
         ],
         "title": {
          "text": "Equipamentos"
         }
        },
        "yaxis": {
         "anchor": "x",
         "domain": [
          0,
          1
         ],
         "title": {
          "text": "Quantidade de manutenções"
         }
        }
       }
      }
     },
     "metadata": {},
     "output_type": "display_data"
    }
   ],
   "source": [
    "fig = px.bar(data_frame=df_quebras_anuais, x= \"equipamento\", y= \"total_quebras\", color=\"Ano\", title= \"Total de manutenções dos 3 equipamentos mais defeituosos por ano <br><sup>Período de 2015 a 2021</sup>\", color_discrete_sequence=px.colors.sequential.Oranges)\n",
    "fig.update_layout(xaxis={'categoryorder':'total descending'}, xaxis_title=\"Equipamentos\", yaxis_title=\"Quantidade de manutenções\")\n",
    "fig.show()"
   ]
  },
  {
   "cell_type": "code",
   "execution_count": 30,
   "id": "3af1a4fd",
   "metadata": {
    "execution": {
     "iopub.execute_input": "2022-11-01T17:17:04.472268Z",
     "iopub.status.busy": "2022-11-01T17:17:04.471723Z",
     "iopub.status.idle": "2022-11-01T17:17:04.711361Z",
     "shell.execute_reply": "2022-11-01T17:17:04.710372Z"
    },
    "papermill": {
     "duration": 0.266358,
     "end_time": "2022-11-01T17:17:04.713366",
     "exception": false,
     "start_time": "2022-11-01T17:17:04.447008",
     "status": "completed"
    },
    "tags": []
   },
   "outputs": [
    {
     "data": {
      "image/png": "[encoded data removed]",
      "text/plain": [
       "<Figure size 1600x500 with 1 Axes>"
      ]
     },
     "metadata": {},
     "output_type": "display_data"
    }
   ],
   "source": [
    "plt.figure(figsize=(16,5))\n",
    "df_quebras_anuais.value_counts(\"equipamento\").plot(kind=\"barh\")\n",
    "plt.title(\"Frequência dos 3 equipamentos que mais quebraram entre 2015 a 2021\",fontweight=\"bold\")\n",
    "plt.xlabel(\"Frequência\")\n",
    "plt.ylabel(\"Equipamento\");"
   ]
  },
  {
   "cell_type": "markdown",
   "id": "03a8aa42",
   "metadata": {
    "papermill": {
     "duration": 0.022422,
     "end_time": "2022-11-01T17:17:04.758244",
     "exception": false,
     "start_time": "2022-11-01T17:17:04.735822",
     "status": "completed"
    },
    "tags": []
   },
   "source": [
    "#### Com base nas tabelas apresentadas, percebe-se que nem sempre os equipamentos que mais necessitam de manutenção são os mais custosos. Novamente, os equipamentos 76 e 1 aparecem liderando o número de manutenções anuais. "
   ]
  },
  {
   "cell_type": "markdown",
   "id": "08d125e4",
   "metadata": {
    "papermill": {
     "duration": 0.022434,
     "end_time": "2022-11-01T17:17:04.802715",
     "exception": false,
     "start_time": "2022-11-01T17:17:04.780281",
     "status": "completed"
    },
    "tags": []
   },
   "source": [
    "## Análise 3 - O rank é um input manual, ou seja, o funcionário é responsável por calcular o tempo da manutenção e atribuir o rank devido. Considerando essa informação, qual é a taxa de acertividade da definição desse parâmetro?"
   ]
  },
  {
   "cell_type": "markdown",
   "id": "90039f8f",
   "metadata": {
    "papermill": {
     "duration": 0.021609,
     "end_time": "2022-11-01T17:17:04.846446",
     "exception": false,
     "start_time": "2022-11-01T17:17:04.824837",
     "status": "completed"
    },
    "tags": []
   },
   "source": [
    "Criação de função para criar uma nova coluna que atribui o rank corretor de forma automática, baseada no padrão definido pela empresa. Como o rank D é atribuido para máquinas específicas independente do tempo, ele foi desconsiderado para esta análise, uma vez que não possuímos a informação específica de quais máquinas seriam consideradas como rank D."
   ]
  },
  {
   "cell_type": "code",
   "execution_count": 31,
   "id": "fbdb6c6e",
   "metadata": {
    "execution": {
     "iopub.execute_input": "2022-11-01T17:17:04.893050Z",
     "iopub.status.busy": "2022-11-01T17:17:04.892424Z",
     "iopub.status.idle": "2022-11-01T17:17:04.933000Z",
     "shell.execute_reply": "2022-11-01T17:17:04.932256Z"
    },
    "papermill": {
     "duration": 0.066057,
     "end_time": "2022-11-01T17:17:04.934958",
     "exception": false,
     "start_time": "2022-11-01T17:17:04.868901",
     "status": "completed"
    },
    "tags": []
   },
   "outputs": [],
   "source": [
    "df_rank_automatico = df[df[\"rank\"] != \"D\"]"
   ]
  },
  {
   "cell_type": "code",
   "execution_count": 32,
   "id": "56b7a2a5",
   "metadata": {
    "execution": {
     "iopub.execute_input": "2022-11-01T17:17:04.980950Z",
     "iopub.status.busy": "2022-11-01T17:17:04.980586Z",
     "iopub.status.idle": "2022-11-01T17:17:04.986001Z",
     "shell.execute_reply": "2022-11-01T17:17:04.985132Z"
    },
    "papermill": {
     "duration": 0.030391,
     "end_time": "2022-11-01T17:17:04.987892",
     "exception": false,
     "start_time": "2022-11-01T17:17:04.957501",
     "status": "completed"
    },
    "tags": []
   },
   "outputs": [],
   "source": [
    "def avaliador(x):\n",
    "    a = None\n",
    "    if 0 < x < 20:\n",
    "        a = \"C\"\n",
    "    elif 20 <= x < 240:\n",
    "        a = \"B\"\n",
    "    elif x >= 240:\n",
    "        a = \"A\"\n",
    "    elif x == 0:\n",
    "        a = \"Sem rank\"\n",
    "    return a"
   ]
  },
  {
   "cell_type": "code",
   "execution_count": 33,
   "id": "c587c2b3",
   "metadata": {
    "execution": {
     "iopub.execute_input": "2022-11-01T17:17:05.034629Z",
     "iopub.status.busy": "2022-11-01T17:17:05.034006Z",
     "iopub.status.idle": "2022-11-01T17:17:05.138898Z",
     "shell.execute_reply": "2022-11-01T17:17:05.138088Z"
    },
    "papermill": {
     "duration": 0.130755,
     "end_time": "2022-11-01T17:17:05.141245",
     "exception": false,
     "start_time": "2022-11-01T17:17:05.010490",
     "status": "completed"
    },
    "tags": []
   },
   "outputs": [
    {
     "name": "stderr",
     "output_type": "stream",
     "text": [
      "C:\\Users\\Thiago\\AppData\\Local\\Temp\\ipykernel_11780\\103888500.py:1: SettingWithCopyWarning:\n",
      "\n",
      "\n",
      "A value is trying to be set on a copy of a slice from a DataFrame.\n",
      "Try using .loc[row_indexer,col_indexer] = value instead\n",
      "\n",
      "See the caveats in the documentation: https://pandas.pydata.org/pandas-docs/stable/user_guide/indexing.html#returning-a-view-versus-a-copy\n",
      "\n"
     ]
    }
   ],
   "source": [
    "df_rank_automatico[\"rank_automatico\"] = df[\"tempo_manutencao\"].apply(avaliador)"
   ]
  },
  {
   "cell_type": "code",
   "execution_count": 34,
   "id": "a4ff2cbb",
   "metadata": {
    "execution": {
     "iopub.execute_input": "2022-11-01T17:17:05.186500Z",
     "iopub.status.busy": "2022-11-01T17:17:05.186151Z",
     "iopub.status.idle": "2022-11-01T17:17:05.213517Z",
     "shell.execute_reply": "2022-11-01T17:17:05.212899Z"
    },
    "papermill": {
     "duration": 0.051721,
     "end_time": "2022-11-01T17:17:05.215258",
     "exception": false,
     "start_time": "2022-11-01T17:17:05.163537",
     "status": "completed"
    },
    "tags": []
   },
   "outputs": [
    {
     "data": {
      "text/html": [
       "<div>\n",
       "<style scoped>\n",
       "    .dataframe tbody tr th:only-of-type {\n",
       "        vertical-align: middle;\n",
       "    }\n",
       "\n",
       "    .dataframe tbody tr th {\n",
       "        vertical-align: top;\n",
       "    }\n",
       "\n",
       "    .dataframe thead th {\n",
       "        text-align: right;\n",
       "    }\n",
       "</style>\n",
       "<table border=\"1\" class=\"dataframe\">\n",
       "  <thead>\n",
       "    <tr style=\"text-align: right;\">\n",
       "      <th></th>\n",
       "      <th>count</th>\n",
       "      <th>count</th>\n",
       "    </tr>\n",
       "  </thead>\n",
       "  <tbody>\n",
       "    <tr>\n",
       "      <th>A</th>\n",
       "      <td>4932</td>\n",
       "      <td>3254</td>\n",
       "    </tr>\n",
       "    <tr>\n",
       "      <th>B</th>\n",
       "      <td>63846</td>\n",
       "      <td>87942</td>\n",
       "    </tr>\n",
       "    <tr>\n",
       "      <th>C</th>\n",
       "      <td>40160</td>\n",
       "      <td>47784</td>\n",
       "    </tr>\n",
       "    <tr>\n",
       "      <th>Sem rank</th>\n",
       "      <td>86784</td>\n",
       "      <td>56742</td>\n",
       "    </tr>\n",
       "  </tbody>\n",
       "</table>\n",
       "</div>"
      ],
      "text/plain": [
       "          count  count\n",
       "A          4932   3254\n",
       "B         63846  87942\n",
       "C         40160  47784\n",
       "Sem rank  86784  56742"
      ]
     },
     "execution_count": 34,
     "metadata": {},
     "output_type": "execute_result"
    }
   ],
   "source": [
    "pd.concat([df_rank_automatico[\"rank_automatico\"].value_counts().sort_index(), df_rank_automatico[\"rank\"].value_counts().sort_index()], axis=1)"
   ]
  },
  {
   "cell_type": "code",
   "execution_count": 35,
   "id": "38fd8107",
   "metadata": {
    "execution": {
     "iopub.execute_input": "2022-11-01T17:17:05.261623Z",
     "iopub.status.busy": "2022-11-01T17:17:05.260784Z",
     "iopub.status.idle": "2022-11-01T17:17:05.488913Z",
     "shell.execute_reply": "2022-11-01T17:17:05.487965Z"
    },
    "papermill": {
     "duration": 0.25357,
     "end_time": "2022-11-01T17:17:05.491186",
     "exception": false,
     "start_time": "2022-11-01T17:17:05.237616",
     "status": "completed"
    },
    "tags": []
   },
   "outputs": [
    {
     "data": {
      "image/png": "[encoded data removed]",
      "text/plain": [
       "<Figure size 1000x1000 with 1 Axes>"
      ]
     },
     "metadata": {},
     "output_type": "display_data"
    }
   ],
   "source": [
    "plt.figure(figsize=(10,10))\n",
    "# set width of bars\n",
    "barWidth = 0.25\n",
    " \n",
    "# set heights of bars\n",
    "bars1 = df_rank_automatico[\"rank_automatico\"].value_counts().sort_index()\n",
    "bars2 = df_rank_automatico[\"rank\"].value_counts().sort_index()\n",
    " \n",
    "# Set position of bar on X axis\n",
    "r1 = np.arange(len(bars1))\n",
    "r2 = [x + barWidth for x in r1]\n",
    " \n",
    "# Make the plot\n",
    "plt.bar(r1 + 0.2, bars1, color='#7f6d5f', width=0.4, edgecolor='white', label='Rank Automático')\n",
    "plt.bar(r1 - 0.2, bars2, color='#557f2d', width=0.4, edgecolor='white', label='Rank Manual')\n",
    " \n",
    "# Add xticks on the middle of the group bars\n",
    "\n",
    "plt.xticks([r for r in range(len(bars1))], ['A', 'B', 'C', 'Sem rank'])\n",
    " \n",
    "# Create legend & Show graphic\n",
    "plt.legend()\n",
    "plt.xlabel(\"Ranks\", fontsize=12)\n",
    "plt.ylabel(\"Frequência\", fontsize=12)\n",
    "plt.title(\"Rank Automático vs Rank Manual\", fontsize=16)\n",
    "plt.show()"
   ]
  },
  {
   "cell_type": "code",
   "execution_count": 36,
   "id": "5ba7add9",
   "metadata": {
    "execution": {
     "iopub.execute_input": "2022-11-01T17:17:05.538075Z",
     "iopub.status.busy": "2022-11-01T17:17:05.537733Z",
     "iopub.status.idle": "2022-11-01T17:17:09.144840Z",
     "shell.execute_reply": "2022-11-01T17:17:09.143731Z"
    },
    "papermill": {
     "duration": 3.633258,
     "end_time": "2022-11-01T17:17:09.147461",
     "exception": false,
     "start_time": "2022-11-01T17:17:05.514203",
     "status": "completed"
    },
    "tags": []
   },
   "outputs": [],
   "source": [
    "is_equal = []\n",
    "df_rank_automatico.reset_index(inplace=True)\n",
    "for i in range(len(df_rank_automatico)):\n",
    "    if df_rank_automatico.loc[i, \"rank\"] == df_rank_automatico.loc[i, \"rank_automatico\"]:\n",
    "        is_equal.append(True)\n",
    "    else:\n",
    "        is_equal.append(False)"
   ]
  },
  {
   "cell_type": "code",
   "execution_count": 37,
   "id": "fda08f41",
   "metadata": {
    "execution": {
     "iopub.execute_input": "2022-11-01T17:17:09.198704Z",
     "iopub.status.busy": "2022-11-01T17:17:09.198365Z",
     "iopub.status.idle": "2022-11-01T17:17:09.210783Z",
     "shell.execute_reply": "2022-11-01T17:17:09.209792Z"
    },
    "papermill": {
     "duration": 0.040316,
     "end_time": "2022-11-01T17:17:09.212911",
     "exception": false,
     "start_time": "2022-11-01T17:17:09.172595",
     "status": "completed"
    },
    "tags": []
   },
   "outputs": [
    {
     "data": {
      "text/plain": [
       "65.56"
      ]
     },
     "execution_count": 37,
     "metadata": {},
     "output_type": "execute_result"
    }
   ],
   "source": [
    "round((sum(is_equal) / len(df_rank_automatico))*100,2)"
   ]
  },
  {
   "cell_type": "markdown",
   "id": "d4f4d7e0",
   "metadata": {
    "papermill": {
     "duration": 0.024453,
     "end_time": "2022-11-01T17:17:09.261162",
     "exception": false,
     "start_time": "2022-11-01T17:17:09.236709",
     "status": "completed"
    },
    "tags": []
   },
   "source": [
    "## 65.56 %\n",
    "### Essa é a acertividade do rankeamento manual."
   ]
  },
  {
   "cell_type": "markdown",
   "id": "db8cea52",
   "metadata": {
    "papermill": {
     "duration": 0.02375,
     "end_time": "2022-11-01T17:17:09.308872",
     "exception": false,
     "start_time": "2022-11-01T17:17:09.285122",
     "status": "completed"
    },
    "tags": []
   },
   "source": [
    "#### Percebe-se que os funcionários são pouco acertivos ao preencher os ranks. Recomenda-se automatizar o rankeamento para reduzir erros e otimizar análises."
   ]
  },
  {
   "cell_type": "markdown",
   "id": "7fd716b1",
   "metadata": {
    "papermill": {
     "duration": 0.024752,
     "end_time": "2022-11-01T17:17:09.358994",
     "exception": false,
     "start_time": "2022-11-01T17:17:09.334242",
     "status": "completed"
    },
    "tags": []
   },
   "source": [
    "## Análise 4 - Analisar quantas ordens de manutencão não foram fechadas, ou seja estão abertas até Agosto de 2022."
   ]
  },
  {
   "cell_type": "markdown",
   "id": "e7d46953",
   "metadata": {
    "papermill": {
     "duration": 0.023736,
     "end_time": "2022-11-01T17:17:09.407269",
     "exception": false,
     "start_time": "2022-11-01T17:17:09.383533",
     "status": "completed"
    },
    "tags": []
   },
   "source": [
    "Para as ordens serem consideradas abertas é necessário seguir as seguintes condições:\n",
    "* Ter número de ordem.\n",
    "* Não ter data fim.\n",
    "* Tempo de manutenção = 0.\n",
    "* Tempo real = 0."
   ]
  },
  {
   "cell_type": "code",
   "execution_count": 38,
   "id": "32b25a75",
   "metadata": {
    "execution": {
     "iopub.execute_input": "2022-11-01T17:17:09.458753Z",
     "iopub.status.busy": "2022-11-01T17:17:09.457762Z",
     "iopub.status.idle": "2022-11-01T17:17:09.479629Z",
     "shell.execute_reply": "2022-11-01T17:17:09.478667Z"
    },
    "papermill": {
     "duration": 0.049716,
     "end_time": "2022-11-01T17:17:09.481841",
     "exception": false,
     "start_time": "2022-11-01T17:17:09.432125",
     "status": "completed"
    },
    "tags": []
   },
   "outputs": [],
   "source": [
    "mask1 = ~df[\"n_ordem\"].isna()\n",
    "mask2 = df[\"data_fim\"].isna()\n",
    "mask3 = df[\"tempo_manutencao\"] == 0\n",
    "mask4 = df[\"tempo_real\"] == 0"
   ]
  },
  {
   "cell_type": "code",
   "execution_count": 39,
   "id": "03fd6781",
   "metadata": {
    "execution": {
     "iopub.execute_input": "2022-11-01T17:17:09.532027Z",
     "iopub.status.busy": "2022-11-01T17:17:09.531649Z",
     "iopub.status.idle": "2022-11-01T17:17:09.542051Z",
     "shell.execute_reply": "2022-11-01T17:17:09.541362Z"
    },
    "papermill": {
     "duration": 0.037865,
     "end_time": "2022-11-01T17:17:09.543995",
     "exception": false,
     "start_time": "2022-11-01T17:17:09.506130",
     "status": "completed"
    },
    "tags": []
   },
   "outputs": [],
   "source": [
    "df_ordens_abertas = df[(mask1) & (mask2) & (mask3) & (mask4)]"
   ]
  },
  {
   "cell_type": "code",
   "execution_count": 40,
   "id": "8a41eb88",
   "metadata": {
    "execution": {
     "iopub.execute_input": "2022-11-01T17:17:09.593770Z",
     "iopub.status.busy": "2022-11-01T17:17:09.593070Z",
     "iopub.status.idle": "2022-11-01T17:17:09.598502Z",
     "shell.execute_reply": "2022-11-01T17:17:09.597831Z"
    },
    "papermill": {
     "duration": 0.032392,
     "end_time": "2022-11-01T17:17:09.600397",
     "exception": false,
     "start_time": "2022-11-01T17:17:09.568005",
     "status": "completed"
    },
    "tags": []
   },
   "outputs": [
    {
     "data": {
      "text/plain": [
       "12969"
      ]
     },
     "execution_count": 40,
     "metadata": {},
     "output_type": "execute_result"
    }
   ],
   "source": [
    "df_ordens_abertas.shape[0]"
   ]
  },
  {
   "cell_type": "markdown",
   "id": "b7c095c2",
   "metadata": {
    "papermill": {
     "duration": 0.023296,
     "end_time": "2022-11-01T17:17:09.647308",
     "exception": false,
     "start_time": "2022-11-01T17:17:09.624012",
     "status": "completed"
    },
    "tags": []
   },
   "source": [
    "Em 8 anos, 12969 ordens nunca foram fechadas. Recomenda-se fornecer treinamento para que os dados sejam coletados de forma mais confiável, possibilitando uma análise melhor."
   ]
  },
  {
   "cell_type": "code",
   "execution_count": 41,
   "id": "051e24fd",
   "metadata": {
    "execution": {
     "iopub.execute_input": "2022-11-01T17:17:09.697127Z",
     "iopub.status.busy": "2022-11-01T17:17:09.696735Z",
     "iopub.status.idle": "2022-11-01T17:17:09.728758Z",
     "shell.execute_reply": "2022-11-01T17:17:09.727961Z"
    },
    "papermill": {
     "duration": 0.059733,
     "end_time": "2022-11-01T17:17:09.731128",
     "exception": false,
     "start_time": "2022-11-01T17:17:09.671395",
     "status": "completed"
    },
    "tags": []
   },
   "outputs": [],
   "source": [
    "df_ordens_abertas_ano = df_ordens_abertas.groupby(df[\"data_inicio\"].dt.year).size()"
   ]
  },
  {
   "cell_type": "markdown",
   "id": "6527f18c",
   "metadata": {
    "papermill": {
     "duration": 0.02349,
     "end_time": "2022-11-01T17:17:09.778813",
     "exception": false,
     "start_time": "2022-11-01T17:17:09.755323",
     "status": "completed"
    },
    "tags": []
   },
   "source": [
    "O gráfico a seguir mostra a evolução dos anos de 2015 à 2021 no quesito de ordens abertas:"
   ]
  },
  {
   "cell_type": "code",
   "execution_count": 42,
   "id": "3df9e2d4",
   "metadata": {
    "execution": {
     "iopub.execute_input": "2022-11-01T17:17:09.827134Z",
     "iopub.status.busy": "2022-11-01T17:17:09.826784Z",
     "iopub.status.idle": "2022-11-01T17:17:10.081164Z",
     "shell.execute_reply": "2022-11-01T17:17:10.080086Z"
    },
    "papermill": {
     "duration": 0.280894,
     "end_time": "2022-11-01T17:17:10.083463",
     "exception": false,
     "start_time": "2022-11-01T17:17:09.802569",
     "status": "completed"
    },
    "tags": []
   },
   "outputs": [
    {
     "data": {
      "text/plain": [
       "Text(0, 0.5, 'N ordens abertas')"
      ]
     },
     "execution_count": 42,
     "metadata": {},
     "output_type": "execute_result"
    },
    {
     "data": {
      "image/png": "[encoded data removed]",
      "text/plain": [
       "<Figure size 1000x1000 with 1 Axes>"
      ]
     },
     "metadata": {},
     "output_type": "display_data"
    }
   ],
   "source": [
    "plt.figure(figsize=(10,10))\n",
    "df_ordens_abertas_ano.plot()\n",
    "plt.title(\"Ordens abertas por ano\", fontweight=\"bold\", fontsize=15)\n",
    "plt.xlabel(\"\")\n",
    "plt.ylabel(\"N ordens abertas\", fontsize=13)"
   ]
  },
  {
   "cell_type": "markdown",
   "id": "dd1d19e7",
   "metadata": {
    "papermill": {
     "duration": 0.024856,
     "end_time": "2022-11-01T17:17:10.133790",
     "exception": false,
     "start_time": "2022-11-01T17:17:10.108934",
     "status": "completed"
    },
    "tags": []
   },
   "source": [
    "Através da análise do gráfico, percebe-se que houve uma melhora significativa a partir de 2018 na coleta de dados."
   ]
  },
  {
   "cell_type": "markdown",
   "id": "6bc9298e",
   "metadata": {
    "papermill": {
     "duration": 0.024763,
     "end_time": "2022-11-01T17:17:10.183070",
     "exception": false,
     "start_time": "2022-11-01T17:17:10.158307",
     "status": "completed"
    },
    "tags": []
   },
   "source": [
    "## Análise 5 - Boxplot do tempo de manutenção por ano dos chamados concluídos."
   ]
  },
  {
   "cell_type": "markdown",
   "id": "1489b9f0",
   "metadata": {
    "papermill": {
     "duration": 0.02387,
     "end_time": "2022-11-01T17:17:10.230984",
     "exception": false,
     "start_time": "2022-11-01T17:17:10.207114",
     "status": "completed"
    },
    "tags": []
   },
   "source": [
    "Chamado concluído pode ser definido da seguinte maneiras:\n",
    "* Ter número de ordem.\n",
    "* Ter data fim."
   ]
  },
  {
   "cell_type": "code",
   "execution_count": 43,
   "id": "b47c27a6",
   "metadata": {
    "execution": {
     "iopub.execute_input": "2022-11-01T17:17:10.281437Z",
     "iopub.status.busy": "2022-11-01T17:17:10.281069Z",
     "iopub.status.idle": "2022-11-01T17:17:10.330735Z",
     "shell.execute_reply": "2022-11-01T17:17:10.329863Z"
    },
    "papermill": {
     "duration": 0.078034,
     "end_time": "2022-11-01T17:17:10.332979",
     "exception": false,
     "start_time": "2022-11-01T17:17:10.254945",
     "status": "completed"
    },
    "tags": []
   },
   "outputs": [],
   "source": [
    "mask1 = ~df[\"n_ordem\"].isna()\n",
    "mask2 = ~df[\"data_fim\"].isna()\n",
    "df_chamados_concluidos = df[(mask1) & (mask2)]"
   ]
  },
  {
   "cell_type": "markdown",
   "id": "2b197c62",
   "metadata": {
    "papermill": {
     "duration": 0.023887,
     "end_time": "2022-11-01T17:17:10.380609",
     "exception": false,
     "start_time": "2022-11-01T17:17:10.356722",
     "status": "completed"
    },
    "tags": []
   },
   "source": [
    "O boxplot a seguir representa os dados sem nenhum filtro de tempo de manutenção."
   ]
  },
  {
   "cell_type": "code",
   "execution_count": 44,
   "id": "4911a566",
   "metadata": {
    "execution": {
     "iopub.execute_input": "2022-11-01T17:17:10.428567Z",
     "iopub.status.busy": "2022-11-01T17:17:10.428227Z",
     "iopub.status.idle": "2022-11-01T17:17:10.792414Z",
     "shell.execute_reply": "2022-11-01T17:17:10.791306Z"
    },
    "papermill": {
     "duration": 0.390886,
     "end_time": "2022-11-01T17:17:10.794809",
     "exception": false,
     "start_time": "2022-11-01T17:17:10.403923",
     "status": "completed"
    },
    "tags": []
   },
   "outputs": [
    {
     "data": {
      "text/plain": [
       "Text(0, 0.5, 'Tempo de manutenção (min)')"
      ]
     },
     "execution_count": 44,
     "metadata": {},
     "output_type": "execute_result"
    },
    {
     "data": {
      "image/png": "[encoded data removed]",
      "text/plain": [
       "<Figure size 1000x1000 with 1 Axes>"
      ]
     },
     "metadata": {},
     "output_type": "display_data"
    }
   ],
   "source": [
    "plt.figure(figsize=(10,10))\n",
    "sns.boxplot(x= df_chamados_concluidos[\"data_inicio\"].dt.year, y= df_chamados_concluidos[\"tempo_manutencao\"], showfliers=False)\n",
    "plt.title(\"Tempo de manutenção por ano\", fontsize=17)\n",
    "plt.xlabel(\"Ano\", fontsize=14)\n",
    "plt.ylabel(\"Tempo de manutenção (min)\", fontsize=14)"
   ]
  },
  {
   "cell_type": "markdown",
   "id": "caadc11b",
   "metadata": {
    "papermill": {
     "duration": 0.023956,
     "end_time": "2022-11-01T17:17:10.843703",
     "exception": false,
     "start_time": "2022-11-01T17:17:10.819747",
     "status": "completed"
    },
    "tags": []
   },
   "source": [
    "Como pode-se observar, a maior parte dos dados (mais de 25%) estão com tempo de manutenção igual a zero, com excessão apenas dos anos de 2018 e 2019, e com destaque para 2015, que o número de manutenções com 0 minutos chega quase a 50%. Isso demonstra um erro de coleta de dados, uma vez que não faz sentido uma manutenção durar 0 minutos, e uma necessidade latente de realizar treinamentos afim de garantir dados confiáveis para melhorar a qualidade das análises.\n",
    "\n",
    "Vale ressaltar que os outliers eram muito representativos e distantes do resto dos dados, portanto eles foram excluídos para essa análise, uma vez que distorciam muito o gráfico dificultando sua interpretação."
   ]
  },
  {
   "cell_type": "code",
   "execution_count": 45,
   "id": "ad720d8c",
   "metadata": {
    "execution": {
     "iopub.execute_input": "2022-11-01T17:17:10.893441Z",
     "iopub.status.busy": "2022-11-01T17:17:10.892817Z",
     "iopub.status.idle": "2022-11-01T17:17:10.924911Z",
     "shell.execute_reply": "2022-11-01T17:17:10.924216Z"
    },
    "papermill": {
     "duration": 0.060075,
     "end_time": "2022-11-01T17:17:10.927055",
     "exception": false,
     "start_time": "2022-11-01T17:17:10.866980",
     "status": "completed"
    },
    "tags": []
   },
   "outputs": [],
   "source": [
    "mask3 = df_chamados_concluidos[\"tempo_manutencao\"] < df_chamados_concluidos[\"tempo_manutencao\"].quantile(0.98)\n",
    "mask4 = df_chamados_concluidos[\"tempo_manutencao\"] > 0\n",
    "df_chamados_concluidos = df_chamados_concluidos[(mask3) & (mask4)]"
   ]
  },
  {
   "cell_type": "code",
   "execution_count": 46,
   "id": "191902b3",
   "metadata": {
    "execution": {
     "iopub.execute_input": "2022-11-01T17:17:10.978722Z",
     "iopub.status.busy": "2022-11-01T17:17:10.978097Z",
     "iopub.status.idle": "2022-11-01T17:17:11.497856Z",
     "shell.execute_reply": "2022-11-01T17:17:11.496869Z"
    },
    "papermill": {
     "duration": 0.548318,
     "end_time": "2022-11-01T17:17:11.500058",
     "exception": false,
     "start_time": "2022-11-01T17:17:10.951740",
     "status": "completed"
    },
    "tags": []
   },
   "outputs": [
    {
     "data": {
      "image/png": "[encoded data removed]",
      "text/plain": [
       "<Figure size 640x480 with 1 Axes>"
      ]
     },
     "metadata": {},
     "output_type": "display_data"
    }
   ],
   "source": [
    "sns.boxplot(x= df_chamados_concluidos[\"data_inicio\"].dt.year, y= df_chamados_concluidos[\"tempo_manutencao\"])\n",
    "plt.title(\"Tempo de manutenção por ano\")\n",
    "plt.xlabel(\"Ano\")\n",
    "plt.ylabel(\"Tempo de manutenção (min)\");"
   ]
  },
  {
   "cell_type": "markdown",
   "id": "95996304",
   "metadata": {
    "papermill": {
     "duration": 0.024032,
     "end_time": "2022-11-01T17:17:11.548333",
     "exception": false,
     "start_time": "2022-11-01T17:17:11.524301",
     "status": "completed"
    },
    "tags": []
   },
   "source": [
    "O boxplot construído acima foi realizado com filtros na coluna tempo_manutenção. Através dos filtros foram retirados todos os tempos iguais a 0 e os 2% de tempos mais elevados. A partir de dessa análise podemos perceber que de formar consistente 75% das manutenções são realizadas em torno de 60 minutos de forma consistente ao decorrer dos anos, e que a mediana do tempo teve uma tendência de queda, além do que os outliers se mantiveram consistentes a partir dos 150 minutos."
   ]
  },
  {
   "cell_type": "code",
   "execution_count": 47,
   "id": "100cbeb1",
   "metadata": {
    "execution": {
     "iopub.execute_input": "2022-11-01T17:17:11.599357Z",
     "iopub.status.busy": "2022-11-01T17:17:11.598963Z",
     "iopub.status.idle": "2022-11-01T17:17:11.662833Z",
     "shell.execute_reply": "2022-11-01T17:17:11.661881Z"
    },
    "papermill": {
     "duration": 0.091691,
     "end_time": "2022-11-01T17:17:11.664729",
     "exception": false,
     "start_time": "2022-11-01T17:17:11.573038",
     "status": "completed"
    },
    "tags": []
   },
   "outputs": [
    {
     "data": {
      "text/html": [
       "<div>\n",
       "<style scoped>\n",
       "    .dataframe tbody tr th:only-of-type {\n",
       "        vertical-align: middle;\n",
       "    }\n",
       "\n",
       "    .dataframe tbody tr th {\n",
       "        vertical-align: top;\n",
       "    }\n",
       "\n",
       "    .dataframe thead th {\n",
       "        text-align: right;\n",
       "    }\n",
       "</style>\n",
       "<table border=\"1\" class=\"dataframe\">\n",
       "  <thead>\n",
       "    <tr style=\"text-align: right;\">\n",
       "      <th></th>\n",
       "      <th>count</th>\n",
       "      <th>mean</th>\n",
       "      <th>std</th>\n",
       "      <th>min</th>\n",
       "      <th>25%</th>\n",
       "      <th>50%</th>\n",
       "      <th>75%</th>\n",
       "      <th>max</th>\n",
       "    </tr>\n",
       "    <tr>\n",
       "      <th>data_inicio</th>\n",
       "      <th></th>\n",
       "      <th></th>\n",
       "      <th></th>\n",
       "      <th></th>\n",
       "      <th></th>\n",
       "      <th></th>\n",
       "      <th></th>\n",
       "      <th></th>\n",
       "    </tr>\n",
       "  </thead>\n",
       "  <tbody>\n",
       "    <tr>\n",
       "      <th>2015</th>\n",
       "      <td>9739</td>\n",
       "      <td>53</td>\n",
       "      <td>59</td>\n",
       "      <td>0</td>\n",
       "      <td>14</td>\n",
       "      <td>32</td>\n",
       "      <td>68</td>\n",
       "      <td>329</td>\n",
       "    </tr>\n",
       "    <tr>\n",
       "      <th>2016</th>\n",
       "      <td>11524</td>\n",
       "      <td>52</td>\n",
       "      <td>58</td>\n",
       "      <td>0</td>\n",
       "      <td>14</td>\n",
       "      <td>31</td>\n",
       "      <td>65</td>\n",
       "      <td>327</td>\n",
       "    </tr>\n",
       "    <tr>\n",
       "      <th>2017</th>\n",
       "      <td>15460</td>\n",
       "      <td>50</td>\n",
       "      <td>57</td>\n",
       "      <td>0</td>\n",
       "      <td>13</td>\n",
       "      <td>30</td>\n",
       "      <td>63</td>\n",
       "      <td>328</td>\n",
       "    </tr>\n",
       "    <tr>\n",
       "      <th>2018</th>\n",
       "      <td>24306</td>\n",
       "      <td>50</td>\n",
       "      <td>56</td>\n",
       "      <td>0</td>\n",
       "      <td>13</td>\n",
       "      <td>31</td>\n",
       "      <td>63</td>\n",
       "      <td>329</td>\n",
       "    </tr>\n",
       "    <tr>\n",
       "      <th>2019</th>\n",
       "      <td>28775</td>\n",
       "      <td>47</td>\n",
       "      <td>54</td>\n",
       "      <td>0</td>\n",
       "      <td>12</td>\n",
       "      <td>28</td>\n",
       "      <td>60</td>\n",
       "      <td>329</td>\n",
       "    </tr>\n",
       "    <tr>\n",
       "      <th>2020</th>\n",
       "      <td>20606</td>\n",
       "      <td>44</td>\n",
       "      <td>53</td>\n",
       "      <td>0</td>\n",
       "      <td>11</td>\n",
       "      <td>25</td>\n",
       "      <td>55</td>\n",
       "      <td>329</td>\n",
       "    </tr>\n",
       "    <tr>\n",
       "      <th>2021</th>\n",
       "      <td>24059</td>\n",
       "      <td>45</td>\n",
       "      <td>53</td>\n",
       "      <td>0</td>\n",
       "      <td>11</td>\n",
       "      <td>25</td>\n",
       "      <td>55</td>\n",
       "      <td>329</td>\n",
       "    </tr>\n",
       "    <tr>\n",
       "      <th>2022</th>\n",
       "      <td>13454</td>\n",
       "      <td>46</td>\n",
       "      <td>54</td>\n",
       "      <td>0</td>\n",
       "      <td>12</td>\n",
       "      <td>26</td>\n",
       "      <td>58</td>\n",
       "      <td>328</td>\n",
       "    </tr>\n",
       "  </tbody>\n",
       "</table>\n",
       "</div>"
      ],
      "text/plain": [
       "             count  mean  std  min  25%  50%  75%  max\n",
       "data_inicio                                           \n",
       "2015          9739    53   59    0   14   32   68  329\n",
       "2016         11524    52   58    0   14   31   65  327\n",
       "2017         15460    50   57    0   13   30   63  328\n",
       "2018         24306    50   56    0   13   31   63  329\n",
       "2019         28775    47   54    0   12   28   60  329\n",
       "2020         20606    44   53    0   11   25   55  329\n",
       "2021         24059    45   53    0   11   25   55  329\n",
       "2022         13454    46   54    0   12   26   58  328"
      ]
     },
     "execution_count": 47,
     "metadata": {},
     "output_type": "execute_result"
    }
   ],
   "source": [
    "df_chamados_concluidos.groupby(df[\"data_inicio\"].dt.year)[\"tempo_manutencao\"].describe().astype(int)"
   ]
  },
  {
   "cell_type": "markdown",
   "id": "a6f6fbf9",
   "metadata": {
    "papermill": {
     "duration": 0.024356,
     "end_time": "2022-11-01T17:17:11.713716",
     "exception": false,
     "start_time": "2022-11-01T17:17:11.689360",
     "status": "completed"
    },
    "tags": []
   },
   "source": [
    "À cima pode-se observar uma tabela contendo a média, mediana e os 75% dos dados. Como pode-se perceber, e como foi citado anteriormente, 75% das manutenções ocorrem em até 60 minutos no decorrer dos anos."
   ]
  },
  {
   "cell_type": "markdown",
   "id": "76ced2f6",
   "metadata": {
    "papermill": {
     "duration": 0.024646,
     "end_time": "2022-11-01T17:17:11.762775",
     "exception": false,
     "start_time": "2022-11-01T17:17:11.738129",
     "status": "completed"
    },
    "tags": []
   },
   "source": [
    "## Análise 6 - Evolução do custo anual de manutenção dos chamados concluídos, comparando com o a mesma evolução considerando o dataset inteiro."
   ]
  },
  {
   "cell_type": "markdown",
   "id": "cb5569da",
   "metadata": {
    "papermill": {
     "duration": 0.024141,
     "end_time": "2022-11-01T17:17:11.811759",
     "exception": false,
     "start_time": "2022-11-01T17:17:11.787618",
     "status": "completed"
    },
    "tags": []
   },
   "source": [
    "Para essa análise, decidimos separar e comparar as informações do dataset inteiro vs. as informações apenas das ordens concluídas. O ano de 2022 também foi excluído da análise, visto que só há informações até agosto."
   ]
  },
  {
   "cell_type": "code",
   "execution_count": 48,
   "id": "63e87ef7",
   "metadata": {
    "execution": {
     "iopub.execute_input": "2022-11-01T17:17:11.862387Z",
     "iopub.status.busy": "2022-11-01T17:17:11.861667Z",
     "iopub.status.idle": "2022-11-01T17:17:12.047629Z",
     "shell.execute_reply": "2022-11-01T17:17:12.046564Z"
    },
    "papermill": {
     "duration": 0.214407,
     "end_time": "2022-11-01T17:17:12.050196",
     "exception": false,
     "start_time": "2022-11-01T17:17:11.835789",
     "status": "completed"
    },
    "tags": []
   },
   "outputs": [],
   "source": [
    "mask1 = ~df[\"n_ordem\"].isna()\n",
    "mask2 = ~df[\"data_fim\"].isna()\n",
    "mask3 = df[\"data_inicio\"].dt.year != 2022\n",
    "df_chamados_concluidos = df[(mask1) & (mask2) & (mask3)]\n",
    "df_concluidos_total = df_chamados_concluidos.groupby(df_chamados_concluidos[\"data_inicio\"].dt.year)[\"custo_de_pecas\"].sum().rename(\"custo_manutencoes_concluidas\").to_frame()\n",
    "df_total = df.groupby(df[df[\"data_inicio\"].dt.year != 2022][\"data_inicio\"].dt.year)[\"custo_de_pecas\"].sum().rename(\"custo_total\").to_frame()\n",
    "df_tudo = pd.concat([df_concluidos_total, df_total], axis=1)"
   ]
  },
  {
   "cell_type": "code",
   "execution_count": 49,
   "id": "751231ff",
   "metadata": {
    "execution": {
     "iopub.execute_input": "2022-11-01T17:17:12.104025Z",
     "iopub.status.busy": "2022-11-01T17:17:12.103259Z",
     "iopub.status.idle": "2022-11-01T17:17:12.180351Z",
     "shell.execute_reply": "2022-11-01T17:17:12.179324Z"
    },
    "papermill": {
     "duration": 0.105886,
     "end_time": "2022-11-01T17:17:12.182319",
     "exception": false,
     "start_time": "2022-11-01T17:17:12.076433",
     "status": "completed"
    },
    "tags": []
   },
   "outputs": [
    {
     "data": {
      "application/vnd.plotly.v1+json": {
       "config": {
        "plotlyServerURL": "https://plot.ly"
       },
       "data": [
        {
         "hovertemplate": "variable=custo_manutencoes_concluidas<br>data_inicio=%{x}<br>value=%{y}<extra></extra>",
         "legendgroup": "custo_manutencoes_concluidas",
         "line": {
          "color": "#636efa",
          "dash": "solid"
         },
         "marker": {
          "symbol": "circle"
         },
         "mode": "lines",
         "name": "custo_manutencoes_concluidas",
         "orientation": "v",
         "showlegend": true,
         "type": "scatter",
         "x": [
          2015,
          2016,
          2017,
          2018,
          2019,
          2020,
          2021
         ],
         "xaxis": "x",
         "y": [
          4005616.75,
          4588765.17,
          4985096.98,
          4746993.05,
          4702672.68,
          4372235.64,
          4385664.25
         ],
         "yaxis": "y"
        },
        {
         "hovertemplate": "variable=custo_total<br>data_inicio=%{x}<br>value=%{y}<extra></extra>",
         "legendgroup": "custo_total",
         "line": {
          "color": "#EF553B",
          "dash": "solid"
         },
         "marker": {
          "symbol": "circle"
         },
         "mode": "lines",
         "name": "custo_total",
         "orientation": "v",
         "showlegend": true,
         "type": "scatter",
         "x": [
          2015,
          2016,
          2017,
          2018,
          2019,
          2020,
          2021
         ],
         "xaxis": "x",
         "y": [
          4828428.11,
          5297666.76,
          6030385.42,
          5574444.45,
          5071390.55,
          4851105.61,
          4682937.79
         ],
         "yaxis": "y"
        }
       ],
       "layout": {
        "legend": {
         "title": {
          "text": "variable"
         },
         "tracegroupgap": 0
        },
        "template": {
         "data": {
          "bar": [
           {
            "error_x": {
             "color": "#2a3f5f"
            },
            "error_y": {
             "color": "#2a3f5f"
            },
            "marker": {
             "line": {
              "color": "#E5ECF6",
              "width": 0.5
             },
             "pattern": {
              "fillmode": "overlay",
              "size": 10,
              "solidity": 0.2
             }
            },
            "type": "bar"
           }
          ],
          "barpolar": [
           {
            "marker": {
             "line": {
              "color": "#E5ECF6",
              "width": 0.5
             },
             "pattern": {
              "fillmode": "overlay",
              "size": 10,
              "solidity": 0.2
             }
            },
            "type": "barpolar"
           }
          ],
          "carpet": [
           {
            "aaxis": {
             "endlinecolor": "#2a3f5f",
             "gridcolor": "white",
             "linecolor": "white",
             "minorgridcolor": "white",
             "startlinecolor": "#2a3f5f"
            },
            "baxis": {
             "endlinecolor": "#2a3f5f",
             "gridcolor": "white",
             "linecolor": "white",
             "minorgridcolor": "white",
             "startlinecolor": "#2a3f5f"
            },
            "type": "carpet"
           }
          ],
          "choropleth": [
           {
            "colorbar": {
             "outlinewidth": 0,
             "ticks": ""
            },
            "type": "choropleth"
           }
          ],
          "contour": [
           {
            "colorbar": {
             "outlinewidth": 0,
             "ticks": ""
            },
            "colorscale": [
             [
              0,
              "#0d0887"
             ],
             [
              0.1111111111111111,
              "#46039f"
             ],
             [
              0.2222222222222222,
              "#7201a8"
             ],
             [
              0.3333333333333333,
              "#9c179e"
             ],
             [
              0.4444444444444444,
              "#bd3786"
             ],
             [
              0.5555555555555556,
              "#d8576b"
             ],
             [
              0.6666666666666666,
              "#ed7953"
             ],
             [
              0.7777777777777778,
              "#fb9f3a"
             ],
             [
              0.8888888888888888,
              "#fdca26"
             ],
             [
              1,
              "#f0f921"
             ]
            ],
            "type": "contour"
           }
          ],
          "contourcarpet": [
           {
            "colorbar": {
             "outlinewidth": 0,
             "ticks": ""
            },
            "type": "contourcarpet"
           }
          ],
          "heatmap": [
           {
            "colorbar": {
             "outlinewidth": 0,
             "ticks": ""
            },
            "colorscale": [
             [
              0,
              "#0d0887"
             ],
             [
              0.1111111111111111,
              "#46039f"
             ],
             [
              0.2222222222222222,
              "#7201a8"
             ],
             [
              0.3333333333333333,
              "#9c179e"
             ],
             [
              0.4444444444444444,
              "#bd3786"
             ],
             [
              0.5555555555555556,
              "#d8576b"
             ],
             [
              0.6666666666666666,
              "#ed7953"
             ],
             [
              0.7777777777777778,
              "#fb9f3a"
             ],
             [
              0.8888888888888888,
              "#fdca26"
             ],
             [
              1,
              "#f0f921"
             ]
            ],
            "type": "heatmap"
           }
          ],
          "heatmapgl": [
           {
            "colorbar": {
             "outlinewidth": 0,
             "ticks": ""
            },
            "colorscale": [
             [
              0,
              "#0d0887"
             ],
             [
              0.1111111111111111,
              "#46039f"
             ],
             [
              0.2222222222222222,
              "#7201a8"
             ],
             [
              0.3333333333333333,
              "#9c179e"
             ],
             [
              0.4444444444444444,
              "#bd3786"
             ],
             [
              0.5555555555555556,
              "#d8576b"
             ],
             [
              0.6666666666666666,
              "#ed7953"
             ],
             [
              0.7777777777777778,
              "#fb9f3a"
             ],
             [
              0.8888888888888888,
              "#fdca26"
             ],
             [
              1,
              "#f0f921"
             ]
            ],
            "type": "heatmapgl"
           }
          ],
          "histogram": [
           {
            "marker": {
             "pattern": {
              "fillmode": "overlay",
              "size": 10,
              "solidity": 0.2
             }
            },
            "type": "histogram"
           }
          ],
          "histogram2d": [
           {
            "colorbar": {
             "outlinewidth": 0,
             "ticks": ""
            },
            "colorscale": [
             [
              0,
              "#0d0887"
             ],
             [
              0.1111111111111111,
              "#46039f"
             ],
             [
              0.2222222222222222,
              "#7201a8"
             ],
             [
              0.3333333333333333,
              "#9c179e"
             ],
             [
              0.4444444444444444,
              "#bd3786"
             ],
             [
              0.5555555555555556,
              "#d8576b"
             ],
             [
              0.6666666666666666,
              "#ed7953"
             ],
             [
              0.7777777777777778,
              "#fb9f3a"
             ],
             [
              0.8888888888888888,
              "#fdca26"
             ],
             [
              1,
              "#f0f921"
             ]
            ],
            "type": "histogram2d"
           }
          ],
          "histogram2dcontour": [
           {
            "colorbar": {
             "outlinewidth": 0,
             "ticks": ""
            },
            "colorscale": [
             [
              0,
              "#0d0887"
             ],
             [
              0.1111111111111111,
              "#46039f"
             ],
             [
              0.2222222222222222,
              "#7201a8"
             ],
             [
              0.3333333333333333,
              "#9c179e"
             ],
             [
              0.4444444444444444,
              "#bd3786"
             ],
             [
              0.5555555555555556,
              "#d8576b"
             ],
             [
              0.6666666666666666,
              "#ed7953"
             ],
             [
              0.7777777777777778,
              "#fb9f3a"
             ],
             [
              0.8888888888888888,
              "#fdca26"
             ],
             [
              1,
              "#f0f921"
             ]
            ],
            "type": "histogram2dcontour"
           }
          ],
          "mesh3d": [
           {
            "colorbar": {
             "outlinewidth": 0,
             "ticks": ""
            },
            "type": "mesh3d"
           }
          ],
          "parcoords": [
           {
            "line": {
             "colorbar": {
              "outlinewidth": 0,
              "ticks": ""
             }
            },
            "type": "parcoords"
           }
          ],
          "pie": [
           {
            "automargin": true,
            "type": "pie"
           }
          ],
          "scatter": [
           {
            "fillpattern": {
             "fillmode": "overlay",
             "size": 10,
             "solidity": 0.2
            },
            "type": "scatter"
           }
          ],
          "scatter3d": [
           {
            "line": {
             "colorbar": {
              "outlinewidth": 0,
              "ticks": ""
             }
            },
            "marker": {
             "colorbar": {
              "outlinewidth": 0,
              "ticks": ""
             }
            },
            "type": "scatter3d"
           }
          ],
          "scattercarpet": [
           {
            "marker": {
             "colorbar": {
              "outlinewidth": 0,
              "ticks": ""
             }
            },
            "type": "scattercarpet"
           }
          ],
          "scattergeo": [
           {
            "marker": {
             "colorbar": {
              "outlinewidth": 0,
              "ticks": ""
             }
            },
            "type": "scattergeo"
           }
          ],
          "scattergl": [
           {
            "marker": {
             "colorbar": {
              "outlinewidth": 0,
              "ticks": ""
             }
            },
            "type": "scattergl"
           }
          ],
          "scattermapbox": [
           {
            "marker": {
             "colorbar": {
              "outlinewidth": 0,
              "ticks": ""
             }
            },
            "type": "scattermapbox"
           }
          ],
          "scatterpolar": [
           {
            "marker": {
             "colorbar": {
              "outlinewidth": 0,
              "ticks": ""
             }
            },
            "type": "scatterpolar"
           }
          ],
          "scatterpolargl": [
           {
            "marker": {
             "colorbar": {
              "outlinewidth": 0,
              "ticks": ""
             }
            },
            "type": "scatterpolargl"
           }
          ],
          "scatterternary": [
           {
            "marker": {
             "colorbar": {
              "outlinewidth": 0,
              "ticks": ""
             }
            },
            "type": "scatterternary"
           }
          ],
          "surface": [
           {
            "colorbar": {
             "outlinewidth": 0,
             "ticks": ""
            },
            "colorscale": [
             [
              0,
              "#0d0887"
             ],
             [
              0.1111111111111111,
              "#46039f"
             ],
             [
              0.2222222222222222,
              "#7201a8"
             ],
             [
              0.3333333333333333,
              "#9c179e"
             ],
             [
              0.4444444444444444,
              "#bd3786"
             ],
             [
              0.5555555555555556,
              "#d8576b"
             ],
             [
              0.6666666666666666,
              "#ed7953"
             ],
             [
              0.7777777777777778,
              "#fb9f3a"
             ],
             [
              0.8888888888888888,
              "#fdca26"
             ],
             [
              1,
              "#f0f921"
             ]
            ],
            "type": "surface"
           }
          ],
          "table": [
           {
            "cells": {
             "fill": {
              "color": "#EBF0F8"
             },
             "line": {
              "color": "white"
             }
            },
            "header": {
             "fill": {
              "color": "#C8D4E3"
             },
             "line": {
              "color": "white"
             }
            },
            "type": "table"
           }
          ]
         },
         "layout": {
          "annotationdefaults": {
           "arrowcolor": "#2a3f5f",
           "arrowhead": 0,
           "arrowwidth": 1
          },
          "autotypenumbers": "strict",
          "coloraxis": {
           "colorbar": {
            "outlinewidth": 0,
            "ticks": ""
           }
          },
          "colorscale": {
           "diverging": [
            [
             0,
             "#8e0152"
            ],
            [
             0.1,
             "#c51b7d"
            ],
            [
             0.2,
             "#de77ae"
            ],
            [
             0.3,
             "#f1b6da"
            ],
            [
             0.4,
             "#fde0ef"
            ],
            [
             0.5,
             "#f7f7f7"
            ],
            [
             0.6,
             "#e6f5d0"
            ],
            [
             0.7,
             "#b8e186"
            ],
            [
             0.8,
             "#7fbc41"
            ],
            [
             0.9,
             "#4d9221"
            ],
            [
             1,
             "#276419"
            ]
           ],
           "sequential": [
            [
             0,
             "#0d0887"
            ],
            [
             0.1111111111111111,
             "#46039f"
            ],
            [
             0.2222222222222222,
             "#7201a8"
            ],
            [
             0.3333333333333333,
             "#9c179e"
            ],
            [
             0.4444444444444444,
             "#bd3786"
            ],
            [
             0.5555555555555556,
             "#d8576b"
            ],
            [
             0.6666666666666666,
             "#ed7953"
            ],
            [
             0.7777777777777778,
             "#fb9f3a"
            ],
            [
             0.8888888888888888,
             "#fdca26"
            ],
            [
             1,
             "#f0f921"
            ]
           ],
           "sequentialminus": [
            [
             0,
             "#0d0887"
            ],
            [
             0.1111111111111111,
             "#46039f"
            ],
            [
             0.2222222222222222,
             "#7201a8"
            ],
            [
             0.3333333333333333,
             "#9c179e"
            ],
            [
             0.4444444444444444,
             "#bd3786"
            ],
            [
             0.5555555555555556,
             "#d8576b"
            ],
            [
             0.6666666666666666,
             "#ed7953"
            ],
            [
             0.7777777777777778,
             "#fb9f3a"
            ],
            [
             0.8888888888888888,
             "#fdca26"
            ],
            [
             1,
             "#f0f921"
            ]
           ]
          },
          "colorway": [
           "#636efa",
           "#EF553B",
           "#00cc96",
           "#ab63fa",
           "#FFA15A",
           "#19d3f3",
           "#FF6692",
           "#B6E880",
           "#FF97FF",
           "#FECB52"
          ],
          "font": {
           "color": "#2a3f5f"
          },
          "geo": {
           "bgcolor": "white",
           "lakecolor": "white",
           "landcolor": "#E5ECF6",
           "showlakes": true,
           "showland": true,
           "subunitcolor": "white"
          },
          "hoverlabel": {
           "align": "left"
          },
          "hovermode": "closest",
          "mapbox": {
           "style": "light"
          },
          "paper_bgcolor": "white",
          "plot_bgcolor": "#E5ECF6",
          "polar": {
           "angularaxis": {
            "gridcolor": "white",
            "linecolor": "white",
            "ticks": ""
           },
           "bgcolor": "#E5ECF6",
           "radialaxis": {
            "gridcolor": "white",
            "linecolor": "white",
            "ticks": ""
           }
          },
          "scene": {
           "xaxis": {
            "backgroundcolor": "#E5ECF6",
            "gridcolor": "white",
            "gridwidth": 2,
            "linecolor": "white",
            "showbackground": true,
            "ticks": "",
            "zerolinecolor": "white"
           },
           "yaxis": {
            "backgroundcolor": "#E5ECF6",
            "gridcolor": "white",
            "gridwidth": 2,
            "linecolor": "white",
            "showbackground": true,
            "ticks": "",
            "zerolinecolor": "white"
           },
           "zaxis": {
            "backgroundcolor": "#E5ECF6",
            "gridcolor": "white",
            "gridwidth": 2,
            "linecolor": "white",
            "showbackground": true,
            "ticks": "",
            "zerolinecolor": "white"
           }
          },
          "shapedefaults": {
           "line": {
            "color": "#2a3f5f"
           }
          },
          "ternary": {
           "aaxis": {
            "gridcolor": "white",
            "linecolor": "white",
            "ticks": ""
           },
           "baxis": {
            "gridcolor": "white",
            "linecolor": "white",
            "ticks": ""
           },
           "bgcolor": "#E5ECF6",
           "caxis": {
            "gridcolor": "white",
            "linecolor": "white",
            "ticks": ""
           }
          },
          "title": {
           "x": 0.05
          },
          "xaxis": {
           "automargin": true,
           "gridcolor": "white",
           "linecolor": "white",
           "ticks": "",
           "title": {
            "standoff": 15
           },
           "zerolinecolor": "white",
           "zerolinewidth": 2
          },
          "yaxis": {
           "automargin": true,
           "gridcolor": "white",
           "linecolor": "white",
           "ticks": "",
           "title": {
            "standoff": 15
           },
           "zerolinecolor": "white",
           "zerolinewidth": 2
          }
         }
        },
        "title": {
         "text": "Custo anual de manutenção: todo o dataset vs chamados concluídos"
        },
        "xaxis": {
         "anchor": "y",
         "domain": [
          0,
          1
         ],
         "title": {
          "text": "Ano"
         }
        },
        "yaxis": {
         "anchor": "x",
         "domain": [
          0,
          1
         ],
         "title": {
          "text": "Custo total (R$)"
         }
        }
       }
      }
     },
     "metadata": {},
     "output_type": "display_data"
    }
   ],
   "source": [
    "fig = px.line(data_frame=df_tudo, x=df_tudo.index, y= [\"custo_manutencoes_concluidas\", \"custo_total\"], title=\"Custo anual de manutenção: todo o dataset vs chamados concluídos\")#, barmode= \"group\")\n",
    "fig.update_layout(xaxis_title=\"Ano\", yaxis_title=\"Custo total (R$)\")\n",
    "fig.show()"
   ]
  },
  {
   "cell_type": "markdown",
   "id": "44492d3e",
   "metadata": {
    "papermill": {
     "duration": 0.02464,
     "end_time": "2022-11-01T17:17:12.231778",
     "exception": false,
     "start_time": "2022-11-01T17:17:12.207138",
     "status": "completed"
    },
    "tags": []
   },
   "source": [
    "Percebemos, portanto, que apesar de ordens estarem abertas até a data que o dado foi coletado, elas ainda geram custo de manutenção relevante no dataframe. Os custos de manutenção tiveram queda expressiva a partir do ano de 2018."
   ]
  },
  {
   "cell_type": "markdown",
   "id": "ec574805",
   "metadata": {
    "papermill": {
     "duration": 0.025375,
     "end_time": "2022-11-01T17:17:12.282206",
     "exception": false,
     "start_time": "2022-11-01T17:17:12.256831",
     "status": "completed"
    },
    "tags": []
   },
   "source": [
    "## Análise 7 - Definir a taxa de chamada manutenção vs ordens de atendimento."
   ]
  },
  {
   "cell_type": "markdown",
   "id": "6791e7c8",
   "metadata": {
    "papermill": {
     "duration": 0.024943,
     "end_time": "2022-11-01T17:17:12.332555",
     "exception": false,
     "start_time": "2022-11-01T17:17:12.307612",
     "status": "completed"
    },
    "tags": []
   },
   "source": [
    "Foi considerado na análise apenas os anos concluídos."
   ]
  },
  {
   "cell_type": "code",
   "execution_count": 50,
   "id": "af83f183",
   "metadata": {
    "execution": {
     "iopub.execute_input": "2022-11-01T17:17:12.385265Z",
     "iopub.status.busy": "2022-11-01T17:17:12.384891Z",
     "iopub.status.idle": "2022-11-01T17:17:12.476902Z",
     "shell.execute_reply": "2022-11-01T17:17:12.475845Z"
    },
    "papermill": {
     "duration": 0.121169,
     "end_time": "2022-11-01T17:17:12.479172",
     "exception": false,
     "start_time": "2022-11-01T17:17:12.358003",
     "status": "completed"
    },
    "tags": []
   },
   "outputs": [],
   "source": [
    "mask1 = df[\"data_inicio\"].dt.year != 2022\n",
    "df_chamadas = df[mask1].groupby(df[\"data_inicio\"].dt.year).agg({\"n_nota\": \"size\", \"n_ordem\": \"count\"}).reset_index()"
   ]
  },
  {
   "cell_type": "code",
   "execution_count": 51,
   "id": "7357ea63",
   "metadata": {
    "execution": {
     "iopub.execute_input": "2022-11-01T17:17:12.532777Z",
     "iopub.status.busy": "2022-11-01T17:17:12.532420Z",
     "iopub.status.idle": "2022-11-01T17:17:12.537748Z",
     "shell.execute_reply": "2022-11-01T17:17:12.536820Z"
    },
    "papermill": {
     "duration": 0.03426,
     "end_time": "2022-11-01T17:17:12.539772",
     "exception": false,
     "start_time": "2022-11-01T17:17:12.505512",
     "status": "completed"
    },
    "tags": []
   },
   "outputs": [],
   "source": [
    "df_chamadas.rename(columns={\"data_inicio\": \"ano\", \"n_nota\": \"chamadas\", \"n_ordem\": \"atendimentos\"}, inplace=True)"
   ]
  },
  {
   "cell_type": "code",
   "execution_count": 52,
   "id": "402336b3",
   "metadata": {
    "execution": {
     "iopub.execute_input": "2022-11-01T17:17:12.592495Z",
     "iopub.status.busy": "2022-11-01T17:17:12.592131Z",
     "iopub.status.idle": "2022-11-01T17:17:12.870598Z",
     "shell.execute_reply": "2022-11-01T17:17:12.869587Z"
    },
    "papermill": {
     "duration": 0.307367,
     "end_time": "2022-11-01T17:17:12.872583",
     "exception": false,
     "start_time": "2022-11-01T17:17:12.565216",
     "status": "completed"
    },
    "tags": []
   },
   "outputs": [
    {
     "data": {
      "image/png": "[encoded data removed]",
      "text/plain": [
       "<Figure size 1000x1000 with 1 Axes>"
      ]
     },
     "metadata": {},
     "output_type": "display_data"
    },
    {
     "data": {
      "text/plain": [
       "<Figure size 1000x1000 with 0 Axes>"
      ]
     },
     "metadata": {},
     "output_type": "display_data"
    }
   ],
   "source": [
    "fig, ax = plt.subplots()\n",
    "fig.set_figheight(10)\n",
    "fig.set_figwidth(10)\n",
    "plt.figure(figsize=(10,10))\n",
    "ax.plot(df_chamadas[\"ano\"], df_chamadas[\"chamadas\"], c=\"b\")\n",
    "ax.plot(df_chamadas[\"ano\"], df_chamadas[\"atendimentos\"], c=\"orange\")\n",
    "ax.text(2021 + 0.1, df_chamadas[\"chamadas\"].tail(1), \"Solicitações\", c=\"b\", weight=\"bold\", fontsize=14)\n",
    "ax.text(2021 + 0.1, df_chamadas[\"atendimentos\"].tail(1), \"Manutenções\", c=\"orange\", weight=\"bold\", fontsize=14)\n",
    "ax.grid()\n",
    "ax.spines.right.set_visible(False)\n",
    "ax.spines.top.set_visible(False)\n",
    "ax.set_title(\"Solicitações vs Manutenções por ano\", fontsize=18)\n",
    "ax.set_ylabel(\"Frequência\", fontsize=14)\n",
    "ax.set_xlabel(\"Ano\", fontsize=14);"
   ]
  },
  {
   "cell_type": "markdown",
   "id": "c5a6f0b3",
   "metadata": {
    "papermill": {
     "duration": 0.025962,
     "end_time": "2022-11-01T17:17:12.924913",
     "exception": false,
     "start_time": "2022-11-01T17:17:12.898951",
     "status": "completed"
    },
    "tags": []
   },
   "source": [
    "A partir do gráfico gerado acima, percebe-se que o número de chamadas de manutenção e o número de manutenções tem uma tendência crescente com os anos. Além disso pode-se observar uma queda expressiva dos chamados de manutenção no ano de 2020, que pode ser explicada pela pandemia de Covid-19, uma vez que a indústria permaneceu fechada por 45 dias.\n",
    "\n",
    "Outra observação que pode ser feita é que o número de chamados de manutenção e de atendimentos sempre permanecem a uma distância constante. Essa distância pode ser explicada pelo motivo do funcionário abrir mais de uma solicitação de manutenção para o mesmo problema, com o objetivo de ser atendido \"mais rápido\"."
   ]
  },
  {
   "cell_type": "code",
   "execution_count": 53,
   "id": "8fd3df6c",
   "metadata": {
    "execution": {
     "iopub.execute_input": "2022-11-01T17:17:12.978775Z",
     "iopub.status.busy": "2022-11-01T17:17:12.978428Z",
     "iopub.status.idle": "2022-11-01T17:17:12.983893Z",
     "shell.execute_reply": "2022-11-01T17:17:12.983134Z"
    },
    "papermill": {
     "duration": 0.034877,
     "end_time": "2022-11-01T17:17:12.985694",
     "exception": false,
     "start_time": "2022-11-01T17:17:12.950817",
     "status": "completed"
    },
    "tags": []
   },
   "outputs": [],
   "source": [
    "df_chamadas[\"porcentagem\"] = ((df_chamadas.atendimentos / df_chamadas.chamadas)*100).round(2)"
   ]
  },
  {
   "cell_type": "code",
   "execution_count": 54,
   "id": "9ad07843",
   "metadata": {
    "execution": {
     "iopub.execute_input": "2022-11-01T17:17:13.039234Z",
     "iopub.status.busy": "2022-11-01T17:17:13.038204Z",
     "iopub.status.idle": "2022-11-01T17:17:13.286037Z",
     "shell.execute_reply": "2022-11-01T17:17:13.285197Z"
    },
    "papermill": {
     "duration": 0.276847,
     "end_time": "2022-11-01T17:17:13.288069",
     "exception": false,
     "start_time": "2022-11-01T17:17:13.011222",
     "status": "completed"
    },
    "tags": []
   },
   "outputs": [
    {
     "data": {
      "image/png": "[encoded data removed]",
      "text/plain": [
       "<Figure size 1000x1000 with 1 Axes>"
      ]
     },
     "metadata": {},
     "output_type": "display_data"
    }
   ],
   "source": [
    "fig, ax = plt.subplots()\n",
    "fig.set_figheight(10)\n",
    "fig.set_figwidth(10)\n",
    "ax.plot(df_chamadas[\"ano\"], df_chamadas[\"porcentagem\"])\n",
    "ax.plot(df_chamadas[\"ano\"], [90]*len(df_chamadas[\"ano\"]), c= \"grey\")\n",
    "ax.text(2020.5, 90.2, \"Meta\", c=\"grey\", weight=\"bold\", fontsize=14)\n",
    "ax.set_ylim([80,100])\n",
    "ax.spines.right.set_visible(False)\n",
    "ax.spines.top.set_visible(False)\n",
    "ax.set_title(\"% de solicitações de manutenção atendidas por ano\", fontsize=18)\n",
    "ax.grid()\n",
    "ax.set_ylabel(\"%\", fontsize=14);"
   ]
  },
  {
   "cell_type": "markdown",
   "id": "4cae0917",
   "metadata": {
    "papermill": {
     "duration": 0.026836,
     "end_time": "2022-11-01T17:17:13.341654",
     "exception": false,
     "start_time": "2022-11-01T17:17:13.314818",
     "status": "completed"
    },
    "tags": []
   },
   "source": [
    "### 2018 foi o ano que, percentualmente, a maior quantidade de solicitações de manutenção foi atendida."
   ]
  },
  {
   "cell_type": "markdown",
   "id": "25add2c6",
   "metadata": {
    "papermill": {
     "duration": 0.037181,
     "end_time": "2022-11-01T17:17:13.412111",
     "exception": false,
     "start_time": "2022-11-01T17:17:13.374930",
     "status": "completed"
    },
    "tags": []
   },
   "source": [
    "# Regressão Linear\n",
    "### A regressão linear tentar prever o tempo de manutenção da máquina utilizando a consequência e o equipamento que está recebendo a manutenção.\n",
    "#### Para essa regressão foi considerado que o tempo de manutenção no dataframe tinha que ser maior que 0 (uma vez que não podem existir manutenções com tempo 0) e menores que 98% dos maiores valores do dataset, visto que esses são outliers. Também removemos todas as consequências diferentes de 1 a 3, visto que só essas que são reais."
   ]
  },
  {
   "cell_type": "code",
   "execution_count": 55,
   "id": "4b9067f4",
   "metadata": {
    "execution": {
     "iopub.execute_input": "2022-11-01T17:17:13.479894Z",
     "iopub.status.busy": "2022-11-01T17:17:13.479526Z",
     "iopub.status.idle": "2022-11-01T17:17:13.597220Z",
     "shell.execute_reply": "2022-11-01T17:17:13.596376Z"
    },
    "papermill": {
     "duration": 0.152765,
     "end_time": "2022-11-01T17:17:13.599773",
     "exception": false,
     "start_time": "2022-11-01T17:17:13.447008",
     "status": "completed"
    },
    "tags": []
   },
   "outputs": [
    {
     "name": "stderr",
     "output_type": "stream",
     "text": [
      "C:\\Users\\Thiago\\AppData\\Local\\Temp\\ipykernel_11780\\1414217238.py:5: SettingWithCopyWarning:\n",
      "\n",
      "\n",
      "A value is trying to be set on a copy of a slice from a DataFrame.\n",
      "Try using .loc[row_indexer,col_indexer] = value instead\n",
      "\n",
      "See the caveats in the documentation: https://pandas.pydata.org/pandas-docs/stable/user_guide/indexing.html#returning-a-view-versus-a-copy\n",
      "\n"
     ]
    }
   ],
   "source": [
    "mask1 = df[\"tempo_manutencao\"] > 0\n",
    "mask2 = df[\"tempo_manutencao\"] < df[\"tempo_manutencao\"].quantile(0.98)\n",
    "mask3 = df[\"consequencia\"] < 4\n",
    "df_reg = df[(mask1) & (mask2) & (mask3)]\n",
    "df_reg[\"consequencia\"] = df_reg[\"consequencia\"].astype(str)"
   ]
  },
  {
   "cell_type": "markdown",
   "id": "cee016f2",
   "metadata": {
    "papermill": {
     "duration": 0.027049,
     "end_time": "2022-11-01T17:17:13.656117",
     "exception": false,
     "start_time": "2022-11-01T17:17:13.629068",
     "status": "completed"
    },
    "tags": []
   },
   "source": [
    "#### Como pode-se observar abaixo, mais de 25% dos equipamentos tiveram apenas 11 manutenções ou menos em 8 anos. Com o intuito de aumentar a acertividade nos equipamentos mais críticos, foi definido como mínimo de manutenções 442."
   ]
  },
  {
   "cell_type": "code",
   "execution_count": 56,
   "id": "da209436",
   "metadata": {
    "execution": {
     "iopub.execute_input": "2022-11-01T17:17:13.711030Z",
     "iopub.status.busy": "2022-11-01T17:17:13.710654Z",
     "iopub.status.idle": "2022-11-01T17:17:13.729252Z",
     "shell.execute_reply": "2022-11-01T17:17:13.728428Z"
    },
    "papermill": {
     "duration": 0.04782,
     "end_time": "2022-11-01T17:17:13.731259",
     "exception": false,
     "start_time": "2022-11-01T17:17:13.683439",
     "status": "completed"
    },
    "tags": []
   },
   "outputs": [
    {
     "data": {
      "text/plain": [
       "count     258.000000\n",
       "mean      570.058140\n",
       "std       695.228082\n",
       "min         1.000000\n",
       "25%        11.000000\n",
       "50%       442.500000\n",
       "75%       682.000000\n",
       "max      3094.000000\n",
       "Name: count, dtype: float64"
      ]
     },
     "execution_count": 56,
     "metadata": {},
     "output_type": "execute_result"
    }
   ],
   "source": [
    "df_reg[\"equipamento\"].value_counts().describe()"
   ]
  },
  {
   "cell_type": "code",
   "execution_count": 57,
   "id": "64793bc2",
   "metadata": {
    "execution": {
     "iopub.execute_input": "2022-11-01T17:17:13.793220Z",
     "iopub.status.busy": "2022-11-01T17:17:13.792816Z",
     "iopub.status.idle": "2022-11-01T17:17:17.194477Z",
     "shell.execute_reply": "2022-11-01T17:17:17.193489Z"
    },
    "papermill": {
     "duration": 3.436601,
     "end_time": "2022-11-01T17:17:17.196794",
     "exception": false,
     "start_time": "2022-11-01T17:17:13.760193",
     "status": "completed"
    },
    "tags": []
   },
   "outputs": [],
   "source": [
    "equipamentos = []\n",
    "for i in range(df_reg[\"equipamento\"].nunique()):\n",
    "    if (df_reg[\"equipamento\"].value_counts() > 441)[i]:\n",
    "        equipamentos.append(df_reg[\"equipamento\"].value_counts().index[i])"
   ]
  },
  {
   "cell_type": "code",
   "execution_count": 58,
   "id": "52839032",
   "metadata": {
    "execution": {
     "iopub.execute_input": "2022-11-01T17:17:17.250983Z",
     "iopub.status.busy": "2022-11-01T17:17:17.250593Z",
     "iopub.status.idle": "2022-11-01T17:17:17.257034Z",
     "shell.execute_reply": "2022-11-01T17:17:17.255980Z"
    },
    "papermill": {
     "duration": 0.035955,
     "end_time": "2022-11-01T17:17:17.258869",
     "exception": false,
     "start_time": "2022-11-01T17:17:17.222914",
     "status": "completed"
    },
    "tags": []
   },
   "outputs": [
    {
     "data": {
      "text/plain": [
       "130"
      ]
     },
     "execution_count": 58,
     "metadata": {},
     "output_type": "execute_result"
    }
   ],
   "source": [
    "len(equipamentos)"
   ]
  },
  {
   "cell_type": "code",
   "execution_count": 59,
   "id": "03ca28b6",
   "metadata": {
    "execution": {
     "iopub.execute_input": "2022-11-01T17:17:17.312213Z",
     "iopub.status.busy": "2022-11-01T17:17:17.311857Z",
     "iopub.status.idle": "2022-11-01T17:17:17.571534Z",
     "shell.execute_reply": "2022-11-01T17:17:17.570807Z"
    },
    "papermill": {
     "duration": 0.288369,
     "end_time": "2022-11-01T17:17:17.573667",
     "exception": false,
     "start_time": "2022-11-01T17:17:17.285298",
     "status": "completed"
    },
    "tags": []
   },
   "outputs": [
    {
     "name": "stderr",
     "output_type": "stream",
     "text": [
      "C:\\Users\\Thiago\\AppData\\Local\\Temp\\ipykernel_11780\\4013969470.py:1: SettingWithCopyWarning:\n",
      "\n",
      "\n",
      "A value is trying to be set on a copy of a slice from a DataFrame.\n",
      "Try using .loc[row_indexer,col_indexer] = value instead\n",
      "\n",
      "See the caveats in the documentation: https://pandas.pydata.org/pandas-docs/stable/user_guide/indexing.html#returning-a-view-versus-a-copy\n",
      "\n"
     ]
    }
   ],
   "source": [
    "df_reg[\"equipamentos_excluir\"] = df[\"equipamento\"].apply(lambda x: True if x in equipamentos else False)"
   ]
  },
  {
   "cell_type": "code",
   "execution_count": 60,
   "id": "f0ff5b92",
   "metadata": {
    "execution": {
     "iopub.execute_input": "2022-11-01T17:17:17.628153Z",
     "iopub.status.busy": "2022-11-01T17:17:17.627549Z",
     "iopub.status.idle": "2022-11-01T17:17:17.681061Z",
     "shell.execute_reply": "2022-11-01T17:17:17.680190Z"
    },
    "papermill": {
     "duration": 0.083306,
     "end_time": "2022-11-01T17:17:17.683335",
     "exception": false,
     "start_time": "2022-11-01T17:17:17.600029",
     "status": "completed"
    },
    "tags": []
   },
   "outputs": [],
   "source": [
    "mask4 = df_reg[\"equipamentos_excluir\"] == True\n",
    "df_reg = df_reg[mask4]\n",
    "df_reg.drop(columns=\"equipamentos_excluir\", inplace=True)"
   ]
  },
  {
   "cell_type": "markdown",
   "id": "e957bdff",
   "metadata": {
    "papermill": {
     "duration": 0.026147,
     "end_time": "2022-11-01T17:17:17.735867",
     "exception": false,
     "start_time": "2022-11-01T17:17:17.709720",
     "status": "completed"
    },
    "tags": []
   },
   "source": [
    "## Definindo a Baseline"
   ]
  },
  {
   "cell_type": "code",
   "execution_count": 61,
   "id": "27beacba",
   "metadata": {
    "execution": {
     "iopub.execute_input": "2022-11-01T17:17:17.791563Z",
     "iopub.status.busy": "2022-11-01T17:17:17.790729Z",
     "iopub.status.idle": "2022-11-01T17:17:17.806176Z",
     "shell.execute_reply": "2022-11-01T17:17:17.804869Z"
    },
    "papermill": {
     "duration": 0.046366,
     "end_time": "2022-11-01T17:17:17.808806",
     "exception": false,
     "start_time": "2022-11-01T17:17:17.762440",
     "status": "completed"
    },
    "tags": []
   },
   "outputs": [
    {
     "name": "stdout",
     "output_type": "stream",
     "text": [
      "37.61971818059128\n"
     ]
    }
   ],
   "source": [
    "y_mean = df_reg[\"tempo_manutencao\"].mean()\n",
    "y_pred_mae = [y_mean] * len(df_reg)\n",
    "y_baseline = mean_absolute_error(df_reg[\"tempo_manutencao\"], y_pred_mae)\n",
    "print(y_baseline)"
   ]
  },
  {
   "cell_type": "markdown",
   "id": "f98b0f8d",
   "metadata": {
    "papermill": {
     "duration": 0.026285,
     "end_time": "2022-11-01T17:17:17.862887",
     "exception": false,
     "start_time": "2022-11-01T17:17:17.836602",
     "status": "completed"
    },
    "tags": []
   },
   "source": [
    "### A baseline do modelo é de 37.61 minutos"
   ]
  },
  {
   "cell_type": "markdown",
   "id": "b193ed6f",
   "metadata": {
    "papermill": {
     "duration": 0.026895,
     "end_time": "2022-11-01T17:17:17.917725",
     "exception": false,
     "start_time": "2022-11-01T17:17:17.890830",
     "status": "completed"
    },
    "tags": []
   },
   "source": [
    "## Train_test_split"
   ]
  },
  {
   "cell_type": "code",
   "execution_count": 62,
   "id": "dfbf48dc",
   "metadata": {
    "execution": {
     "iopub.execute_input": "2022-11-01T17:17:17.974950Z",
     "iopub.status.busy": "2022-11-01T17:17:17.974602Z",
     "iopub.status.idle": "2022-11-01T17:17:17.999367Z",
     "shell.execute_reply": "2022-11-01T17:17:17.998490Z"
    },
    "papermill": {
     "duration": 0.056632,
     "end_time": "2022-11-01T17:17:18.001813",
     "exception": false,
     "start_time": "2022-11-01T17:17:17.945181",
     "status": "completed"
    },
    "tags": []
   },
   "outputs": [],
   "source": [
    "X = df_reg[[\"consequencia\", \"equipamento\"]]\n",
    "y = df_reg[\"tempo_manutencao\"]\n",
    "X_train, X_test, y_train, y_test = train_test_split(X, y, test_size=0.2, random_state=42)"
   ]
  },
  {
   "cell_type": "markdown",
   "id": "f6ecf7e7",
   "metadata": {
    "papermill": {
     "duration": 0.027381,
     "end_time": "2022-11-01T17:17:18.056590",
     "exception": false,
     "start_time": "2022-11-01T17:17:18.029209",
     "status": "completed"
    },
    "tags": []
   },
   "source": [
    "## Definindo o modelo e fitando:"
   ]
  },
  {
   "cell_type": "code",
   "execution_count": 63,
   "id": "a5fc3d2c",
   "metadata": {
    "execution": {
     "iopub.execute_input": "2022-11-01T17:17:18.111881Z",
     "iopub.status.busy": "2022-11-01T17:17:18.111561Z",
     "iopub.status.idle": "2022-11-01T17:17:19.203464Z",
     "shell.execute_reply": "2022-11-01T17:17:19.202370Z"
    },
    "papermill": {
     "duration": 1.123577,
     "end_time": "2022-11-01T17:17:19.206878",
     "exception": false,
     "start_time": "2022-11-01T17:17:18.083301",
     "status": "completed"
    },
    "tags": []
   },
   "outputs": [
    {
     "data": {
      "text/html": [
       "<style>#sk-container-id-1 {\n",
       "  /* Definition of color scheme common for light and dark mode */\n",
       "  --sklearn-color-text: black;\n",
       "  --sklearn-color-line: gray;\n",
       "  /* Definition of color scheme for unfitted estimators */\n",
       "  --sklearn-color-unfitted-level-0: #fff5e6;\n",
       "  --sklearn-color-unfitted-level-1: #f6e4d2;\n",
       "  --sklearn-color-unfitted-level-2: #ffe0b3;\n",
       "  --sklearn-color-unfitted-level-3: chocolate;\n",
       "  /* Definition of color scheme for fitted estimators */\n",
       "  --sklearn-color-fitted-level-0: #f0f8ff;\n",
       "  --sklearn-color-fitted-level-1: #d4ebff;\n",
       "  --sklearn-color-fitted-level-2: #b3dbfd;\n",
       "  --sklearn-color-fitted-level-3: cornflowerblue;\n",
       "\n",
       "  /* Specific color for light theme */\n",
       "  --sklearn-color-text-on-default-background: var(--sg-text-color, var(--theme-code-foreground, var(--jp-content-font-color1, black)));\n",
       "  --sklearn-color-background: var(--sg-background-color, var(--theme-background, var(--jp-layout-color0, white)));\n",
       "  --sklearn-color-border-box: var(--sg-text-color, var(--theme-code-foreground, var(--jp-content-font-color1, black)));\n",
       "  --sklearn-color-icon: #696969;\n",
       "\n",
       "  @media (prefers-color-scheme: dark) {\n",
       "    /* Redefinition of color scheme for dark theme */\n",
       "    --sklearn-color-text-on-default-background: var(--sg-text-color, var(--theme-code-foreground, var(--jp-content-font-color1, white)));\n",
       "    --sklearn-color-background: var(--sg-background-color, var(--theme-background, var(--jp-layout-color0, #111)));\n",
       "    --sklearn-color-border-box: var(--sg-text-color, var(--theme-code-foreground, var(--jp-content-font-color1, white)));\n",
       "    --sklearn-color-icon: #878787;\n",
       "  }\n",
       "}\n",
       "\n",
       "#sk-container-id-1 {\n",
       "  color: var(--sklearn-color-text);\n",
       "}\n",
       "\n",
       "#sk-container-id-1 pre {\n",
       "  padding: 0;\n",
       "}\n",
       "\n",
       "#sk-container-id-1 input.sk-hidden--visually {\n",
       "  border: 0;\n",
       "  clip: rect(1px 1px 1px 1px);\n",
       "  clip: rect(1px, 1px, 1px, 1px);\n",
       "  height: 1px;\n",
       "  margin: -1px;\n",
       "  overflow: hidden;\n",
       "  padding: 0;\n",
       "  position: absolute;\n",
       "  width: 1px;\n",
       "}\n",
       "\n",
       "#sk-container-id-1 div.sk-dashed-wrapped {\n",
       "  border: 1px dashed var(--sklearn-color-line);\n",
       "  margin: 0 0.4em 0.5em 0.4em;\n",
       "  box-sizing: border-box;\n",
       "  padding-bottom: 0.4em;\n",
       "  background-color: var(--sklearn-color-background);\n",
       "}\n",
       "\n",
       "#sk-container-id-1 div.sk-container {\n",
       "  /* jupyter's `normalize.less` sets `[hidden] { display: none; }`\n",
       "     but bootstrap.min.css set `[hidden] { display: none !important; }`\n",
       "     so we also need the `!important` here to be able to override the\n",
       "     default hidden behavior on the sphinx rendered scikit-learn.org.\n",
       "     See: https://github.com/scikit-learn/scikit-learn/issues/21755 */\n",
       "  display: inline-block !important;\n",
       "  position: relative;\n",
       "}\n",
       "\n",
       "#sk-container-id-1 div.sk-text-repr-fallback {\n",
       "  display: none;\n",
       "}\n",
       "\n",
       "div.sk-parallel-item,\n",
       "div.sk-serial,\n",
       "div.sk-item {\n",
       "  /* draw centered vertical line to link estimators */\n",
       "  background-image: linear-gradient(var(--sklearn-color-text-on-default-background), var(--sklearn-color-text-on-default-background));\n",
       "  background-size: 2px 100%;\n",
       "  background-repeat: no-repeat;\n",
       "  background-position: center center;\n",
       "}\n",
       "\n",
       "/* Parallel-specific style estimator block */\n",
       "\n",
       "#sk-container-id-1 div.sk-parallel-item::after {\n",
       "  content: \"\";\n",
       "  width: 100%;\n",
       "  border-bottom: 2px solid var(--sklearn-color-text-on-default-background);\n",
       "  flex-grow: 1;\n",
       "}\n",
       "\n",
       "#sk-container-id-1 div.sk-parallel {\n",
       "  display: flex;\n",
       "  align-items: stretch;\n",
       "  justify-content: center;\n",
       "  background-color: var(--sklearn-color-background);\n",
       "  position: relative;\n",
       "}\n",
       "\n",
       "#sk-container-id-1 div.sk-parallel-item {\n",
       "  display: flex;\n",
       "  flex-direction: column;\n",
       "}\n",
       "\n",
       "#sk-container-id-1 div.sk-parallel-item:first-child::after {\n",
       "  align-self: flex-end;\n",
       "  width: 50%;\n",
       "}\n",
       "\n",
       "#sk-container-id-1 div.sk-parallel-item:last-child::after {\n",
       "  align-self: flex-start;\n",
       "  width: 50%;\n",
       "}\n",
       "\n",
       "#sk-container-id-1 div.sk-parallel-item:only-child::after {\n",
       "  width: 0;\n",
       "}\n",
       "\n",
       "/* Serial-specific style estimator block */\n",
       "\n",
       "#sk-container-id-1 div.sk-serial {\n",
       "  display: flex;\n",
       "  flex-direction: column;\n",
       "  align-items: center;\n",
       "  background-color: var(--sklearn-color-background);\n",
       "  padding-right: 1em;\n",
       "  padding-left: 1em;\n",
       "}\n",
       "\n",
       "\n",
       "/* Toggleable style: style used for estimator/Pipeline/ColumnTransformer box that is\n",
       "clickable and can be expanded/collapsed.\n",
       "- Pipeline and ColumnTransformer use this feature and define the default style\n",
       "- Estimators will overwrite some part of the style using the `sk-estimator` class\n",
       "*/\n",
       "\n",
       "/* Pipeline and ColumnTransformer style (default) */\n",
       "\n",
       "#sk-container-id-1 div.sk-toggleable {\n",
       "  /* Default theme specific background. It is overwritten whether we have a\n",
       "  specific estimator or a Pipeline/ColumnTransformer */\n",
       "  background-color: var(--sklearn-color-background);\n",
       "}\n",
       "\n",
       "/* Toggleable label */\n",
       "#sk-container-id-1 label.sk-toggleable__label {\n",
       "  cursor: pointer;\n",
       "  display: block;\n",
       "  width: 100%;\n",
       "  margin-bottom: 0;\n",
       "  padding: 0.5em;\n",
       "  box-sizing: border-box;\n",
       "  text-align: center;\n",
       "}\n",
       "\n",
       "#sk-container-id-1 label.sk-toggleable__label-arrow:before {\n",
       "  /* Arrow on the left of the label */\n",
       "  content: \"▸\";\n",
       "  float: left;\n",
       "  margin-right: 0.25em;\n",
       "  color: var(--sklearn-color-icon);\n",
       "}\n",
       "\n",
       "#sk-container-id-1 label.sk-toggleable__label-arrow:hover:before {\n",
       "  color: var(--sklearn-color-text);\n",
       "}\n",
       "\n",
       "/* Toggleable content - dropdown */\n",
       "\n",
       "#sk-container-id-1 div.sk-toggleable__content {\n",
       "  max-height: 0;\n",
       "  max-width: 0;\n",
       "  overflow: hidden;\n",
       "  text-align: left;\n",
       "  /* unfitted */\n",
       "  background-color: var(--sklearn-color-unfitted-level-0);\n",
       "}\n",
       "\n",
       "#sk-container-id-1 div.sk-toggleable__content.fitted {\n",
       "  /* fitted */\n",
       "  background-color: var(--sklearn-color-fitted-level-0);\n",
       "}\n",
       "\n",
       "#sk-container-id-1 div.sk-toggleable__content pre {\n",
       "  margin: 0.2em;\n",
       "  border-radius: 0.25em;\n",
       "  color: var(--sklearn-color-text);\n",
       "  /* unfitted */\n",
       "  background-color: var(--sklearn-color-unfitted-level-0);\n",
       "}\n",
       "\n",
       "#sk-container-id-1 div.sk-toggleable__content.fitted pre {\n",
       "  /* unfitted */\n",
       "  background-color: var(--sklearn-color-fitted-level-0);\n",
       "}\n",
       "\n",
       "#sk-container-id-1 input.sk-toggleable__control:checked~div.sk-toggleable__content {\n",
       "  /* Expand drop-down */\n",
       "  max-height: 200px;\n",
       "  max-width: 100%;\n",
       "  overflow: auto;\n",
       "}\n",
       "\n",
       "#sk-container-id-1 input.sk-toggleable__control:checked~label.sk-toggleable__label-arrow:before {\n",
       "  content: \"▾\";\n",
       "}\n",
       "\n",
       "/* Pipeline/ColumnTransformer-specific style */\n",
       "\n",
       "#sk-container-id-1 div.sk-label input.sk-toggleable__control:checked~label.sk-toggleable__label {\n",
       "  color: var(--sklearn-color-text);\n",
       "  background-color: var(--sklearn-color-unfitted-level-2);\n",
       "}\n",
       "\n",
       "#sk-container-id-1 div.sk-label.fitted input.sk-toggleable__control:checked~label.sk-toggleable__label {\n",
       "  background-color: var(--sklearn-color-fitted-level-2);\n",
       "}\n",
       "\n",
       "/* Estimator-specific style */\n",
       "\n",
       "/* Colorize estimator box */\n",
       "#sk-container-id-1 div.sk-estimator input.sk-toggleable__control:checked~label.sk-toggleable__label {\n",
       "  /* unfitted */\n",
       "  background-color: var(--sklearn-color-unfitted-level-2);\n",
       "}\n",
       "\n",
       "#sk-container-id-1 div.sk-estimator.fitted input.sk-toggleable__control:checked~label.sk-toggleable__label {\n",
       "  /* fitted */\n",
       "  background-color: var(--sklearn-color-fitted-level-2);\n",
       "}\n",
       "\n",
       "#sk-container-id-1 div.sk-label label.sk-toggleable__label,\n",
       "#sk-container-id-1 div.sk-label label {\n",
       "  /* The background is the default theme color */\n",
       "  color: var(--sklearn-color-text-on-default-background);\n",
       "}\n",
       "\n",
       "/* On hover, darken the color of the background */\n",
       "#sk-container-id-1 div.sk-label:hover label.sk-toggleable__label {\n",
       "  color: var(--sklearn-color-text);\n",
       "  background-color: var(--sklearn-color-unfitted-level-2);\n",
       "}\n",
       "\n",
       "/* Label box, darken color on hover, fitted */\n",
       "#sk-container-id-1 div.sk-label.fitted:hover label.sk-toggleable__label.fitted {\n",
       "  color: var(--sklearn-color-text);\n",
       "  background-color: var(--sklearn-color-fitted-level-2);\n",
       "}\n",
       "\n",
       "/* Estimator label */\n",
       "\n",
       "#sk-container-id-1 div.sk-label label {\n",
       "  font-family: monospace;\n",
       "  font-weight: bold;\n",
       "  display: inline-block;\n",
       "  line-height: 1.2em;\n",
       "}\n",
       "\n",
       "#sk-container-id-1 div.sk-label-container {\n",
       "  text-align: center;\n",
       "}\n",
       "\n",
       "/* Estimator-specific */\n",
       "#sk-container-id-1 div.sk-estimator {\n",
       "  font-family: monospace;\n",
       "  border: 1px dotted var(--sklearn-color-border-box);\n",
       "  border-radius: 0.25em;\n",
       "  box-sizing: border-box;\n",
       "  margin-bottom: 0.5em;\n",
       "  /* unfitted */\n",
       "  background-color: var(--sklearn-color-unfitted-level-0);\n",
       "}\n",
       "\n",
       "#sk-container-id-1 div.sk-estimator.fitted {\n",
       "  /* fitted */\n",
       "  background-color: var(--sklearn-color-fitted-level-0);\n",
       "}\n",
       "\n",
       "/* on hover */\n",
       "#sk-container-id-1 div.sk-estimator:hover {\n",
       "  /* unfitted */\n",
       "  background-color: var(--sklearn-color-unfitted-level-2);\n",
       "}\n",
       "\n",
       "#sk-container-id-1 div.sk-estimator.fitted:hover {\n",
       "  /* fitted */\n",
       "  background-color: var(--sklearn-color-fitted-level-2);\n",
       "}\n",
       "\n",
       "/* Specification for estimator info (e.g. \"i\" and \"?\") */\n",
       "\n",
       "/* Common style for \"i\" and \"?\" */\n",
       "\n",
       ".sk-estimator-doc-link,\n",
       "a:link.sk-estimator-doc-link,\n",
       "a:visited.sk-estimator-doc-link {\n",
       "  float: right;\n",
       "  font-size: smaller;\n",
       "  line-height: 1em;\n",
       "  font-family: monospace;\n",
       "  background-color: var(--sklearn-color-background);\n",
       "  border-radius: 1em;\n",
       "  height: 1em;\n",
       "  width: 1em;\n",
       "  text-decoration: none !important;\n",
       "  margin-left: 1ex;\n",
       "  /* unfitted */\n",
       "  border: var(--sklearn-color-unfitted-level-1) 1pt solid;\n",
       "  color: var(--sklearn-color-unfitted-level-1);\n",
       "}\n",
       "\n",
       ".sk-estimator-doc-link.fitted,\n",
       "a:link.sk-estimator-doc-link.fitted,\n",
       "a:visited.sk-estimator-doc-link.fitted {\n",
       "  /* fitted */\n",
       "  border: var(--sklearn-color-fitted-level-1) 1pt solid;\n",
       "  color: var(--sklearn-color-fitted-level-1);\n",
       "}\n",
       "\n",
       "/* On hover */\n",
       "div.sk-estimator:hover .sk-estimator-doc-link:hover,\n",
       ".sk-estimator-doc-link:hover,\n",
       "div.sk-label-container:hover .sk-estimator-doc-link:hover,\n",
       ".sk-estimator-doc-link:hover {\n",
       "  /* unfitted */\n",
       "  background-color: var(--sklearn-color-unfitted-level-3);\n",
       "  color: var(--sklearn-color-background);\n",
       "  text-decoration: none;\n",
       "}\n",
       "\n",
       "div.sk-estimator.fitted:hover .sk-estimator-doc-link.fitted:hover,\n",
       ".sk-estimator-doc-link.fitted:hover,\n",
       "div.sk-label-container:hover .sk-estimator-doc-link.fitted:hover,\n",
       ".sk-estimator-doc-link.fitted:hover {\n",
       "  /* fitted */\n",
       "  background-color: var(--sklearn-color-fitted-level-3);\n",
       "  color: var(--sklearn-color-background);\n",
       "  text-decoration: none;\n",
       "}\n",
       "\n",
       "/* Span, style for the box shown on hovering the info icon */\n",
       ".sk-estimator-doc-link span {\n",
       "  display: none;\n",
       "  z-index: 9999;\n",
       "  position: relative;\n",
       "  font-weight: normal;\n",
       "  right: .2ex;\n",
       "  padding: .5ex;\n",
       "  margin: .5ex;\n",
       "  width: min-content;\n",
       "  min-width: 20ex;\n",
       "  max-width: 50ex;\n",
       "  color: var(--sklearn-color-text);\n",
       "  box-shadow: 2pt 2pt 4pt #999;\n",
       "  /* unfitted */\n",
       "  background: var(--sklearn-color-unfitted-level-0);\n",
       "  border: .5pt solid var(--sklearn-color-unfitted-level-3);\n",
       "}\n",
       "\n",
       ".sk-estimator-doc-link.fitted span {\n",
       "  /* fitted */\n",
       "  background: var(--sklearn-color-fitted-level-0);\n",
       "  border: var(--sklearn-color-fitted-level-3);\n",
       "}\n",
       "\n",
       ".sk-estimator-doc-link:hover span {\n",
       "  display: block;\n",
       "}\n",
       "\n",
       "/* \"?\"-specific style due to the `<a>` HTML tag */\n",
       "\n",
       "#sk-container-id-1 a.estimator_doc_link {\n",
       "  float: right;\n",
       "  font-size: 1rem;\n",
       "  line-height: 1em;\n",
       "  font-family: monospace;\n",
       "  background-color: var(--sklearn-color-background);\n",
       "  border-radius: 1rem;\n",
       "  height: 1rem;\n",
       "  width: 1rem;\n",
       "  text-decoration: none;\n",
       "  /* unfitted */\n",
       "  color: var(--sklearn-color-unfitted-level-1);\n",
       "  border: var(--sklearn-color-unfitted-level-1) 1pt solid;\n",
       "}\n",
       "\n",
       "#sk-container-id-1 a.estimator_doc_link.fitted {\n",
       "  /* fitted */\n",
       "  border: var(--sklearn-color-fitted-level-1) 1pt solid;\n",
       "  color: var(--sklearn-color-fitted-level-1);\n",
       "}\n",
       "\n",
       "/* On hover */\n",
       "#sk-container-id-1 a.estimator_doc_link:hover {\n",
       "  /* unfitted */\n",
       "  background-color: var(--sklearn-color-unfitted-level-3);\n",
       "  color: var(--sklearn-color-background);\n",
       "  text-decoration: none;\n",
       "}\n",
       "\n",
       "#sk-container-id-1 a.estimator_doc_link.fitted:hover {\n",
       "  /* fitted */\n",
       "  background-color: var(--sklearn-color-fitted-level-3);\n",
       "}\n",
       "</style><div id=\"sk-container-id-1\" class=\"sk-top-container\"><div class=\"sk-text-repr-fallback\"><pre>Pipeline(steps=[(&#x27;onehotencoder&#x27;,\n",
       "                 OneHotEncoder(cols=[&#x27;consequencia&#x27;, &#x27;equipamento&#x27;],\n",
       "                               use_cat_names=True)),\n",
       "                (&#x27;ridge&#x27;, Ridge())])</pre><b>In a Jupyter environment, please rerun this cell to show the HTML representation or trust the notebook. <br />On GitHub, the HTML representation is unable to render, please try loading this page with nbviewer.org.</b></div><div class=\"sk-container\" hidden><div class=\"sk-item sk-dashed-wrapped\"><div class=\"sk-label-container\"><div class=\"sk-label fitted sk-toggleable\"><input class=\"sk-toggleable__control sk-hidden--visually\" id=\"sk-estimator-id-1\" type=\"checkbox\" ><label for=\"sk-estimator-id-1\" class=\"sk-toggleable__label fitted sk-toggleable__label-arrow fitted\">&nbsp;&nbsp;Pipeline<a class=\"sk-estimator-doc-link fitted\" rel=\"noreferrer\" target=\"_blank\" href=\"https://scikit-learn.org/1.5/modules/generated/sklearn.pipeline.Pipeline.html\">?<span>Documentation for Pipeline</span></a><span class=\"sk-estimator-doc-link fitted\">i<span>Fitted</span></span></label><div class=\"sk-toggleable__content fitted\"><pre>Pipeline(steps=[(&#x27;onehotencoder&#x27;,\n",
       "                 OneHotEncoder(cols=[&#x27;consequencia&#x27;, &#x27;equipamento&#x27;],\n",
       "                               use_cat_names=True)),\n",
       "                (&#x27;ridge&#x27;, Ridge())])</pre></div> </div></div><div class=\"sk-serial\"><div class=\"sk-item\"><div class=\"sk-estimator fitted sk-toggleable\"><input class=\"sk-toggleable__control sk-hidden--visually\" id=\"sk-estimator-id-2\" type=\"checkbox\" ><label for=\"sk-estimator-id-2\" class=\"sk-toggleable__label fitted sk-toggleable__label-arrow fitted\">OneHotEncoder</label><div class=\"sk-toggleable__content fitted\"><pre>OneHotEncoder(cols=[&#x27;consequencia&#x27;, &#x27;equipamento&#x27;], use_cat_names=True)</pre></div> </div></div><div class=\"sk-item\"><div class=\"sk-estimator fitted sk-toggleable\"><input class=\"sk-toggleable__control sk-hidden--visually\" id=\"sk-estimator-id-3\" type=\"checkbox\" ><label for=\"sk-estimator-id-3\" class=\"sk-toggleable__label fitted sk-toggleable__label-arrow fitted\">&nbsp;Ridge<a class=\"sk-estimator-doc-link fitted\" rel=\"noreferrer\" target=\"_blank\" href=\"https://scikit-learn.org/1.5/modules/generated/sklearn.linear_model.Ridge.html\">?<span>Documentation for Ridge</span></a></label><div class=\"sk-toggleable__content fitted\"><pre>Ridge()</pre></div> </div></div></div></div></div></div>"
      ],
      "text/plain": [
       "Pipeline(steps=[('onehotencoder',\n",
       "                 OneHotEncoder(cols=['consequencia', 'equipamento'],\n",
       "                               use_cat_names=True)),\n",
       "                ('ridge', Ridge())])"
      ]
     },
     "execution_count": 63,
     "metadata": {},
     "output_type": "execute_result"
    }
   ],
   "source": [
    "model = make_pipeline(OneHotEncoder(use_cat_names=True), Ridge())\n",
    "model.fit(X_train, y_train)"
   ]
  },
  {
   "cell_type": "markdown",
   "id": "29f86620",
   "metadata": {
    "papermill": {
     "duration": 0.025668,
     "end_time": "2022-11-01T17:17:19.338866",
     "exception": false,
     "start_time": "2022-11-01T17:17:19.313198",
     "status": "completed"
    },
    "tags": []
   },
   "source": [
    "## Verificando o MAE"
   ]
  },
  {
   "cell_type": "code",
   "execution_count": 64,
   "id": "cd2bca61",
   "metadata": {
    "execution": {
     "iopub.execute_input": "2022-11-01T17:17:19.392919Z",
     "iopub.status.busy": "2022-11-01T17:17:19.392578Z",
     "iopub.status.idle": "2022-11-01T17:17:19.857723Z",
     "shell.execute_reply": "2022-11-01T17:17:19.856210Z"
    },
    "papermill": {
     "duration": 0.497256,
     "end_time": "2022-11-01T17:17:19.862165",
     "exception": false,
     "start_time": "2022-11-01T17:17:19.364909",
     "status": "completed"
    },
    "tags": []
   },
   "outputs": [
    {
     "data": {
      "text/plain": [
       "np.float64(37.12265192239362)"
      ]
     },
     "execution_count": 64,
     "metadata": {},
     "output_type": "execute_result"
    }
   ],
   "source": [
    "mean_absolute_error(y_train, model.predict(X_train))"
   ]
  },
  {
   "cell_type": "markdown",
   "id": "bcb2adab",
   "metadata": {
    "papermill": {
     "duration": 0.046306,
     "end_time": "2022-11-01T17:17:19.979681",
     "exception": false,
     "start_time": "2022-11-01T17:17:19.933375",
     "status": "completed"
    },
    "tags": []
   },
   "source": [
    "### O modelo bate a Baseline"
   ]
  },
  {
   "cell_type": "code",
   "execution_count": 65,
   "id": "335a62ff",
   "metadata": {
    "execution": {
     "iopub.execute_input": "2022-11-01T17:17:20.034528Z",
     "iopub.status.busy": "2022-11-01T17:17:20.034136Z",
     "iopub.status.idle": "2022-11-01T17:17:20.160653Z",
     "shell.execute_reply": "2022-11-01T17:17:20.159352Z"
    },
    "papermill": {
     "duration": 0.15727,
     "end_time": "2022-11-01T17:17:20.163892",
     "exception": false,
     "start_time": "2022-11-01T17:17:20.006622",
     "status": "completed"
    },
    "tags": []
   },
   "outputs": [
    {
     "data": {
      "text/plain": [
       "np.float64(37.16089836627806)"
      ]
     },
     "execution_count": 65,
     "metadata": {},
     "output_type": "execute_result"
    }
   ],
   "source": [
    "mean_absolute_error(y_test, model.predict(X_test))"
   ]
  },
  {
   "cell_type": "code",
   "execution_count": 66,
   "id": "3818c79a",
   "metadata": {
    "execution": {
     "iopub.execute_input": "2022-11-01T17:17:20.288998Z",
     "iopub.status.busy": "2022-11-01T17:17:20.288632Z",
     "iopub.status.idle": "2022-11-01T17:17:20.294180Z",
     "shell.execute_reply": "2022-11-01T17:17:20.293228Z"
    },
    "papermill": {
     "duration": 0.061076,
     "end_time": "2022-11-01T17:17:20.296094",
     "exception": false,
     "start_time": "2022-11-01T17:17:20.235018",
     "status": "completed"
    },
    "tags": []
   },
   "outputs": [],
   "source": [
    "def make_prediction(consequencia, equipamento):\n",
    "    data = {\n",
    "        \"consequencia\": consequencia,\n",
    "        \"equipamento\": equipamento,\n",
    "    }\n",
    "    df = pd.DataFrame(data, index=[0])\n",
    "    prediction = model.predict(df)\n",
    "    return f\"O equipamento levará {prediction[0]:.2f} minutos para ficar pronto da manutenção\""
   ]
  },
  {
   "cell_type": "code",
   "execution_count": 67,
   "id": "1884af74",
   "metadata": {
    "execution": {
     "iopub.execute_input": "2022-11-01T17:17:20.352025Z",
     "iopub.status.busy": "2022-11-01T17:17:20.351471Z",
     "iopub.status.idle": "2022-11-01T17:17:20.428640Z",
     "shell.execute_reply": "2022-11-01T17:17:20.427962Z"
    },
    "papermill": {
     "duration": 0.108367,
     "end_time": "2022-11-01T17:17:20.431362",
     "exception": false,
     "start_time": "2022-11-01T17:17:20.322995",
     "status": "completed"
    },
    "tags": []
   },
   "outputs": [
    {
     "data": {
      "application/vnd.jupyter.widget-view+json": {
       "model_id": "492099d078944be5808cfce0a9342498",
       "version_major": 2,
       "version_minor": 0
      },
      "text/plain": [
       "interactive(children=(Dropdown(description='consequencia', options=('1', '2', '3'), value='1'), Dropdown(descr…"
      ]
     },
     "metadata": {},
     "output_type": "display_data"
    }
   ],
   "source": [
    "interact(\n",
    "    make_prediction,\n",
    "    consequencia=Dropdown(options=sorted(X_train[\"consequencia\"].unique())),\n",
    "    equipamento=Dropdown(options=sorted(X_train[\"equipamento\"].unique())),\n",
    ");"
   ]
  }
 ],
 "metadata": {
  "kernelspec": {
   "display_name": "Python 3",
   "language": "python",
   "name": "python3"
  },
  "language_info": {
   "codemirror_mode": {
    "name": "ipython",
    "version": 3
   },
   "file_extension": ".py",
   "mimetype": "text/x-python",
   "name": "python",
   "nbconvert_exporter": "python",
   "pygments_lexer": "ipython3",
   "version": "3.9.12"
  },
  "papermill": {
   "default_parameters": {},
   "duration": 74.941856,
   "end_time": "2022-11-01T17:17:21.381241",
   "environment_variables": {},
   "exception": null,
   "input_path": "__notebook__.ipynb",
   "output_path": "__notebook__.ipynb",
   "parameters": {},
   "start_time": "2022-11-01T17:16:06.439385",
   "version": "2.3.4"
  },
  "widgets": {
   "application/vnd.jupyter.widget-state+json": {
    "state": {
     "0421b8f454c549f08435f2ff89f07ce1": {
      "model_module": "@jupyter-widgets/base",
      "model_module_version": "1.2.0",
      "model_name": "LayoutModel",
      "state": {
       "_model_module": "@jupyter-widgets/base",
       "_model_module_version": "1.2.0",
       "_model_name": "LayoutModel",
       "_view_count": null,
       "_view_module": "@jupyter-widgets/base",
       "_view_module_version": "1.2.0",
       "_view_name": "LayoutView",
       "align_content": null,
       "align_items": null,
       "align_self": null,
       "border": null,
       "bottom": null,
       "display": null,
       "flex": null,
       "flex_flow": null,
       "grid_area": null,
       "grid_auto_columns": null,
       "grid_auto_flow": null,
       "grid_auto_rows": null,
       "grid_column": null,
       "grid_gap": null,
       "grid_row": null,
       "grid_template_areas": null,
       "grid_template_columns": null,
       "grid_template_rows": null,
       "height": null,
       "justify_content": null,
       "justify_items": null,
       "left": null,
       "margin": null,
       "max_height": null,
       "max_width": null,
       "min_height": null,
       "min_width": null,
       "object_fit": null,
       "object_position": null,
       "order": null,
       "overflow": null,
       "overflow_x": null,
       "overflow_y": null,
       "padding": null,
       "right": null,
       "top": null,
       "visibility": null,
       "width": null
      }
     },
     "19d0bd74fbe94ec3ac4da1d1ce96dae2": {
      "model_module": "@jupyter-widgets/controls",
      "model_module_version": "1.5.0",
      "model_name": "DropdownModel",
      "state": {
       "_dom_classes": [],
       "_model_module": "@jupyter-widgets/controls",
       "_model_module_version": "1.5.0",
       "_model_name": "DropdownModel",
       "_options_labels": [
        "Equipamento 1",
        "Equipamento 10",
        "Equipamento 100",
        "Equipamento 101",
        "Equipamento 102",
        "Equipamento 103",
        "Equipamento 105",
        "Equipamento 106",
        "Equipamento 109",
        "Equipamento 11",
        "Equipamento 111",
        "Equipamento 113",
        "Equipamento 114",
        "Equipamento 12",
        "Equipamento 120",
        "Equipamento 121",
        "Equipamento 13",
        "Equipamento 132",
        "Equipamento 137",
        "Equipamento 138",
        "Equipamento 14",
        "Equipamento 141",
        "Equipamento 142",
        "Equipamento 144",
        "Equipamento 145",
        "Equipamento 15",
        "Equipamento 151",
        "Equipamento 153",
        "Equipamento 154",
        "Equipamento 155",
        "Equipamento 158",
        "Equipamento 16",
        "Equipamento 160",
        "Equipamento 161",
        "Equipamento 162",
        "Equipamento 167",
        "Equipamento 168",
        "Equipamento 169",
        "Equipamento 17",
        "Equipamento 173",
        "Equipamento 174",
        "Equipamento 175",
        "Equipamento 176",
        "Equipamento 177",
        "Equipamento 18",
        "Equipamento 180",
        "Equipamento 181",
        "Equipamento 185",
        "Equipamento 19",
        "Equipamento 195",
        "Equipamento 2",
        "Equipamento 20",
        "Equipamento 202",
        "Equipamento 21",
        "Equipamento 214",
        "Equipamento 218",
        "Equipamento 22",
        "Equipamento 23",
        "Equipamento 24",
        "Equipamento 25",
        "Equipamento 26",
        "Equipamento 27",
        "Equipamento 28",
        "Equipamento 29",
        "Equipamento 3",
        "Equipamento 30",
        "Equipamento 31",
        "Equipamento 32",
        "Equipamento 33",
        "Equipamento 34",
        "Equipamento 35",
        "Equipamento 36",
        "Equipamento 37",
        "Equipamento 38",
        "Equipamento 39",
        "Equipamento 4",
        "Equipamento 40",
        "Equipamento 41",
        "Equipamento 43",
        "Equipamento 44",
        "Equipamento 45",
        "Equipamento 46",
        "Equipamento 48",
        "Equipamento 49",
        "Equipamento 50",
        "Equipamento 51",
        "Equipamento 52",
        "Equipamento 53",
        "Equipamento 54",
        "Equipamento 55",
        "Equipamento 56",
        "Equipamento 57",
        "Equipamento 58",
        "Equipamento 59",
        "Equipamento 60",
        "Equipamento 61",
        "Equipamento 62",
        "Equipamento 63",
        "Equipamento 64",
        "Equipamento 65",
        "Equipamento 66",
        "Equipamento 67",
        "Equipamento 70",
        "Equipamento 71",
        "Equipamento 72",
        "Equipamento 73",
        "Equipamento 74",
        "Equipamento 75",
        "Equipamento 76",
        "Equipamento 79",
        "Equipamento 8",
        "Equipamento 80",
        "Equipamento 82",
        "Equipamento 83",
        "Equipamento 84",
        "Equipamento 85",
        "Equipamento 86",
        "Equipamento 87",
        "Equipamento 88",
        "Equipamento 89",
        "Equipamento 9",
        "Equipamento 90",
        "Equipamento 91",
        "Equipamento 92",
        "Equipamento 94",
        "Equipamento 95",
        "Equipamento 96",
        "Equipamento 97",
        "Equipamento 98",
        "Equipamento 99"
       ],
       "_view_count": null,
       "_view_module": "@jupyter-widgets/controls",
       "_view_module_version": "1.5.0",
       "_view_name": "DropdownView",
       "description": "equipamento",
       "description_tooltip": null,
       "disabled": false,
       "index": 0,
       "layout": "IPY_MODEL_f589e3d24f5840979878963ee3733bbb",
       "style": "IPY_MODEL_6f41301b2c834751891dce16ba244211"
      }
     },
     "3ef20b578eab482594fc33464ed39f3f": {
      "model_module": "@jupyter-widgets/controls",
      "model_module_version": "1.5.0",
      "model_name": "DropdownModel",
      "state": {
       "_dom_classes": [],
       "_model_module": "@jupyter-widgets/controls",
       "_model_module_version": "1.5.0",
       "_model_name": "DropdownModel",
       "_options_labels": [
        "1",
        "2",
        "3"
       ],
       "_view_count": null,
       "_view_module": "@jupyter-widgets/controls",
       "_view_module_version": "1.5.0",
       "_view_name": "DropdownView",
       "description": "consequencia",
       "description_tooltip": null,
       "disabled": false,
       "index": 0,
       "layout": "IPY_MODEL_0421b8f454c549f08435f2ff89f07ce1",
       "style": "IPY_MODEL_cbccaa55dd1f44eaaba3878ce6c788e4"
      }
     },
     "53c39b659d91416d9ca42a692a6030e1": {
      "model_module": "@jupyter-widgets/base",
      "model_module_version": "1.2.0",
      "model_name": "LayoutModel",
      "state": {
       "_model_module": "@jupyter-widgets/base",
       "_model_module_version": "1.2.0",
       "_model_name": "LayoutModel",
       "_view_count": null,
       "_view_module": "@jupyter-widgets/base",
       "_view_module_version": "1.2.0",
       "_view_name": "LayoutView",
       "align_content": null,
       "align_items": null,
       "align_self": null,
       "border": null,
       "bottom": null,
       "display": null,
       "flex": null,
       "flex_flow": null,
       "grid_area": null,
       "grid_auto_columns": null,
       "grid_auto_flow": null,
       "grid_auto_rows": null,
       "grid_column": null,
       "grid_gap": null,
       "grid_row": null,
       "grid_template_areas": null,
       "grid_template_columns": null,
       "grid_template_rows": null,
       "height": null,
       "justify_content": null,
       "justify_items": null,
       "left": null,
       "margin": null,
       "max_height": null,
       "max_width": null,
       "min_height": null,
       "min_width": null,
       "object_fit": null,
       "object_position": null,
       "order": null,
       "overflow": null,
       "overflow_x": null,
       "overflow_y": null,
       "padding": null,
       "right": null,
       "top": null,
       "visibility": null,
       "width": null
      }
     },
     "6f41301b2c834751891dce16ba244211": {
      "model_module": "@jupyter-widgets/controls",
      "model_module_version": "1.5.0",
      "model_name": "DescriptionStyleModel",
      "state": {
       "_model_module": "@jupyter-widgets/controls",
       "_model_module_version": "1.5.0",
       "_model_name": "DescriptionStyleModel",
       "_view_count": null,
       "_view_module": "@jupyter-widgets/base",
       "_view_module_version": "1.2.0",
       "_view_name": "StyleView",
       "description_width": ""
      }
     },
     "935036e801cf4846915628f7b85f7e63": {
      "model_module": "@jupyter-widgets/base",
      "model_module_version": "1.2.0",
      "model_name": "LayoutModel",
      "state": {
       "_model_module": "@jupyter-widgets/base",
       "_model_module_version": "1.2.0",
       "_model_name": "LayoutModel",
       "_view_count": null,
       "_view_module": "@jupyter-widgets/base",
       "_view_module_version": "1.2.0",
       "_view_name": "LayoutView",
       "align_content": null,
       "align_items": null,
       "align_self": null,
       "border": null,
       "bottom": null,
       "display": null,
       "flex": null,
       "flex_flow": null,
       "grid_area": null,
       "grid_auto_columns": null,
       "grid_auto_flow": null,
       "grid_auto_rows": null,
       "grid_column": null,
       "grid_gap": null,
       "grid_row": null,
       "grid_template_areas": null,
       "grid_template_columns": null,
       "grid_template_rows": null,
       "height": null,
       "justify_content": null,
       "justify_items": null,
       "left": null,
       "margin": null,
       "max_height": null,
       "max_width": null,
       "min_height": null,
       "min_width": null,
       "object_fit": null,
       "object_position": null,
       "order": null,
       "overflow": null,
       "overflow_x": null,
       "overflow_y": null,
       "padding": null,
       "right": null,
       "top": null,
       "visibility": null,
       "width": null
      }
     },
     "cbccaa55dd1f44eaaba3878ce6c788e4": {
      "model_module": "@jupyter-widgets/controls",
      "model_module_version": "1.5.0",
      "model_name": "DescriptionStyleModel",
      "state": {
       "_model_module": "@jupyter-widgets/controls",
       "_model_module_version": "1.5.0",
       "_model_name": "DescriptionStyleModel",
       "_view_count": null,
       "_view_module": "@jupyter-widgets/base",
       "_view_module_version": "1.2.0",
       "_view_name": "StyleView",
       "description_width": ""
      }
     },
     "d3c813fa0fdc47179e1b92724dfbd0d9": {
      "model_module": "@jupyter-widgets/output",
      "model_module_version": "1.0.0",
      "model_name": "OutputModel",
      "state": {
       "_dom_classes": [],
       "_model_module": "@jupyter-widgets/output",
       "_model_module_version": "1.0.0",
       "_model_name": "OutputModel",
       "_view_count": null,
       "_view_module": "@jupyter-widgets/output",
       "_view_module_version": "1.0.0",
       "_view_name": "OutputView",
       "layout": "IPY_MODEL_935036e801cf4846915628f7b85f7e63",
       "msg_id": "",
       "outputs": [
        {
         "data": {
          "text/plain": "'O equipamento levará 47.78 minutos para ficar pronto da manutenção'"
         },
         "metadata": {},
         "output_type": "display_data"
        }
       ]
      }
     },
     "f589e3d24f5840979878963ee3733bbb": {
      "model_module": "@jupyter-widgets/base",
      "model_module_version": "1.2.0",
      "model_name": "LayoutModel",
      "state": {
       "_model_module": "@jupyter-widgets/base",
       "_model_module_version": "1.2.0",
       "_model_name": "LayoutModel",
       "_view_count": null,
       "_view_module": "@jupyter-widgets/base",
       "_view_module_version": "1.2.0",
       "_view_name": "LayoutView",
       "align_content": null,
       "align_items": null,
       "align_self": null,
       "border": null,
       "bottom": null,
       "display": null,
       "flex": null,
       "flex_flow": null,
       "grid_area": null,
       "grid_auto_columns": null,
       "grid_auto_flow": null,
       "grid_auto_rows": null,
       "grid_column": null,
       "grid_gap": null,
       "grid_row": null,
       "grid_template_areas": null,
       "grid_template_columns": null,
       "grid_template_rows": null,
       "height": null,
       "justify_content": null,
       "justify_items": null,
       "left": null,
       "margin": null,
       "max_height": null,
       "max_width": null,
       "min_height": null,
       "min_width": null,
       "object_fit": null,
       "object_position": null,
       "order": null,
       "overflow": null,
       "overflow_x": null,
       "overflow_y": null,
       "padding": null,
       "right": null,
       "top": null,
       "visibility": null,
       "width": null
      }
     },
     "f98d6ae5d858499db766bbe26e035429": {
      "model_module": "@jupyter-widgets/controls",
      "model_module_version": "1.5.0",
      "model_name": "VBoxModel",
      "state": {
       "_dom_classes": [
        "widget-interact"
       ],
       "_model_module": "@jupyter-widgets/controls",
       "_model_module_version": "1.5.0",
       "_model_name": "VBoxModel",
       "_view_count": null,
       "_view_module": "@jupyter-widgets/controls",
       "_view_module_version": "1.5.0",
       "_view_name": "VBoxView",
       "box_style": "",
       "children": [
        "IPY_MODEL_3ef20b578eab482594fc33464ed39f3f",
        "IPY_MODEL_19d0bd74fbe94ec3ac4da1d1ce96dae2",
        "IPY_MODEL_d3c813fa0fdc47179e1b92724dfbd0d9"
       ],
       "layout": "IPY_MODEL_53c39b659d91416d9ca42a692a6030e1"
      }
     }
    },
    "version_major": 2,
    "version_minor": 0
   }
  }
 },
 "nbformat": 4,
 "nbformat_minor": 5
}
